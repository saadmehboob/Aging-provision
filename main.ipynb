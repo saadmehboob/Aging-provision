{
 "cells": [
  {
   "cell_type": "markdown",
   "id": "b4dab971",
   "metadata": {},
   "source": [
    "Aging Provision Policy – Additional Provision Calculation \n",
    "\n",
    "Policy Overview\n",
    "To ensure prudent financial coverage, additional provisions are calculated for inventory in special categories, using the following rules:\n",
    "\n",
    "1. Damaged Inventory\n",
    "Provision Rate:\n",
    "100% of the net total cost of damaged stock.\n",
    "2. Leftover Inventory\n",
    "For Closed Brands:\n",
    "50% of the net total cost of leftover stock from brands that are closed.\n",
    "For Running Brands:\n",
    "15% of the net total cost of leftover stock from brands that are still operating.\n",
    "3. Closed Brands (Other Locations)\n",
    "Provision Rate:\n",
    "50% of the net total cost of stock from closed brands (excluding leftover and damaged locations).\n",
    "4. Exclusions\n",
    "No additional provision is made for inventory under consignment, guaranteed margin, or “Buying Pull - Mango” models.\n",
    "Summary:\n",
    "These additional provisions are applied on top of the standard aging policy to ensure adequate financial coverage for higher-risk inventory categories."
   ]
  },
  {
   "cell_type": "markdown",
   "id": "f8000600",
   "metadata": {},
   "source": [
    "1. update the closed brands status in the mapping file\n",
    "2. check the totals of the net cost throughout the steps to ensure the completness\n",
    "3. update the combinations in the combination file\n",
    "4. check missing standard brands in the mapping file and soh\n",
    "5. check std season and buckets in the checks section of the code\n",
    "6. update the parameters below\n",
    "7. check for garbage std season in the code\n",
    "8. ensure no duplicates in the combination[std brand name and location name] and mapping file [original brand name]\n",
    " "
   ]
  },
  {
   "cell_type": "code",
   "execution_count": 148,
   "id": "5c9a16cc",
   "metadata": {},
   "outputs": [],
   "source": [
    "import pandas as pd\n",
    "import numpy as np\n",
    "import os\n",
    "pd.options.display.float_format = '{:,.2f}'.format"
   ]
  },
  {
   "cell_type": "markdown",
   "id": "84970bfd",
   "metadata": {},
   "source": [
    "parameters"
   ]
  },
  {
   "cell_type": "code",
   "execution_count": 149,
   "id": "c5239e53",
   "metadata": {},
   "outputs": [
    {
     "data": {
      "text/plain": [
       "\"    'FLYING TIGER': 2\\n}\""
      ]
     },
     "execution_count": 149,
     "metadata": {},
     "output_type": "execute_result"
    }
   ],
   "source": [
    "\n",
    "SOH_File = 'SOH.xlsx'\n",
    "first_first_bucket_number_seasons = 5\n",
    "damage_percentage = 1\n",
    "leftover_running_percentage = .15\n",
    "leftover_closed_percentage = .5\n",
    "closed_percentage = .5\n",
    "\n",
    "brand_specific_provision = {}\n",
    "'''    'FLYING TIGER': 2\n",
    "}'''"
   ]
  },
  {
   "cell_type": "code",
   "execution_count": 150,
   "id": "adcc5989",
   "metadata": {},
   "outputs": [],
   "source": [
    "import re\n",
    "\n",
    "def season_sort_key(season):\n",
    "    if not isinstance(season, str) or len(season) < 4:\n",
    "        return (0, 0)  # Push unknowns to bottom\n",
    "\n",
    "    season_type = season[:2]  # 'AW' or 'SS'\n",
    "    year = int(season[-2:])\n",
    "\n",
    "    # AW should come *before* SS, so give it a higher priority\n",
    "    season_rank = 1 if season_type == \"AW\" else 0\n",
    "\n",
    "    return (year, season_rank)\n",
    "\n",
    "def standardize_season(raw_season):\n",
    "    if not isinstance(raw_season, str) or raw_season.strip() == \"\":\n",
    "        return \"Unknown\"\n",
    "\n",
    "    season = raw_season.strip().upper()\n",
    "\n",
    "    # --- Priority: continuity/old ---\n",
    "    if \"CONTINUITY\" in season or \"BASICS\" in season:\n",
    "        return \"Continuity\"\n",
    "\n",
    "    elif \"OLD\" in season:\n",
    "        return \"Old-\"\n",
    "\n",
    "    # --- 4-digit year + seasonal tag ---\n",
    "    year_match = re.search(r\"(20\\d{2})\", season)\n",
    "    if year_match:\n",
    "        year = year_match.group(1)[2:]  # Take last 2 digits, e.g., '2023' → '23'\n",
    "\n",
    "        if any(tag in season for tag in [\"SPRING\", \"SUMMER\", \"SS\"]):\n",
    "            return f\"SS{year}\"\n",
    "        elif any(tag in season for tag in [\"AUTUMN\", \"WINTER\", \"AW\"]):\n",
    "            return f\"AW{year}\"\n",
    "\n",
    "    # --- 2-digit season pattern like AW23, SS22 ---\n",
    "    match = re.search(r\"(SS|AW)(\\d{2})\", season)\n",
    "    if match:\n",
    "        return f\"{match.group(1)}{match.group(2)}\"\n",
    "\n",
    "    # --- WA fallback to AW ---\n",
    "    if \"WA\" in season:\n",
    "        match = re.search(r\"WA(\\d{2})\", season)\n",
    "        if match:\n",
    "            return f\"AW{match.group(1)}\"\n",
    "\n",
    "    # --- Last resort: any 2-digit year with best guess ---\n",
    "    match = re.search(r\"(\\d{2})\", season)\n",
    "    if match:\n",
    "        return f\"SS{match.group(1)}\"\n",
    "    \n",
    "    return \"Unknown\"  # default if nothing matches\n"
   ]
  },
  {
   "cell_type": "markdown",
   "id": "bc144dc1",
   "metadata": {},
   "source": [
    "aging provision as per policy"
   ]
  },
  {
   "cell_type": "code",
   "execution_count": 151,
   "id": "a93a0726",
   "metadata": {},
   "outputs": [
    {
     "name": "stderr",
     "output_type": "stream",
     "text": [
      "C:\\Users\\saad.qureshi\\AppData\\Local\\Temp\\ipykernel_14720\\4165021410.py:6: FutureWarning: A value is trying to be set on a copy of a DataFrame or Series through chained assignment using an inplace method.\n",
      "The behavior will change in pandas 3.0. This inplace method will never work because the intermediate object on which we are setting values always behaves as a copy.\n",
      "\n",
      "For example, when doing 'df[col].method(value, inplace=True)', try using 'df.method({col: value}, inplace=True)' or df[col] = df[col].method(value) instead, to perform the operation inplace on the original object.\n",
      "\n",
      "\n",
      "  soh['NETTOTAL_COST'].fillna(0, inplace=True)\n"
     ]
    },
    {
     "data": {
      "text/plain": [
       "409994773.34033996"
      ]
     },
     "execution_count": 151,
     "metadata": {},
     "output_type": "execute_result"
    }
   ],
   "source": [
    "soh = pd.read_excel(fr\"SOH/{SOH_File}\", sheet_name='Sheet1')\n",
    "soh = soh[(soh['GROUP_NAME'] != 'Aleph' )& (soh['AR Comments'] == 'Consider')]\n",
    "existing_balances = pd.read_excel(r'Existing Balances/current_balance.xlsx', sheet_name='Sheet1')\n",
    "mapping = pd.read_excel(r'Mapping & Combinations/mapping.xlsx', sheet_name='Sheet1')\n",
    "\n",
    "soh['NETTOTAL_COST'].fillna(0, inplace=True)\n",
    "soh['NETTOTAL_COST'] = pd.to_numeric(soh['NETTOTAL_COST'], errors='coerce')\n",
    "\n",
    "original_season = 'SEASON_DESC' if 'SEASON_DESC' in soh.columns else 'SEASON DESC'\n",
    "soh['NETTOTAL_COST'].sum()\n"
   ]
  },
  {
   "cell_type": "code",
   "execution_count": 152,
   "id": "e994e094",
   "metadata": {},
   "outputs": [],
   "source": [
    "combinations = pd.read_excel(r'Mapping & Combinations/combinations.xlsx', sheet_name='Sheet1')\n",
    "combinations = combinations.groupby(['LOCATION','Std Brand']).first().reset_index()"
   ]
  },
  {
   "cell_type": "code",
   "execution_count": 153,
   "id": "3711473f",
   "metadata": {},
   "outputs": [
    {
     "data": {
      "text/plain": [
       "399770902.63354"
      ]
     },
     "execution_count": 153,
     "metadata": {},
     "output_type": "execute_result"
    }
   ],
   "source": [
    "soh['GROUP_NAME'] = soh['GROUP_NAME'].str.upper()\n",
    "mapping['GROUP_NAME'] = mapping['GROUP_NAME'].str.upper()\n",
    "soh = soh.merge(mapping, on='GROUP_NAME', how='left')\n",
    "#soh['Std Brand'] = np.where(soh['Std Brand'].isna(), soh['GROUP_NAME'], soh['Std Brand'])\n",
    "soh = soh[(soh['Closed_status'] != 'Exit' )]\n",
    "soh['NETTOTAL_COST'].sum()"
   ]
  },
  {
   "cell_type": "code",
   "execution_count": 154,
   "id": "f3f55197",
   "metadata": {},
   "outputs": [
    {
     "data": {
      "text/plain": [
       "\"valid_brands = soh.groupby('Std Brand')['NETTOTAL_COST'].sum()\\nvalid_brands = valid_brands[valid_brands != 0].index\\n\\n# Step 2: filter original DataFrame\\nsoh = soh[soh['Std Brand'].isin(valid_brands)]\\nsoh['NETTOTAL_COST'].sum()\""
      ]
     },
     "execution_count": 154,
     "metadata": {},
     "output_type": "execute_result"
    }
   ],
   "source": [
    "'''valid_brands = soh.groupby('Std Brand')['NETTOTAL_COST'].sum()\n",
    "valid_brands = valid_brands[valid_brands != 0].index\n",
    "\n",
    "# Step 2: filter original DataFrame\n",
    "soh = soh[soh['Std Brand'].isin(valid_brands)]\n",
    "soh['NETTOTAL_COST'].sum()'''"
   ]
  },
  {
   "cell_type": "code",
   "execution_count": 155,
   "id": "abfa0678",
   "metadata": {},
   "outputs": [],
   "source": [
    "soh['std_season'] = soh[original_season].apply(standardize_season)"
   ]
  },
  {
   "cell_type": "code",
   "execution_count": 156,
   "id": "15e33afb",
   "metadata": {},
   "outputs": [],
   "source": [
    "excluded = {'Unknown', 'Continuity', 'Old-','AW97'}\n",
    "unique_season = [f for f in soh['std_season'].dropna().unique() if f not in excluded]"
   ]
  },
  {
   "cell_type": "code",
   "execution_count": 157,
   "id": "247a4230",
   "metadata": {},
   "outputs": [],
   "source": [
    "sorted_std_season_in_soh = sorted(unique_season, key=season_sort_key, reverse=True)"
   ]
  },
  {
   "cell_type": "code",
   "execution_count": 158,
   "id": "ee4b2cc8",
   "metadata": {},
   "outputs": [],
   "source": [
    "bucket1 = sorted_std_season_in_soh[:first_first_bucket_number_seasons]\n",
    "bucket2 = sorted_std_season_in_soh[first_first_bucket_number_seasons:first_first_bucket_number_seasons + 3]\n",
    "bucket3 = sorted_std_season_in_soh[first_first_bucket_number_seasons+3:first_first_bucket_number_seasons + 6] \n",
    "bucket4 = sorted_std_season_in_soh[first_first_bucket_number_seasons + 6:]"
   ]
  },
  {
   "cell_type": "code",
   "execution_count": 159,
   "id": "31f5dc24",
   "metadata": {},
   "outputs": [
    {
     "data": {
      "text/plain": [
       "['AW25', 'SS25', 'AW24', 'SS24', 'AW23']"
      ]
     },
     "execution_count": 159,
     "metadata": {},
     "output_type": "execute_result"
    }
   ],
   "source": [
    "bucket1"
   ]
  },
  {
   "cell_type": "code",
   "execution_count": 160,
   "id": "1851fa91",
   "metadata": {},
   "outputs": [],
   "source": [
    "bucket1 =   bucket1 + ['Unknown','Continuity'] \n",
    "bucket4 = bucket4 + [  'Old-','AW97'] "
   ]
  },
  {
   "cell_type": "code",
   "execution_count": 161,
   "id": "388f836e",
   "metadata": {},
   "outputs": [],
   "source": [
    "\n",
    "conditions = [\n",
    "    soh['std_season'].isin(bucket1),\n",
    "    soh['std_season'].isin(bucket2),\n",
    "    soh['std_season'].isin(bucket3)\n",
    "]\n",
    "\n",
    "choices = ['bucket1', 'bucket2', 'bucket3']\n",
    "\n",
    "soh['season_bucket'] = np.select(conditions, choices, default='bucket4')"
   ]
  },
  {
   "cell_type": "code",
   "execution_count": 162,
   "id": "1c72e345",
   "metadata": {},
   "outputs": [],
   "source": [
    "soh['Continuity_factor'] = 0.40\n",
    "soh['provision_%_policy'] = soh['season_bucket'].map({\n",
    "    'bucket1': 0,\n",
    "    'bucket2': 0.15,\n",
    "    'bucket3': 0.50,\n",
    "    'bucket4': 0.75  # Assuming bucket4 is the default for other buckets\n",
    "\n",
    "})  # Or any default value for other buckets like 'bucket3', 'bucket4'"
   ]
  },
  {
   "cell_type": "code",
   "execution_count": 163,
   "id": "3c227751",
   "metadata": {},
   "outputs": [],
   "source": [
    "\n",
    "soh.loc[\n",
    "    soh['Model'].isin([\n",
    "        'Consignment',\n",
    "        'Guaranteed Margin',\n",
    "        'Buying Pull - Mango'\n",
    "    ]),\n",
    "    ['provision_amount_policy', 'provision_%_policy', 'Continuity_factor']\n",
    "] = 0\n",
    "\n",
    "soh['provision_amount_policy'] = soh['NETTOTAL_COST'] * soh['provision_%_policy'] * soh['Continuity_factor']"
   ]
  },
  {
   "cell_type": "markdown",
   "id": "9fd0f95b",
   "metadata": {},
   "source": [
    "Damage locations\n"
   ]
  },
  {
   "cell_type": "code",
   "execution_count": 164,
   "id": "5b7343ae",
   "metadata": {},
   "outputs": [],
   "source": [
    "soh['location_catergory'] = \"Store, Online & WH\"\n",
    "\n",
    "soh.loc[\n",
    "    soh['LOCATION_NAME'].astype(str).str.lower().str.contains('leftover', na=False),\n",
    "    \"location_catergory\"\n",
    "] = \"Leftover\"\n",
    "soh.loc[soh['LOCATION_NAME'].astype(str).str.lower().str.contains('damage', na=False),\"location_catergory\"] = \"Damage\"\n",
    "soh.loc[soh['LOCATION_NAME'].astype(str).str.lower().str.contains('sulay', na=False),\"location_catergory\"] = \"Leftover\""
   ]
  },
  {
   "cell_type": "code",
   "execution_count": 165,
   "id": "fcc62ad6",
   "metadata": {},
   "outputs": [],
   "source": [
    "condition = soh['location_catergory'] == \"Damage\"  \n",
    "\n",
    "\n",
    "soh.loc[condition, 'additional_provision'] = (soh[\"NETTOTAL_COST\"] * damage_percentage) - soh['provision_amount_policy']\n",
    "\n"
   ]
  },
  {
   "cell_type": "markdown",
   "id": "da7c552c",
   "metadata": {},
   "source": [
    "Leftover"
   ]
  },
  {
   "cell_type": "code",
   "execution_count": 166,
   "id": "f915be27",
   "metadata": {},
   "outputs": [],
   "source": [
    "\n",
    "#Leftover of the closed brands\n",
    "condition =(\n",
    "    (soh['Closed_status'] == \"Closed\") & \n",
    "    ( soh['location_catergory'] == \"Leftover\" ) \n",
    "    ) \n",
    "\n",
    "soh.loc[condition, 'additional_provision'] = (soh[\"NETTOTAL_COST\"] * leftover_closed_percentage) - soh['provision_amount_policy']\n",
    "\n",
    "condition =(\n",
    "    (soh['Closed_status'] != \"Closed\") & \n",
    "    ( soh['location_catergory'] == \"Leftover\" ) \n",
    "    ) \n",
    "\n",
    "soh.loc[condition, 'additional_provision'] = (soh[\"NETTOTAL_COST\"] * leftover_running_percentage) - soh['provision_amount_policy']\n"
   ]
  },
  {
   "cell_type": "markdown",
   "id": "93bd7031",
   "metadata": {},
   "source": [
    "Closed brands"
   ]
  },
  {
   "cell_type": "code",
   "execution_count": 167,
   "id": "bdfcfc82",
   "metadata": {},
   "outputs": [],
   "source": [
    "condition = (\n",
    "    (soh['Closed_status'] == \"Closed\") & \n",
    "    (~soh['location_catergory'].isin([\"Leftover\",\"Damage\"] )) \n",
    "    )\n",
    "soh.loc[condition, 'additional_provision'] =    (soh[\"NETTOTAL_COST\"] * closed_percentage) - soh['provision_amount_policy']"
   ]
  },
  {
   "cell_type": "markdown",
   "id": "4c3bc9d2",
   "metadata": {},
   "source": [
    "Brand specific provisions"
   ]
  },
  {
   "cell_type": "code",
   "execution_count": 168,
   "id": "4fb9f149",
   "metadata": {},
   "outputs": [],
   "source": [
    "if brand_specific_provision:\n",
    "    soh['additional_provision'] = np.where(\n",
    "        soh['Std Brand'].isin(brand_specific_provision.keys()),\n",
    "        soh['NETTOTAL_COST'] * soh['Std Brand'].map(brand_specific_provision) - soh['provision_amount_policy'],\n",
    "        soh['additional_provision']\n",
    "    )"
   ]
  },
  {
   "cell_type": "markdown",
   "id": "7b077287",
   "metadata": {},
   "source": [
    "removing the consginement and gurantee margin provision"
   ]
  },
  {
   "cell_type": "code",
   "execution_count": 169,
   "id": "13c27072",
   "metadata": {},
   "outputs": [],
   "source": [
    "soh.loc[\n",
    "    soh['Model'].isin([\n",
    "        'Consignment',\n",
    "        'Guaranteed Margin',\n",
    "        'Buying Pull - Mango'\n",
    "    ]),\n",
    "    ['provision_amount_policy', 'provision_%_policy', 'Continuity_factor','additional_provision']\n",
    "] = 0\n",
    "\n",
    "soh['provision_amount_policy'] = soh['provision_amount_policy'].fillna(0)\n",
    "soh['additional_provision'] = soh['additional_provision'].fillna(0)\n",
    "\n",
    "\n",
    "soh['Total Provision'] = soh['provision_amount_policy'] + soh['additional_provision']"
   ]
  },
  {
   "cell_type": "code",
   "execution_count": 170,
   "id": "7fc4ffd4",
   "metadata": {},
   "outputs": [],
   "source": [
    "soh.to_csv(r\"Output/aging_provision.csv\")"
   ]
  },
  {
   "cell_type": "markdown",
   "id": "92dc6bb5",
   "metadata": {},
   "source": [
    "Summary"
   ]
  },
  {
   "cell_type": "code",
   "execution_count": 171,
   "id": "dbdd2c7d",
   "metadata": {},
   "outputs": [],
   "source": [
    "summary = soh.groupby(by='Std Brand')[[\"NETTOTAL_COST\",'provision_amount_policy','additional_provision','Total Provision']].sum()\n",
    "summary['coverage'] = summary['Total Provision'] / summary['NETTOTAL_COST']\n"
   ]
  },
  {
   "cell_type": "markdown",
   "id": "5fc10c26",
   "metadata": {},
   "source": [
    "Combinations"
   ]
  },
  {
   "cell_type": "code",
   "execution_count": 172,
   "id": "7584f043",
   "metadata": {},
   "outputs": [],
   "source": [
    "soh_with_combinations = soh.merge(combinations, on=['Std Brand','LOCATION'], how='left')\n",
    "soh_with_combinations[['s1', 's2', 's3', 's4']]= soh_with_combinations[['s1', 's2', 's3', 's4']].fillna(0)\n",
    "soh_with_combinations.to_excel(r\"Output/aging_provision_combinations.xlsx\", index=False)"
   ]
  },
  {
   "cell_type": "markdown",
   "id": "de7d4b30",
   "metadata": {},
   "source": [
    "Preparation of the entry"
   ]
  },
  {
   "cell_type": "code",
   "execution_count": 173,
   "id": "6ff2e7aa",
   "metadata": {},
   "outputs": [
    {
     "data": {
      "text/plain": [
       "42933354.7203258"
      ]
     },
     "execution_count": 173,
     "metadata": {},
     "output_type": "execute_result"
    }
   ],
   "source": [
    "soh_with_combinations['Total Provision'].sum()"
   ]
  },
  {
   "cell_type": "code",
   "execution_count": 174,
   "id": "c2d966b2",
   "metadata": {},
   "outputs": [],
   "source": [
    "entry = soh_with_combinations.groupby([\"s1\",\"s2\",\"s3\",\"s4\"])['Total Provision'].sum().reset_index().fillna(0)\n",
    "entry['s5'] = 63002\n"
   ]
  },
  {
   "cell_type": "code",
   "execution_count": 175,
   "id": "ec7efe8d",
   "metadata": {},
   "outputs": [
    {
     "data": {
      "text/plain": [
       "42933354.7203258"
      ]
     },
     "execution_count": 175,
     "metadata": {},
     "output_type": "execute_result"
    }
   ],
   "source": [
    "entry['Total Provision'].sum()"
   ]
  },
  {
   "cell_type": "code",
   "execution_count": 176,
   "id": "fab96412",
   "metadata": {},
   "outputs": [],
   "source": [
    "entry2 = entry.copy()\n",
    "entry2['Total Provision'] = entry2['Total Provision'] * -1\n",
    "entry2['s5'] = 23993"
   ]
  },
  {
   "cell_type": "code",
   "execution_count": 177,
   "id": "5f60a2fa",
   "metadata": {},
   "outputs": [],
   "source": [
    "completed_entry = pd.concat([entry, entry2], ignore_index=True)\n",
    "completed_entry.rename(columns={'Total Provision': 'Dr/(CR)'}, inplace=True)\n",
    "completed_entry = completed_entry[completed_entry['Dr/(CR)'] != 0]"
   ]
  },
  {
   "cell_type": "code",
   "execution_count": 178,
   "id": "aaabb4af",
   "metadata": {},
   "outputs": [],
   "source": [
    "completed_entry[['s1', 's2', 's3', 's4', 's5','Dr/(CR)']].to_csv(r\"Output/completed_entry.csv\", index=False)"
   ]
  },
  {
   "cell_type": "markdown",
   "id": "c78886bd",
   "metadata": {},
   "source": [
    "difference entry"
   ]
  },
  {
   "cell_type": "code",
   "execution_count": 179,
   "id": "fd5a59f7",
   "metadata": {},
   "outputs": [],
   "source": [
    "diff_table = soh_with_combinations.groupby([\"s1\",\"s2\",\"s3\",\"s4\"])['Total Provision'].sum().reset_index().fillna(0).merge(existing_balances, on=['s1','s2','s3','s4'], how='outer').fillna(0)"
   ]
  },
  {
   "cell_type": "code",
   "execution_count": 180,
   "id": "46896222",
   "metadata": {},
   "outputs": [],
   "source": [
    "diff_table['Dr/(CR)'] = (diff_table['Total Provision'] + diff_table['Closing balance'])*-1\n",
    "diff_table.drop(['Closing balance','Total Provision'], inplace=True,axis=1)"
   ]
  },
  {
   "cell_type": "code",
   "execution_count": 181,
   "id": "6a55dd6f",
   "metadata": {},
   "outputs": [],
   "source": [
    "diff_table['s5'] = 23993"
   ]
  },
  {
   "cell_type": "code",
   "execution_count": 182,
   "id": "5773c097",
   "metadata": {},
   "outputs": [],
   "source": [
    "diff_table2 = diff_table.copy()\n",
    "diff_table2['Dr/(CR)'] = diff_table2['Dr/(CR)'] * -1\n",
    "diff_table2['s5'] = 63002"
   ]
  },
  {
   "cell_type": "code",
   "execution_count": 183,
   "id": "a204c4ea",
   "metadata": {},
   "outputs": [],
   "source": [
    "diff_entry = pd.concat([diff_table, diff_table2], ignore_index=True)\n",
    "#diff_entry.rename(columns={'Total Provision': 'Dr/(CR)'}, inplace=True)\n",
    "diff_entry = diff_entry[diff_entry['Dr/(CR)'] != 0]"
   ]
  },
  {
   "cell_type": "code",
   "execution_count": 184,
   "id": "31807132",
   "metadata": {},
   "outputs": [],
   "source": [
    "diff_entry[['s1', 's2', 's3', 's4', 's5','Dr/(CR)']].to_csv(r\"Output/diff_entry.csv\", index=False)"
   ]
  },
  {
   "cell_type": "markdown",
   "id": "e0c143c7",
   "metadata": {},
   "source": [
    "Analysis"
   ]
  },
  {
   "cell_type": "code",
   "execution_count": 185,
   "id": "4562d8d9",
   "metadata": {},
   "outputs": [
    {
     "data": {
      "application/vnd.microsoft.datawrangler.viewer.v0+json": {
       "columns": [
        {
         "name": "Std Brand",
         "rawType": "object",
         "type": "string"
        },
        {
         "name": "NETTOTAL_COST",
         "rawType": "float64",
         "type": "float"
        },
        {
         "name": "Total Provision",
         "rawType": "float64",
         "type": "float"
        },
        {
         "name": "coverage",
         "rawType": "float64",
         "type": "float"
        }
       ],
       "ref": "7cffba7d-1a67-471b-82b3-a818f118ecb3",
       "rows": [
        [
         "ALO YOGA",
         "23730.112",
         "23730.112",
         "1.0"
        ],
        [
         "BERSHKA",
         "693344.7302",
         "693344.7302",
         "1.0"
        ],
        [
         "CLARKS",
         "64129.72",
         "64129.72",
         "1.0"
        ],
        [
         "DESIGUAL",
         "4884.041",
         "0.0",
         "0.0"
        ],
        [
         "FG4 KIDS",
         "179666.2232",
         "179666.2232",
         "1.0"
        ],
        [
         "FG4 WOMEN",
         "260973.892",
         "260973.892",
         "1.0"
        ],
        [
         "FLYING TIGER",
         "864.1035",
         "864.1035",
         "1.0"
        ],
        [
         "GAP",
         "87595.1068",
         "87595.1068",
         "1.0"
        ],
        [
         "JACADI",
         "32817.427899999995",
         "0.0",
         "0.0"
        ],
        [
         "KIKO",
         "0.0",
         "0.0",
         null
        ],
        [
         "LC Waikiki",
         "9022.9362",
         "9022.9362",
         "1.0"
        ],
        [
         "LEFTIES",
         "723519.0295000001",
         "723519.0295000001",
         "1.0"
        ],
        [
         "LOCAL PERFUMES",
         "2689.904",
         "2689.904",
         "1.0"
        ],
        [
         "MASSIMO DUTTI",
         "240479.2717",
         "240479.2717",
         "1.0"
        ],
        [
         "MAYORAL",
         "23565.6575",
         "23565.6575",
         "1.0"
        ],
        [
         "NATURE REPUBLIC",
         "2676.556",
         "2676.556",
         "1.0"
        ],
        [
         "NEW YORKER",
         "98046.07920000001",
         "0.0",
         "0.0"
        ],
        [
         "OKAIDI",
         "168673.26",
         "0.0",
         "0.0"
        ],
        [
         "OYSHO",
         "164964.7386",
         "164964.7386",
         "1.0"
        ],
        [
         "PANCO",
         "55177.494399999996",
         "0.0",
         "0.0"
        ],
        [
         "PUBLIC DESIRE",
         "25506.510000000002",
         "25506.510000000002",
         "1.0"
        ],
        [
         "PULL AND BEAR",
         "494325.71619999997",
         "494325.71619999997",
         "1.0"
        ],
        [
         "SERGENT MAJOR",
         "45237.4675",
         "0.0",
         "0.0"
        ],
        [
         "SFERA",
         "38810.7888",
         "38810.7888",
         "1.0"
        ],
        [
         "STRADIVARIOUS",
         "274287.1097",
         "274287.1097",
         "1.0"
        ],
        [
         "THE CHILDREN'S PLACE",
         "6731.4331999999995",
         "6731.4331999999995",
         "1.0"
        ],
        [
         "US POLO",
         "0.0",
         "0.0",
         null
        ],
        [
         "ZARA",
         "3336725.0403",
         "3336725.0403",
         "1.0"
        ],
        [
         "ZARA HOME",
         "336280.9948",
         "336280.9948",
         "1.0"
        ]
       ],
       "shape": {
        "columns": 3,
        "rows": 29
       }
      },
      "text/html": [
       "<div>\n",
       "<style scoped>\n",
       "    .dataframe tbody tr th:only-of-type {\n",
       "        vertical-align: middle;\n",
       "    }\n",
       "\n",
       "    .dataframe tbody tr th {\n",
       "        vertical-align: top;\n",
       "    }\n",
       "\n",
       "    .dataframe thead th {\n",
       "        text-align: right;\n",
       "    }\n",
       "</style>\n",
       "<table border=\"1\" class=\"dataframe\">\n",
       "  <thead>\n",
       "    <tr style=\"text-align: right;\">\n",
       "      <th></th>\n",
       "      <th>NETTOTAL_COST</th>\n",
       "      <th>Total Provision</th>\n",
       "      <th>coverage</th>\n",
       "    </tr>\n",
       "    <tr>\n",
       "      <th>Std Brand</th>\n",
       "      <th></th>\n",
       "      <th></th>\n",
       "      <th></th>\n",
       "    </tr>\n",
       "  </thead>\n",
       "  <tbody>\n",
       "    <tr>\n",
       "      <th>ALO YOGA</th>\n",
       "      <td>23,730.11</td>\n",
       "      <td>23,730.11</td>\n",
       "      <td>1.00</td>\n",
       "    </tr>\n",
       "    <tr>\n",
       "      <th>BERSHKA</th>\n",
       "      <td>693,344.73</td>\n",
       "      <td>693,344.73</td>\n",
       "      <td>1.00</td>\n",
       "    </tr>\n",
       "    <tr>\n",
       "      <th>CLARKS</th>\n",
       "      <td>64,129.72</td>\n",
       "      <td>64,129.72</td>\n",
       "      <td>1.00</td>\n",
       "    </tr>\n",
       "    <tr>\n",
       "      <th>DESIGUAL</th>\n",
       "      <td>4,884.04</td>\n",
       "      <td>0.00</td>\n",
       "      <td>0.00</td>\n",
       "    </tr>\n",
       "    <tr>\n",
       "      <th>FG4 KIDS</th>\n",
       "      <td>179,666.22</td>\n",
       "      <td>179,666.22</td>\n",
       "      <td>1.00</td>\n",
       "    </tr>\n",
       "    <tr>\n",
       "      <th>FG4 WOMEN</th>\n",
       "      <td>260,973.89</td>\n",
       "      <td>260,973.89</td>\n",
       "      <td>1.00</td>\n",
       "    </tr>\n",
       "    <tr>\n",
       "      <th>FLYING TIGER</th>\n",
       "      <td>864.10</td>\n",
       "      <td>864.10</td>\n",
       "      <td>1.00</td>\n",
       "    </tr>\n",
       "    <tr>\n",
       "      <th>GAP</th>\n",
       "      <td>87,595.11</td>\n",
       "      <td>87,595.11</td>\n",
       "      <td>1.00</td>\n",
       "    </tr>\n",
       "    <tr>\n",
       "      <th>JACADI</th>\n",
       "      <td>32,817.43</td>\n",
       "      <td>0.00</td>\n",
       "      <td>0.00</td>\n",
       "    </tr>\n",
       "    <tr>\n",
       "      <th>KIKO</th>\n",
       "      <td>0.00</td>\n",
       "      <td>0.00</td>\n",
       "      <td>NaN</td>\n",
       "    </tr>\n",
       "    <tr>\n",
       "      <th>LC Waikiki</th>\n",
       "      <td>9,022.94</td>\n",
       "      <td>9,022.94</td>\n",
       "      <td>1.00</td>\n",
       "    </tr>\n",
       "    <tr>\n",
       "      <th>LEFTIES</th>\n",
       "      <td>723,519.03</td>\n",
       "      <td>723,519.03</td>\n",
       "      <td>1.00</td>\n",
       "    </tr>\n",
       "    <tr>\n",
       "      <th>LOCAL PERFUMES</th>\n",
       "      <td>2,689.90</td>\n",
       "      <td>2,689.90</td>\n",
       "      <td>1.00</td>\n",
       "    </tr>\n",
       "    <tr>\n",
       "      <th>MASSIMO DUTTI</th>\n",
       "      <td>240,479.27</td>\n",
       "      <td>240,479.27</td>\n",
       "      <td>1.00</td>\n",
       "    </tr>\n",
       "    <tr>\n",
       "      <th>MAYORAL</th>\n",
       "      <td>23,565.66</td>\n",
       "      <td>23,565.66</td>\n",
       "      <td>1.00</td>\n",
       "    </tr>\n",
       "    <tr>\n",
       "      <th>NATURE REPUBLIC</th>\n",
       "      <td>2,676.56</td>\n",
       "      <td>2,676.56</td>\n",
       "      <td>1.00</td>\n",
       "    </tr>\n",
       "    <tr>\n",
       "      <th>NEW YORKER</th>\n",
       "      <td>98,046.08</td>\n",
       "      <td>0.00</td>\n",
       "      <td>0.00</td>\n",
       "    </tr>\n",
       "    <tr>\n",
       "      <th>OKAIDI</th>\n",
       "      <td>168,673.26</td>\n",
       "      <td>0.00</td>\n",
       "      <td>0.00</td>\n",
       "    </tr>\n",
       "    <tr>\n",
       "      <th>OYSHO</th>\n",
       "      <td>164,964.74</td>\n",
       "      <td>164,964.74</td>\n",
       "      <td>1.00</td>\n",
       "    </tr>\n",
       "    <tr>\n",
       "      <th>PANCO</th>\n",
       "      <td>55,177.49</td>\n",
       "      <td>0.00</td>\n",
       "      <td>0.00</td>\n",
       "    </tr>\n",
       "    <tr>\n",
       "      <th>PUBLIC DESIRE</th>\n",
       "      <td>25,506.51</td>\n",
       "      <td>25,506.51</td>\n",
       "      <td>1.00</td>\n",
       "    </tr>\n",
       "    <tr>\n",
       "      <th>PULL AND BEAR</th>\n",
       "      <td>494,325.72</td>\n",
       "      <td>494,325.72</td>\n",
       "      <td>1.00</td>\n",
       "    </tr>\n",
       "    <tr>\n",
       "      <th>SERGENT MAJOR</th>\n",
       "      <td>45,237.47</td>\n",
       "      <td>0.00</td>\n",
       "      <td>0.00</td>\n",
       "    </tr>\n",
       "    <tr>\n",
       "      <th>SFERA</th>\n",
       "      <td>38,810.79</td>\n",
       "      <td>38,810.79</td>\n",
       "      <td>1.00</td>\n",
       "    </tr>\n",
       "    <tr>\n",
       "      <th>STRADIVARIOUS</th>\n",
       "      <td>274,287.11</td>\n",
       "      <td>274,287.11</td>\n",
       "      <td>1.00</td>\n",
       "    </tr>\n",
       "    <tr>\n",
       "      <th>THE CHILDREN'S PLACE</th>\n",
       "      <td>6,731.43</td>\n",
       "      <td>6,731.43</td>\n",
       "      <td>1.00</td>\n",
       "    </tr>\n",
       "    <tr>\n",
       "      <th>US POLO</th>\n",
       "      <td>0.00</td>\n",
       "      <td>0.00</td>\n",
       "      <td>NaN</td>\n",
       "    </tr>\n",
       "    <tr>\n",
       "      <th>ZARA</th>\n",
       "      <td>3,336,725.04</td>\n",
       "      <td>3,336,725.04</td>\n",
       "      <td>1.00</td>\n",
       "    </tr>\n",
       "    <tr>\n",
       "      <th>ZARA HOME</th>\n",
       "      <td>336,280.99</td>\n",
       "      <td>336,280.99</td>\n",
       "      <td>1.00</td>\n",
       "    </tr>\n",
       "  </tbody>\n",
       "</table>\n",
       "</div>"
      ],
      "text/plain": [
       "                      NETTOTAL_COST  Total Provision  coverage\n",
       "Std Brand                                                     \n",
       "ALO YOGA                  23,730.11        23,730.11      1.00\n",
       "BERSHKA                  693,344.73       693,344.73      1.00\n",
       "CLARKS                    64,129.72        64,129.72      1.00\n",
       "DESIGUAL                   4,884.04             0.00      0.00\n",
       "FG4 KIDS                 179,666.22       179,666.22      1.00\n",
       "FG4 WOMEN                260,973.89       260,973.89      1.00\n",
       "FLYING TIGER                 864.10           864.10      1.00\n",
       "GAP                       87,595.11        87,595.11      1.00\n",
       "JACADI                    32,817.43             0.00      0.00\n",
       "KIKO                           0.00             0.00       NaN\n",
       "LC Waikiki                 9,022.94         9,022.94      1.00\n",
       "LEFTIES                  723,519.03       723,519.03      1.00\n",
       "LOCAL PERFUMES             2,689.90         2,689.90      1.00\n",
       "MASSIMO DUTTI            240,479.27       240,479.27      1.00\n",
       "MAYORAL                   23,565.66        23,565.66      1.00\n",
       "NATURE REPUBLIC            2,676.56         2,676.56      1.00\n",
       "NEW YORKER                98,046.08             0.00      0.00\n",
       "OKAIDI                   168,673.26             0.00      0.00\n",
       "OYSHO                    164,964.74       164,964.74      1.00\n",
       "PANCO                     55,177.49             0.00      0.00\n",
       "PUBLIC DESIRE             25,506.51        25,506.51      1.00\n",
       "PULL AND BEAR            494,325.72       494,325.72      1.00\n",
       "SERGENT MAJOR             45,237.47             0.00      0.00\n",
       "SFERA                     38,810.79        38,810.79      1.00\n",
       "STRADIVARIOUS            274,287.11       274,287.11      1.00\n",
       "THE CHILDREN'S PLACE       6,731.43         6,731.43      1.00\n",
       "US POLO                        0.00             0.00       NaN\n",
       "ZARA                   3,336,725.04     3,336,725.04      1.00\n",
       "ZARA HOME                336,280.99       336,280.99      1.00"
      ]
     },
     "execution_count": 185,
     "metadata": {},
     "output_type": "execute_result"
    }
   ],
   "source": [
    "damage_summary = soh_with_combinations[soh_with_combinations['location_catergory'] == 'Damage'].groupby('Std Brand')[['NETTOTAL_COST', 'Total Provision']].sum()\n",
    "damage_summary['coverage'] = damage_summary['Total Provision'] / damage_summary['NETTOTAL_COST']\n",
    "damage_summary"
   ]
  },
  {
   "cell_type": "code",
   "execution_count": 186,
   "id": "88394f4b",
   "metadata": {},
   "outputs": [
    {
     "data": {
      "application/vnd.microsoft.datawrangler.viewer.v0+json": {
       "columns": [
        {
         "name": "Std Brand",
         "rawType": "object",
         "type": "string"
        },
        {
         "name": "NETTOTAL_COST",
         "rawType": "float64",
         "type": "float"
        },
        {
         "name": "Total Provision",
         "rawType": "float64",
         "type": "float"
        },
        {
         "name": "coverage",
         "rawType": "float64",
         "type": "float"
        }
       ],
       "ref": "578540b6-4616-4110-9576-2e9a4ec8f87d",
       "rows": [
        [
         "ALO YOGA",
         "23053.4738",
         "11526.7369",
         "0.5"
        ],
        [
         "ANOTAH",
         "24.52",
         "12.26",
         "0.5"
        ],
        [
         "BERSHKA",
         "2360168.595",
         "354025.28925000003",
         "0.15"
        ],
        [
         "BOBBI BROWN",
         "0.0",
         "0.0",
         null
        ],
        [
         "CLARKS",
         "9599.5535",
         "4799.77675",
         "0.5"
        ],
        [
         "DESIGUAL",
         "6005.2515",
         "0.0",
         "0.0"
        ],
        [
         "ELEMENT",
         "23661.4575",
         "11830.72875",
         "0.5"
        ],
        [
         "FG4 KIDS",
         "2338942.2498",
         "1169471.1249",
         "0.5"
        ],
        [
         "FG4 WOMEN",
         "781180.5273999999",
         "390590.26369999995",
         "0.5"
        ],
        [
         "FLYING TIGER",
         "24341.9899",
         "3651.2984850000003",
         "0.15"
        ],
        [
         "GAP",
         "8646406.5389",
         "4323203.26945",
         "0.5"
        ],
        [
         "JACADI",
         "1505366.9516",
         "0.0",
         "0.0"
        ],
        [
         "KIKO",
         "0.0",
         "0.0",
         null
        ],
        [
         "LC Waikiki",
         "2464483.1179",
         "1232241.55895",
         "0.5"
        ],
        [
         "LEFTIES",
         "7896042.3654000005",
         "1184406.35481",
         "0.15"
        ],
        [
         "LOCAL PERFUMES",
         "24880.7216",
         "3732.1082399999996",
         "0.14999999999999997"
        ],
        [
         "MANGO",
         "11911162.75",
         "0.0",
         "0.0"
        ],
        [
         "MASSIMO DUTTI",
         "1448352.436",
         "217252.8654",
         "0.15"
        ],
        [
         "MAYORAL",
         "1685449.3111999999",
         "842724.6555999999",
         "0.5"
        ],
        [
         "MULTI BRAND",
         "-0.21",
         "-0.105",
         "0.5"
        ],
        [
         "NATURE REPUBLIC",
         "0.0",
         "0.0",
         null
        ],
        [
         "NEW YORKER",
         "104202.0254",
         "0.0",
         "0.0"
        ],
        [
         "OKAIDI",
         "3076110.9808",
         "0.0",
         "0.0"
        ],
        [
         "OYSHO",
         "569894.7083",
         "85484.206245",
         "0.14999999999999997"
        ],
        [
         "PANCO",
         "201121.3294",
         "0.0",
         "0.0"
        ],
        [
         "PUBLIC DESIRE",
         "2687313.4657",
         "403097.019855",
         "0.15"
        ],
        [
         "PULL AND BEAR",
         "1556787.1892",
         "233518.07838",
         "0.15"
        ],
        [
         "SERGENT MAJOR",
         "943355.9128",
         "0.0",
         "0.0"
        ],
        [
         "SFERA",
         "1826873.8556",
         "913436.9278000001",
         "0.5000000000000001"
        ],
        [
         "STRADIVARIOUS",
         "3297659.5239",
         "494648.928585",
         "0.15"
        ],
        [
         "TAP A L'OEIL",
         "-9.417999999999981",
         "0.0",
         "-0.0"
        ],
        [
         "THE CHILDREN'S PLACE",
         "1347250.8058",
         "673625.4029",
         "0.5"
        ],
        [
         "US POLO",
         "163308.4435",
         "24496.266525",
         "0.15"
        ],
        [
         "ZARA",
         "10436942.3979",
         "1565541.359685",
         "0.15"
        ],
        [
         "ZARA HOME",
         "749504.9668",
         "112425.74501999999",
         "0.14999999999999997"
        ]
       ],
       "shape": {
        "columns": 3,
        "rows": 35
       }
      },
      "text/html": [
       "<div>\n",
       "<style scoped>\n",
       "    .dataframe tbody tr th:only-of-type {\n",
       "        vertical-align: middle;\n",
       "    }\n",
       "\n",
       "    .dataframe tbody tr th {\n",
       "        vertical-align: top;\n",
       "    }\n",
       "\n",
       "    .dataframe thead th {\n",
       "        text-align: right;\n",
       "    }\n",
       "</style>\n",
       "<table border=\"1\" class=\"dataframe\">\n",
       "  <thead>\n",
       "    <tr style=\"text-align: right;\">\n",
       "      <th></th>\n",
       "      <th>NETTOTAL_COST</th>\n",
       "      <th>Total Provision</th>\n",
       "      <th>coverage</th>\n",
       "    </tr>\n",
       "    <tr>\n",
       "      <th>Std Brand</th>\n",
       "      <th></th>\n",
       "      <th></th>\n",
       "      <th></th>\n",
       "    </tr>\n",
       "  </thead>\n",
       "  <tbody>\n",
       "    <tr>\n",
       "      <th>ALO YOGA</th>\n",
       "      <td>23,053.47</td>\n",
       "      <td>11,526.74</td>\n",
       "      <td>0.50</td>\n",
       "    </tr>\n",
       "    <tr>\n",
       "      <th>ANOTAH</th>\n",
       "      <td>24.52</td>\n",
       "      <td>12.26</td>\n",
       "      <td>0.50</td>\n",
       "    </tr>\n",
       "    <tr>\n",
       "      <th>BERSHKA</th>\n",
       "      <td>2,360,168.60</td>\n",
       "      <td>354,025.29</td>\n",
       "      <td>0.15</td>\n",
       "    </tr>\n",
       "    <tr>\n",
       "      <th>BOBBI BROWN</th>\n",
       "      <td>0.00</td>\n",
       "      <td>0.00</td>\n",
       "      <td>NaN</td>\n",
       "    </tr>\n",
       "    <tr>\n",
       "      <th>CLARKS</th>\n",
       "      <td>9,599.55</td>\n",
       "      <td>4,799.78</td>\n",
       "      <td>0.50</td>\n",
       "    </tr>\n",
       "    <tr>\n",
       "      <th>DESIGUAL</th>\n",
       "      <td>6,005.25</td>\n",
       "      <td>0.00</td>\n",
       "      <td>0.00</td>\n",
       "    </tr>\n",
       "    <tr>\n",
       "      <th>ELEMENT</th>\n",
       "      <td>23,661.46</td>\n",
       "      <td>11,830.73</td>\n",
       "      <td>0.50</td>\n",
       "    </tr>\n",
       "    <tr>\n",
       "      <th>FG4 KIDS</th>\n",
       "      <td>2,338,942.25</td>\n",
       "      <td>1,169,471.12</td>\n",
       "      <td>0.50</td>\n",
       "    </tr>\n",
       "    <tr>\n",
       "      <th>FG4 WOMEN</th>\n",
       "      <td>781,180.53</td>\n",
       "      <td>390,590.26</td>\n",
       "      <td>0.50</td>\n",
       "    </tr>\n",
       "    <tr>\n",
       "      <th>FLYING TIGER</th>\n",
       "      <td>24,341.99</td>\n",
       "      <td>3,651.30</td>\n",
       "      <td>0.15</td>\n",
       "    </tr>\n",
       "    <tr>\n",
       "      <th>GAP</th>\n",
       "      <td>8,646,406.54</td>\n",
       "      <td>4,323,203.27</td>\n",
       "      <td>0.50</td>\n",
       "    </tr>\n",
       "    <tr>\n",
       "      <th>JACADI</th>\n",
       "      <td>1,505,366.95</td>\n",
       "      <td>0.00</td>\n",
       "      <td>0.00</td>\n",
       "    </tr>\n",
       "    <tr>\n",
       "      <th>KIKO</th>\n",
       "      <td>0.00</td>\n",
       "      <td>0.00</td>\n",
       "      <td>NaN</td>\n",
       "    </tr>\n",
       "    <tr>\n",
       "      <th>LC Waikiki</th>\n",
       "      <td>2,464,483.12</td>\n",
       "      <td>1,232,241.56</td>\n",
       "      <td>0.50</td>\n",
       "    </tr>\n",
       "    <tr>\n",
       "      <th>LEFTIES</th>\n",
       "      <td>7,896,042.37</td>\n",
       "      <td>1,184,406.35</td>\n",
       "      <td>0.15</td>\n",
       "    </tr>\n",
       "    <tr>\n",
       "      <th>LOCAL PERFUMES</th>\n",
       "      <td>24,880.72</td>\n",
       "      <td>3,732.11</td>\n",
       "      <td>0.15</td>\n",
       "    </tr>\n",
       "    <tr>\n",
       "      <th>MANGO</th>\n",
       "      <td>11,911,162.75</td>\n",
       "      <td>0.00</td>\n",
       "      <td>0.00</td>\n",
       "    </tr>\n",
       "    <tr>\n",
       "      <th>MASSIMO DUTTI</th>\n",
       "      <td>1,448,352.44</td>\n",
       "      <td>217,252.87</td>\n",
       "      <td>0.15</td>\n",
       "    </tr>\n",
       "    <tr>\n",
       "      <th>MAYORAL</th>\n",
       "      <td>1,685,449.31</td>\n",
       "      <td>842,724.66</td>\n",
       "      <td>0.50</td>\n",
       "    </tr>\n",
       "    <tr>\n",
       "      <th>MULTI BRAND</th>\n",
       "      <td>-0.21</td>\n",
       "      <td>-0.10</td>\n",
       "      <td>0.50</td>\n",
       "    </tr>\n",
       "    <tr>\n",
       "      <th>NATURE REPUBLIC</th>\n",
       "      <td>0.00</td>\n",
       "      <td>0.00</td>\n",
       "      <td>NaN</td>\n",
       "    </tr>\n",
       "    <tr>\n",
       "      <th>NEW YORKER</th>\n",
       "      <td>104,202.03</td>\n",
       "      <td>0.00</td>\n",
       "      <td>0.00</td>\n",
       "    </tr>\n",
       "    <tr>\n",
       "      <th>OKAIDI</th>\n",
       "      <td>3,076,110.98</td>\n",
       "      <td>0.00</td>\n",
       "      <td>0.00</td>\n",
       "    </tr>\n",
       "    <tr>\n",
       "      <th>OYSHO</th>\n",
       "      <td>569,894.71</td>\n",
       "      <td>85,484.21</td>\n",
       "      <td>0.15</td>\n",
       "    </tr>\n",
       "    <tr>\n",
       "      <th>PANCO</th>\n",
       "      <td>201,121.33</td>\n",
       "      <td>0.00</td>\n",
       "      <td>0.00</td>\n",
       "    </tr>\n",
       "    <tr>\n",
       "      <th>PUBLIC DESIRE</th>\n",
       "      <td>2,687,313.47</td>\n",
       "      <td>403,097.02</td>\n",
       "      <td>0.15</td>\n",
       "    </tr>\n",
       "    <tr>\n",
       "      <th>PULL AND BEAR</th>\n",
       "      <td>1,556,787.19</td>\n",
       "      <td>233,518.08</td>\n",
       "      <td>0.15</td>\n",
       "    </tr>\n",
       "    <tr>\n",
       "      <th>SERGENT MAJOR</th>\n",
       "      <td>943,355.91</td>\n",
       "      <td>0.00</td>\n",
       "      <td>0.00</td>\n",
       "    </tr>\n",
       "    <tr>\n",
       "      <th>SFERA</th>\n",
       "      <td>1,826,873.86</td>\n",
       "      <td>913,436.93</td>\n",
       "      <td>0.50</td>\n",
       "    </tr>\n",
       "    <tr>\n",
       "      <th>STRADIVARIOUS</th>\n",
       "      <td>3,297,659.52</td>\n",
       "      <td>494,648.93</td>\n",
       "      <td>0.15</td>\n",
       "    </tr>\n",
       "    <tr>\n",
       "      <th>TAP A L'OEIL</th>\n",
       "      <td>-9.42</td>\n",
       "      <td>0.00</td>\n",
       "      <td>-0.00</td>\n",
       "    </tr>\n",
       "    <tr>\n",
       "      <th>THE CHILDREN'S PLACE</th>\n",
       "      <td>1,347,250.81</td>\n",
       "      <td>673,625.40</td>\n",
       "      <td>0.50</td>\n",
       "    </tr>\n",
       "    <tr>\n",
       "      <th>US POLO</th>\n",
       "      <td>163,308.44</td>\n",
       "      <td>24,496.27</td>\n",
       "      <td>0.15</td>\n",
       "    </tr>\n",
       "    <tr>\n",
       "      <th>ZARA</th>\n",
       "      <td>10,436,942.40</td>\n",
       "      <td>1,565,541.36</td>\n",
       "      <td>0.15</td>\n",
       "    </tr>\n",
       "    <tr>\n",
       "      <th>ZARA HOME</th>\n",
       "      <td>749,504.97</td>\n",
       "      <td>112,425.75</td>\n",
       "      <td>0.15</td>\n",
       "    </tr>\n",
       "  </tbody>\n",
       "</table>\n",
       "</div>"
      ],
      "text/plain": [
       "                      NETTOTAL_COST  Total Provision  coverage\n",
       "Std Brand                                                     \n",
       "ALO YOGA                  23,053.47        11,526.74      0.50\n",
       "ANOTAH                        24.52            12.26      0.50\n",
       "BERSHKA                2,360,168.60       354,025.29      0.15\n",
       "BOBBI BROWN                    0.00             0.00       NaN\n",
       "CLARKS                     9,599.55         4,799.78      0.50\n",
       "DESIGUAL                   6,005.25             0.00      0.00\n",
       "ELEMENT                   23,661.46        11,830.73      0.50\n",
       "FG4 KIDS               2,338,942.25     1,169,471.12      0.50\n",
       "FG4 WOMEN                781,180.53       390,590.26      0.50\n",
       "FLYING TIGER              24,341.99         3,651.30      0.15\n",
       "GAP                    8,646,406.54     4,323,203.27      0.50\n",
       "JACADI                 1,505,366.95             0.00      0.00\n",
       "KIKO                           0.00             0.00       NaN\n",
       "LC Waikiki             2,464,483.12     1,232,241.56      0.50\n",
       "LEFTIES                7,896,042.37     1,184,406.35      0.15\n",
       "LOCAL PERFUMES            24,880.72         3,732.11      0.15\n",
       "MANGO                 11,911,162.75             0.00      0.00\n",
       "MASSIMO DUTTI          1,448,352.44       217,252.87      0.15\n",
       "MAYORAL                1,685,449.31       842,724.66      0.50\n",
       "MULTI BRAND                   -0.21            -0.10      0.50\n",
       "NATURE REPUBLIC                0.00             0.00       NaN\n",
       "NEW YORKER               104,202.03             0.00      0.00\n",
       "OKAIDI                 3,076,110.98             0.00      0.00\n",
       "OYSHO                    569,894.71        85,484.21      0.15\n",
       "PANCO                    201,121.33             0.00      0.00\n",
       "PUBLIC DESIRE          2,687,313.47       403,097.02      0.15\n",
       "PULL AND BEAR          1,556,787.19       233,518.08      0.15\n",
       "SERGENT MAJOR            943,355.91             0.00      0.00\n",
       "SFERA                  1,826,873.86       913,436.93      0.50\n",
       "STRADIVARIOUS          3,297,659.52       494,648.93      0.15\n",
       "TAP A L'OEIL                  -9.42             0.00     -0.00\n",
       "THE CHILDREN'S PLACE   1,347,250.81       673,625.40      0.50\n",
       "US POLO                  163,308.44        24,496.27      0.15\n",
       "ZARA                  10,436,942.40     1,565,541.36      0.15\n",
       "ZARA HOME                749,504.97       112,425.75      0.15"
      ]
     },
     "execution_count": 186,
     "metadata": {},
     "output_type": "execute_result"
    }
   ],
   "source": [
    "leftover_summary = soh_with_combinations[soh_with_combinations['location_catergory'] == 'Leftover'].groupby('Std Brand')[['NETTOTAL_COST', 'Total Provision']].sum()\n",
    "leftover_summary['coverage'] = leftover_summary['Total Provision'] / leftover_summary['NETTOTAL_COST']\n",
    "leftover_summary"
   ]
  },
  {
   "cell_type": "code",
   "execution_count": 187,
   "id": "c6ad36ef",
   "metadata": {},
   "outputs": [
    {
     "data": {
      "application/vnd.microsoft.datawrangler.viewer.v0+json": {
       "columns": [
        {
         "name": "Std Brand",
         "rawType": "object",
         "type": "string"
        },
        {
         "name": "NETTOTAL_COST",
         "rawType": "float64",
         "type": "float"
        },
        {
         "name": "Total Provision",
         "rawType": "float64",
         "type": "float"
        },
        {
         "name": "coverage",
         "rawType": "float64",
         "type": "float"
        }
       ],
       "ref": "8f9e001a-5a8e-4308-b407-022cead28348",
       "rows": [
        [
         "AL MALKI",
         "0.0",
         "0.0",
         null
        ],
        [
         "ALO YOGA",
         "46783.5858",
         "35256.8489",
         "0.7536157884674157"
        ],
        [
         "ANOTAH",
         "24.5153",
         "12.25765",
         "0.5"
        ],
        [
         "BOBBI BROWN",
         "0.0",
         "0.0",
         null
        ],
        [
         "CLARKS",
         "73729.27350000001",
         "68929.49674999999",
         "0.9348999858244905"
        ],
        [
         "DESIGUAL",
         "10889.2925",
         "0.0",
         "0.0"
        ],
        [
         "ELEMENT",
         "23661.4589",
         "11830.72945",
         "0.5"
        ],
        [
         "FG4 KIDS",
         "2607228.3547",
         "1393447.28895",
         "0.5344554060399272"
        ],
        [
         "FG4 WOMEN",
         "1042094.2943",
         "651534.09315",
         "0.625216064144801"
        ],
        [
         "GAP",
         "17747172.8384",
         "8917383.9726",
         "0.5024678608699429"
        ],
        [
         "JACADI",
         "1538184.3795",
         "0.0",
         "0.0"
        ],
        [
         "LC Waikiki",
         "26023655.4842",
         "13016339.2102",
         "0.5001733602761049"
        ],
        [
         "MARKS AND SPENCERS",
         "0.0",
         "0.0",
         null
        ],
        [
         "MAYORAL",
         "1829334.139",
         "926449.89825",
         "0.5064410478647936"
        ],
        [
         "MULTI BRAND",
         "-0.21",
         "-0.105",
         "0.5"
        ],
        [
         "NATURE REPUBLIC",
         "2676.556",
         "2676.556",
         "1.0"
        ],
        [
         "PEOPLE",
         "20120.196",
         "10060.098",
         "0.5"
        ],
        [
         "SERGENT MAJOR",
         "1036665.4513",
         "0.0",
         "0.0"
        ],
        [
         "SFERA",
         "1952650.6789",
         "995730.73385",
         "0.5099379753940074"
        ],
        [
         "TAP A L'OEIL",
         "-9.417999999999981",
         "0.0",
         "-0.0"
        ],
        [
         "THE CHILDREN'S PLACE",
         "1389311.0937",
         "698021.2634500001",
         "0.5024225795181959"
        ]
       ],
       "shape": {
        "columns": 3,
        "rows": 21
       }
      },
      "text/html": [
       "<div>\n",
       "<style scoped>\n",
       "    .dataframe tbody tr th:only-of-type {\n",
       "        vertical-align: middle;\n",
       "    }\n",
       "\n",
       "    .dataframe tbody tr th {\n",
       "        vertical-align: top;\n",
       "    }\n",
       "\n",
       "    .dataframe thead th {\n",
       "        text-align: right;\n",
       "    }\n",
       "</style>\n",
       "<table border=\"1\" class=\"dataframe\">\n",
       "  <thead>\n",
       "    <tr style=\"text-align: right;\">\n",
       "      <th></th>\n",
       "      <th>NETTOTAL_COST</th>\n",
       "      <th>Total Provision</th>\n",
       "      <th>coverage</th>\n",
       "    </tr>\n",
       "    <tr>\n",
       "      <th>Std Brand</th>\n",
       "      <th></th>\n",
       "      <th></th>\n",
       "      <th></th>\n",
       "    </tr>\n",
       "  </thead>\n",
       "  <tbody>\n",
       "    <tr>\n",
       "      <th>AL MALKI</th>\n",
       "      <td>0.00</td>\n",
       "      <td>0.00</td>\n",
       "      <td>NaN</td>\n",
       "    </tr>\n",
       "    <tr>\n",
       "      <th>ALO YOGA</th>\n",
       "      <td>46,783.59</td>\n",
       "      <td>35,256.85</td>\n",
       "      <td>0.75</td>\n",
       "    </tr>\n",
       "    <tr>\n",
       "      <th>ANOTAH</th>\n",
       "      <td>24.52</td>\n",
       "      <td>12.26</td>\n",
       "      <td>0.50</td>\n",
       "    </tr>\n",
       "    <tr>\n",
       "      <th>BOBBI BROWN</th>\n",
       "      <td>0.00</td>\n",
       "      <td>0.00</td>\n",
       "      <td>NaN</td>\n",
       "    </tr>\n",
       "    <tr>\n",
       "      <th>CLARKS</th>\n",
       "      <td>73,729.27</td>\n",
       "      <td>68,929.50</td>\n",
       "      <td>0.93</td>\n",
       "    </tr>\n",
       "    <tr>\n",
       "      <th>DESIGUAL</th>\n",
       "      <td>10,889.29</td>\n",
       "      <td>0.00</td>\n",
       "      <td>0.00</td>\n",
       "    </tr>\n",
       "    <tr>\n",
       "      <th>ELEMENT</th>\n",
       "      <td>23,661.46</td>\n",
       "      <td>11,830.73</td>\n",
       "      <td>0.50</td>\n",
       "    </tr>\n",
       "    <tr>\n",
       "      <th>FG4 KIDS</th>\n",
       "      <td>2,607,228.35</td>\n",
       "      <td>1,393,447.29</td>\n",
       "      <td>0.53</td>\n",
       "    </tr>\n",
       "    <tr>\n",
       "      <th>FG4 WOMEN</th>\n",
       "      <td>1,042,094.29</td>\n",
       "      <td>651,534.09</td>\n",
       "      <td>0.63</td>\n",
       "    </tr>\n",
       "    <tr>\n",
       "      <th>GAP</th>\n",
       "      <td>17,747,172.84</td>\n",
       "      <td>8,917,383.97</td>\n",
       "      <td>0.50</td>\n",
       "    </tr>\n",
       "    <tr>\n",
       "      <th>JACADI</th>\n",
       "      <td>1,538,184.38</td>\n",
       "      <td>0.00</td>\n",
       "      <td>0.00</td>\n",
       "    </tr>\n",
       "    <tr>\n",
       "      <th>LC Waikiki</th>\n",
       "      <td>26,023,655.48</td>\n",
       "      <td>13,016,339.21</td>\n",
       "      <td>0.50</td>\n",
       "    </tr>\n",
       "    <tr>\n",
       "      <th>MARKS AND SPENCERS</th>\n",
       "      <td>0.00</td>\n",
       "      <td>0.00</td>\n",
       "      <td>NaN</td>\n",
       "    </tr>\n",
       "    <tr>\n",
       "      <th>MAYORAL</th>\n",
       "      <td>1,829,334.14</td>\n",
       "      <td>926,449.90</td>\n",
       "      <td>0.51</td>\n",
       "    </tr>\n",
       "    <tr>\n",
       "      <th>MULTI BRAND</th>\n",
       "      <td>-0.21</td>\n",
       "      <td>-0.10</td>\n",
       "      <td>0.50</td>\n",
       "    </tr>\n",
       "    <tr>\n",
       "      <th>NATURE REPUBLIC</th>\n",
       "      <td>2,676.56</td>\n",
       "      <td>2,676.56</td>\n",
       "      <td>1.00</td>\n",
       "    </tr>\n",
       "    <tr>\n",
       "      <th>PEOPLE</th>\n",
       "      <td>20,120.20</td>\n",
       "      <td>10,060.10</td>\n",
       "      <td>0.50</td>\n",
       "    </tr>\n",
       "    <tr>\n",
       "      <th>SERGENT MAJOR</th>\n",
       "      <td>1,036,665.45</td>\n",
       "      <td>0.00</td>\n",
       "      <td>0.00</td>\n",
       "    </tr>\n",
       "    <tr>\n",
       "      <th>SFERA</th>\n",
       "      <td>1,952,650.68</td>\n",
       "      <td>995,730.73</td>\n",
       "      <td>0.51</td>\n",
       "    </tr>\n",
       "    <tr>\n",
       "      <th>TAP A L'OEIL</th>\n",
       "      <td>-9.42</td>\n",
       "      <td>0.00</td>\n",
       "      <td>-0.00</td>\n",
       "    </tr>\n",
       "    <tr>\n",
       "      <th>THE CHILDREN'S PLACE</th>\n",
       "      <td>1,389,311.09</td>\n",
       "      <td>698,021.26</td>\n",
       "      <td>0.50</td>\n",
       "    </tr>\n",
       "  </tbody>\n",
       "</table>\n",
       "</div>"
      ],
      "text/plain": [
       "                      NETTOTAL_COST  Total Provision  coverage\n",
       "Std Brand                                                     \n",
       "AL MALKI                       0.00             0.00       NaN\n",
       "ALO YOGA                  46,783.59        35,256.85      0.75\n",
       "ANOTAH                        24.52            12.26      0.50\n",
       "BOBBI BROWN                    0.00             0.00       NaN\n",
       "CLARKS                    73,729.27        68,929.50      0.93\n",
       "DESIGUAL                  10,889.29             0.00      0.00\n",
       "ELEMENT                   23,661.46        11,830.73      0.50\n",
       "FG4 KIDS               2,607,228.35     1,393,447.29      0.53\n",
       "FG4 WOMEN              1,042,094.29       651,534.09      0.63\n",
       "GAP                   17,747,172.84     8,917,383.97      0.50\n",
       "JACADI                 1,538,184.38             0.00      0.00\n",
       "LC Waikiki            26,023,655.48    13,016,339.21      0.50\n",
       "MARKS AND SPENCERS             0.00             0.00       NaN\n",
       "MAYORAL                1,829,334.14       926,449.90      0.51\n",
       "MULTI BRAND                   -0.21            -0.10      0.50\n",
       "NATURE REPUBLIC            2,676.56         2,676.56      1.00\n",
       "PEOPLE                    20,120.20        10,060.10      0.50\n",
       "SERGENT MAJOR          1,036,665.45             0.00      0.00\n",
       "SFERA                  1,952,650.68       995,730.73      0.51\n",
       "TAP A L'OEIL                  -9.42             0.00     -0.00\n",
       "THE CHILDREN'S PLACE   1,389,311.09       698,021.26      0.50"
      ]
     },
     "execution_count": 187,
     "metadata": {},
     "output_type": "execute_result"
    }
   ],
   "source": [
    "closed_summary = soh_with_combinations[soh_with_combinations['Closed_status'] == 'Closed'].groupby('Std Brand')[['NETTOTAL_COST', 'Total Provision']].sum()\n",
    "closed_summary['coverage'] = closed_summary['Total Provision'] / closed_summary['NETTOTAL_COST']\n",
    "closed_summary"
   ]
  },
  {
   "cell_type": "markdown",
   "id": "14f4f631",
   "metadata": {},
   "source": [
    "checks"
   ]
  },
  {
   "cell_type": "code",
   "execution_count": 188,
   "id": "76d69bfb",
   "metadata": {},
   "outputs": [],
   "source": [
    "# verify the original seasons in the std buckets \n",
    "check_buckets = soh[['season_bucket','std_season' ]].drop_duplicates()"
   ]
  },
  {
   "cell_type": "code",
   "execution_count": 189,
   "id": "fda22e40",
   "metadata": {},
   "outputs": [],
   "source": [
    "# verify the seasons in the correct buckets \n",
    "check_season = soh[['std_season', original_season]].drop_duplicates()"
   ]
  },
  {
   "cell_type": "code",
   "execution_count": 190,
   "id": "0a4067c6",
   "metadata": {},
   "outputs": [],
   "source": [
    "#missing combinations in output\n",
    "missing_combinations = soh_with_combinations[(soh_with_combinations['NETTOTAL_COST'] != 0)&(soh_with_combinations['s1'].isna())] "
   ]
  },
  {
   "cell_type": "code",
   "execution_count": 191,
   "id": "f742a738",
   "metadata": {},
   "outputs": [
    {
     "name": "stdout",
     "output_type": "stream",
     "text": [
      "Missing values in SOH key columns: 89\n",
      "Duplicate original brand names in mapping: 0\n",
      "Std Brands in SOH missing from mapping: {nan}\n",
      "Std Brands in mapping missing from SOH: {'UNDIZ', 'BIZOU', 'FLORMAR', 'IPEKYOL', 'PEDRO', 'MONSOON ACCESSORIZE', 'MARIE FRANCE', 'OXXO', 'ZIDDY KIDS', 'CHARLES & KEITH', 'GERRY WEBER', 'NINE WEST', 'MACHKA', 'SPRINGFIELDS', 'SPRING', 'ALDO & ALDO ACCS', 'LASENZA', 'BIJOU BRIGITTE', 'QUIZ', \"WOMEN'S SECRET\", 'ESTEE LAUDER', 'IKKS', 'LIPSY', 'TWIST', 'LA VIE EN ROSE', 'ADL'}\n",
      "Rows with garbage/unknown std_season: 1158\n",
      "Rows missing combination mapping: 0\n"
     ]
    }
   ],
   "source": [
    "# 1. Check for missing values in key columns\n",
    "missing_in_soh = soh[soh[['Std Brand', 'LOCATION_NAME', 'NETTOTAL_COST', 'std_season']].isnull().any(axis=1)]\n",
    "print(\"Missing values in SOH key columns:\", missing_in_soh.shape[0])\n",
    "\n",
    "\n",
    "# 3. Check for duplicates in mapping [original brand name]\n",
    "duplicates_mapping = mapping.duplicated(subset=['GROUP_NAME'], keep=False)\n",
    "print(\"Duplicate original brand names in mapping:\", mapping[duplicates_mapping].shape[0])\n",
    "\n",
    "# 4. Check for missing standard brands in mapping and SOH\n",
    "missing_std_brands_in_mapping = set(soh['Std Brand']) - set(mapping['Std Brand'])\n",
    "print(\"Std Brands in SOH missing from mapping:\", missing_std_brands_in_mapping)\n",
    "\n",
    "missing_std_brands_in_soh = set(mapping['Std Brand']) - set(soh['Std Brand'])\n",
    "print(\"Std Brands in mapping missing from SOH:\", missing_std_brands_in_soh)\n",
    "\n",
    "# 5. Check for garbage/unknown seasons in std_season\n",
    "garbage_seasons = soh[soh['std_season'].isin(['Unknown', 'Old-', 'AW97'])]\n",
    "print(\"Rows with garbage/unknown std_season:\", garbage_seasons.shape[0])\n",
    "\n",
    "# 6. Check for missing in combinations merge\n",
    "missing_comb_rows = soh_with_combinations[soh_with_combinations['s1'].isnull()]\n",
    "print(\"Rows missing combination mapping:\", missing_comb_rows.shape[0])\n"
   ]
  },
  {
   "cell_type": "code",
   "execution_count": 192,
   "id": "858666e4",
   "metadata": {},
   "outputs": [
    {
     "data": {
      "application/vnd.microsoft.datawrangler.viewer.v0+json": {
       "columns": [
        {
         "name": "Std Brand",
         "rawType": "object",
         "type": "string"
        },
        {
         "name": "NETTOTAL_COST",
         "rawType": "float64",
         "type": "float"
        }
       ],
       "ref": "a1c7702c-f259-4439-a531-13b6724b4de3",
       "rows": [
        [
         "ALO YOGA",
         "11625.3861"
        ],
        [
         "ANOTAH",
         "24.52"
        ],
        [
         "BERSHKA",
         "848839.1145"
        ],
        [
         "BOBBI BROWN",
         "0.0"
        ],
        [
         "Decathlon",
         "-509138.31614"
        ],
        [
         "FLYING TIGER",
         "1005791.4555"
        ],
        [
         "FNAC",
         "9134592.6183"
        ],
        [
         "GAP",
         "1234185.1079"
        ],
        [
         "JACADI",
         "0.0"
        ],
        [
         "LC Waikiki",
         "197170.87709999998"
        ],
        [
         "LEFTIES",
         "2019355.2056"
        ],
        [
         "LOCAL PERFUMES",
         "0.0"
        ],
        [
         "MARKS AND SPENCERS",
         "0.0"
        ],
        [
         "MASSIMO DUTTI",
         "1013574.6195"
        ],
        [
         "MAYORAL",
         "109.8042"
        ],
        [
         "NEW YORKER",
         "69.7319"
        ],
        [
         "OKAIDI",
         "163.8984"
        ],
        [
         "OYSHO",
         "246528.02010000002"
        ],
        [
         "PANCO",
         "0.0"
        ],
        [
         "PULL AND BEAR",
         "697685.9208"
        ],
        [
         "SERGENT MAJOR",
         "0.0"
        ],
        [
         "SFERA",
         "39.9844"
        ],
        [
         "STRADIVARIOUS",
         "2082805.3805999998"
        ],
        [
         "THE CHILDREN'S PLACE",
         "0.0"
        ],
        [
         "US POLO",
         "0.0"
        ],
        [
         "ZARA",
         "5444014.5717"
        ],
        [
         "ZARA HOME",
         "493289.0787"
        ]
       ],
       "shape": {
        "columns": 1,
        "rows": 27
       }
      },
      "text/plain": [
       "Std Brand\n",
       "ALO YOGA                  11,625.39\n",
       "ANOTAH                        24.52\n",
       "BERSHKA                  848,839.11\n",
       "BOBBI BROWN                    0.00\n",
       "Decathlon               -509,138.32\n",
       "FLYING TIGER           1,005,791.46\n",
       "FNAC                   9,134,592.62\n",
       "GAP                    1,234,185.11\n",
       "JACADI                         0.00\n",
       "LC Waikiki               197,170.88\n",
       "LEFTIES                2,019,355.21\n",
       "LOCAL PERFUMES                 0.00\n",
       "MARKS AND SPENCERS             0.00\n",
       "MASSIMO DUTTI          1,013,574.62\n",
       "MAYORAL                      109.80\n",
       "NEW YORKER                    69.73\n",
       "OKAIDI                       163.90\n",
       "OYSHO                    246,528.02\n",
       "PANCO                          0.00\n",
       "PULL AND BEAR            697,685.92\n",
       "SERGENT MAJOR                  0.00\n",
       "SFERA                         39.98\n",
       "STRADIVARIOUS          2,082,805.38\n",
       "THE CHILDREN'S PLACE           0.00\n",
       "US POLO                        0.00\n",
       "ZARA                   5,444,014.57\n",
       "ZARA HOME                493,289.08\n",
       "Name: NETTOTAL_COST, dtype: float64"
      ]
     },
     "execution_count": 192,
     "metadata": {},
     "output_type": "execute_result"
    }
   ],
   "source": [
    "soh_with_combinations[soh_with_combinations[original_season].isna() | (soh_with_combinations[original_season] == '')].groupby('Std Brand')['NETTOTAL_COST'].sum()"
   ]
  },
  {
   "cell_type": "code",
   "execution_count": 193,
   "id": "ac5c17ec",
   "metadata": {},
   "outputs": [
    {
     "data": {
      "text/plain": [
       "(-42933354.7203258, -34043425.849999994, -8889928.8703258)"
      ]
     },
     "execution_count": 193,
     "metadata": {},
     "output_type": "execute_result"
    }
   ],
   "source": [
    "completed_entry[completed_entry['s5']==23993]['Dr/(CR)'].sum(), existing_balances.iloc[:,-1].sum(),diff_entry[diff_entry['s5']==23993]['Dr/(CR)'].sum()"
   ]
  },
  {
   "cell_type": "code",
   "execution_count": 194,
   "id": "d6931559",
   "metadata": {},
   "outputs": [
    {
     "data": {
      "text/plain": [
       "(-42933354.7203258, -34043425.849999994, -8889928.8703258)"
      ]
     },
     "execution_count": 194,
     "metadata": {},
     "output_type": "execute_result"
    }
   ],
   "source": [
    "completed_entry[completed_entry['s5']==23993]['Dr/(CR)'].sum(), existing_balances.iloc[:,-1].sum(),diff_entry[diff_entry['s5']==23993]['Dr/(CR)'].sum()"
   ]
  },
  {
   "cell_type": "code",
   "execution_count": 195,
   "id": "a4086f59",
   "metadata": {},
   "outputs": [],
   "source": [
    "entry_check = existing_balances.iloc[:,-1].sum()+ diff_entry[diff_entry['s5']==23993]['Dr/(CR)'].sum() - completed_entry[completed_entry['s5']==23993]['Dr/(CR)'].sum()"
   ]
  },
  {
   "cell_type": "code",
   "execution_count": 196,
   "id": "fdeebb73",
   "metadata": {},
   "outputs": [
    {
     "name": "stdout",
     "output_type": "stream",
     "text": [
      "entry_check=0.00\n"
     ]
    }
   ],
   "source": [
    "print(f\"{entry_check=:,.2f}\")"
   ]
  },
  {
   "cell_type": "code",
   "execution_count": null,
   "id": "5040e395",
   "metadata": {},
   "outputs": [],
   "source": []
  }
 ],
 "metadata": {
  "kernelspec": {
   "display_name": "base",
   "language": "python",
   "name": "python3"
  },
  "language_info": {
   "codemirror_mode": {
    "name": "ipython",
    "version": 3
   },
   "file_extension": ".py",
   "mimetype": "text/x-python",
   "name": "python",
   "nbconvert_exporter": "python",
   "pygments_lexer": "ipython3",
   "version": "3.12.7"
  }
 },
 "nbformat": 4,
 "nbformat_minor": 5
}
