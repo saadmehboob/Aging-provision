{
 "cells": [
  {
   "cell_type": "markdown",
   "id": "b4dab971",
   "metadata": {},
   "source": [
    "Aging Provision Policy – Additional Provision Calculation \n",
    "\n",
    "Policy Overview\n",
    "To ensure prudent financial coverage, additional provisions are calculated for inventory in special categories, using the following rules:\n",
    "\n",
    "1. Damaged Inventory\n",
    "Provision Rate:\n",
    "100% of the net total cost of damaged stock.\n",
    "2. Leftover Inventory\n",
    "For Closed Brands:\n",
    "50% of the net total cost of leftover stock from brands that are closed.\n",
    "For Running Brands:\n",
    "15% of the net total cost of leftover stock from brands that are still operating.\n",
    "3. Closed Brands (Other Locations)\n",
    "Provision Rate:\n",
    "50% of the net total cost of stock from closed brands (excluding leftover and damaged locations).\n",
    "4. Exclusions\n",
    "No additional provision is made for inventory under consignment, guaranteed margin, or “Buying Pull - Mango” models.\n",
    "Summary:\n",
    "These additional provisions are applied on top of the standard aging policy to ensure adequate financial coverage for higher-risk inventory categories."
   ]
  },
  {
   "cell_type": "markdown",
   "id": "f8000600",
   "metadata": {},
   "source": [
    "1. update the closed brands status in the mapping file\n",
    "2. check the totals of the net cost throughout the steps to ensure the completness\n",
    "3. update the combinations in the combination file\n",
    "4. check missing standard brands in the mapping file and soh\n",
    "5. check std season and buckets in the checks section of the code\n",
    "6. update the parameters below\n",
    "7. check for garbage std season in the code\n",
    "8. ensure no duplicates in the combination[std brand name and location name] and mapping file [original brand name]\n",
    " "
   ]
  },
  {
   "cell_type": "code",
   "execution_count": 3,
   "id": "5c9a16cc",
   "metadata": {},
   "outputs": [
    {
     "ename": "AttributeError",
     "evalue": "partially initialized module 'pandas' has no attribute '_pandas_parser_CAPI' (most likely due to a circular import)",
     "output_type": "error",
     "traceback": [
      "\u001b[1;31m---------------------------------------------------------------------------\u001b[0m",
      "\u001b[1;31mAttributeError\u001b[0m                            Traceback (most recent call last)",
      "Cell \u001b[1;32mIn[3], line 1\u001b[0m\n\u001b[1;32m----> 1\u001b[0m \u001b[38;5;28;01mimport\u001b[39;00m \u001b[38;5;21;01mpandas\u001b[39;00m \u001b[38;5;28;01mas\u001b[39;00m \u001b[38;5;21;01mpd\u001b[39;00m\n\u001b[0;32m      2\u001b[0m \u001b[38;5;28;01mimport\u001b[39;00m \u001b[38;5;21;01mnumpy\u001b[39;00m \u001b[38;5;28;01mas\u001b[39;00m \u001b[38;5;21;01mnp\u001b[39;00m\n",
      "File \u001b[1;32mc:\\Users\\saad.qureshi\\AppData\\Local\\anaconda3\\Lib\\site-packages\\pandas\\__init__.py:138\u001b[0m\n\u001b[0;32m    119\u001b[0m \u001b[38;5;28;01mfrom\u001b[39;00m \u001b[38;5;21;01mpandas\u001b[39;00m\u001b[38;5;21;01m.\u001b[39;00m\u001b[38;5;21;01mcore\u001b[39;00m\u001b[38;5;21;01m.\u001b[39;00m\u001b[38;5;21;01mcomputation\u001b[39;00m\u001b[38;5;21;01m.\u001b[39;00m\u001b[38;5;21;01mapi\u001b[39;00m \u001b[38;5;28;01mimport\u001b[39;00m \u001b[38;5;28meval\u001b[39m\n\u001b[0;32m    121\u001b[0m \u001b[38;5;28;01mfrom\u001b[39;00m \u001b[38;5;21;01mpandas\u001b[39;00m\u001b[38;5;21;01m.\u001b[39;00m\u001b[38;5;21;01mcore\u001b[39;00m\u001b[38;5;21;01m.\u001b[39;00m\u001b[38;5;21;01mreshape\u001b[39;00m\u001b[38;5;21;01m.\u001b[39;00m\u001b[38;5;21;01mapi\u001b[39;00m \u001b[38;5;28;01mimport\u001b[39;00m (\n\u001b[0;32m    122\u001b[0m     concat,\n\u001b[0;32m    123\u001b[0m     lreshape,\n\u001b[1;32m   (...)\u001b[0m\n\u001b[0;32m    135\u001b[0m     qcut,\n\u001b[0;32m    136\u001b[0m )\n\u001b[1;32m--> 138\u001b[0m \u001b[38;5;28;01mfrom\u001b[39;00m \u001b[38;5;21;01mpandas\u001b[39;00m \u001b[38;5;28;01mimport\u001b[39;00m api, arrays, errors, io, plotting, tseries\n\u001b[0;32m    139\u001b[0m \u001b[38;5;28;01mfrom\u001b[39;00m \u001b[38;5;21;01mpandas\u001b[39;00m \u001b[38;5;28;01mimport\u001b[39;00m testing\n\u001b[0;32m    140\u001b[0m \u001b[38;5;28;01mfrom\u001b[39;00m \u001b[38;5;21;01mpandas\u001b[39;00m\u001b[38;5;21;01m.\u001b[39;00m\u001b[38;5;21;01mutil\u001b[39;00m\u001b[38;5;21;01m.\u001b[39;00m\u001b[38;5;21;01m_print_versions\u001b[39;00m \u001b[38;5;28;01mimport\u001b[39;00m show_versions\n",
      "File \u001b[1;32mc:\\Users\\saad.qureshi\\AppData\\Local\\anaconda3\\Lib\\site-packages\\pandas\\api\\__init__.py:2\u001b[0m\n\u001b[0;32m      1\u001b[0m \u001b[38;5;124;03m\"\"\" public toolkit API \"\"\"\u001b[39;00m\n\u001b[1;32m----> 2\u001b[0m \u001b[38;5;28;01mfrom\u001b[39;00m \u001b[38;5;21;01mpandas\u001b[39;00m\u001b[38;5;21;01m.\u001b[39;00m\u001b[38;5;21;01mapi\u001b[39;00m \u001b[38;5;28;01mimport\u001b[39;00m (\n\u001b[0;32m      3\u001b[0m     extensions,\n\u001b[0;32m      4\u001b[0m     indexers,\n\u001b[0;32m      5\u001b[0m     interchange,\n\u001b[0;32m      6\u001b[0m     types,\n\u001b[0;32m      7\u001b[0m     typing,\n\u001b[0;32m      8\u001b[0m )\n\u001b[0;32m     10\u001b[0m __all__ \u001b[38;5;241m=\u001b[39m [\n\u001b[0;32m     11\u001b[0m     \u001b[38;5;124m\"\u001b[39m\u001b[38;5;124minterchange\u001b[39m\u001b[38;5;124m\"\u001b[39m,\n\u001b[0;32m     12\u001b[0m     \u001b[38;5;124m\"\u001b[39m\u001b[38;5;124mextensions\u001b[39m\u001b[38;5;124m\"\u001b[39m,\n\u001b[1;32m   (...)\u001b[0m\n\u001b[0;32m     15\u001b[0m     \u001b[38;5;124m\"\u001b[39m\u001b[38;5;124mtyping\u001b[39m\u001b[38;5;124m\"\u001b[39m,\n\u001b[0;32m     16\u001b[0m ]\n",
      "File \u001b[1;32mc:\\Users\\saad.qureshi\\AppData\\Local\\anaconda3\\Lib\\site-packages\\pandas\\api\\typing\\__init__.py:31\u001b[0m\n\u001b[0;32m     19\u001b[0m \u001b[38;5;28;01mfrom\u001b[39;00m \u001b[38;5;21;01mpandas\u001b[39;00m\u001b[38;5;21;01m.\u001b[39;00m\u001b[38;5;21;01mcore\u001b[39;00m\u001b[38;5;21;01m.\u001b[39;00m\u001b[38;5;21;01mwindow\u001b[39;00m \u001b[38;5;28;01mimport\u001b[39;00m (\n\u001b[0;32m     20\u001b[0m     Expanding,\n\u001b[0;32m     21\u001b[0m     ExpandingGroupby,\n\u001b[1;32m   (...)\u001b[0m\n\u001b[0;32m     26\u001b[0m     Window,\n\u001b[0;32m     27\u001b[0m )\n\u001b[0;32m     29\u001b[0m \u001b[38;5;66;03m# TODO: Can't import Styler without importing jinja2\u001b[39;00m\n\u001b[0;32m     30\u001b[0m \u001b[38;5;66;03m# from pandas.io.formats.style import Styler\u001b[39;00m\n\u001b[1;32m---> 31\u001b[0m \u001b[38;5;28;01mfrom\u001b[39;00m \u001b[38;5;21;01mpandas\u001b[39;00m\u001b[38;5;21;01m.\u001b[39;00m\u001b[38;5;21;01mio\u001b[39;00m\u001b[38;5;21;01m.\u001b[39;00m\u001b[38;5;21;01mjson\u001b[39;00m\u001b[38;5;21;01m.\u001b[39;00m\u001b[38;5;21;01m_json\u001b[39;00m \u001b[38;5;28;01mimport\u001b[39;00m JsonReader\n\u001b[0;32m     32\u001b[0m \u001b[38;5;28;01mfrom\u001b[39;00m \u001b[38;5;21;01mpandas\u001b[39;00m\u001b[38;5;21;01m.\u001b[39;00m\u001b[38;5;21;01mio\u001b[39;00m\u001b[38;5;21;01m.\u001b[39;00m\u001b[38;5;21;01mstata\u001b[39;00m \u001b[38;5;28;01mimport\u001b[39;00m StataReader\n\u001b[0;32m     34\u001b[0m __all__ \u001b[38;5;241m=\u001b[39m [\n\u001b[0;32m     35\u001b[0m     \u001b[38;5;124m\"\u001b[39m\u001b[38;5;124mDataFrameGroupBy\u001b[39m\u001b[38;5;124m\"\u001b[39m,\n\u001b[0;32m     36\u001b[0m     \u001b[38;5;124m\"\u001b[39m\u001b[38;5;124mDatetimeIndexResamplerGroupby\u001b[39m\u001b[38;5;124m\"\u001b[39m,\n\u001b[1;32m   (...)\u001b[0m\n\u001b[0;32m     54\u001b[0m     \u001b[38;5;124m\"\u001b[39m\u001b[38;5;124mWindow\u001b[39m\u001b[38;5;124m\"\u001b[39m,\n\u001b[0;32m     55\u001b[0m ]\n",
      "File \u001b[1;32mc:\\Users\\saad.qureshi\\AppData\\Local\\anaconda3\\Lib\\site-packages\\pandas\\io\\json\\__init__.py:1\u001b[0m\n\u001b[1;32m----> 1\u001b[0m \u001b[38;5;28;01mfrom\u001b[39;00m \u001b[38;5;21;01mpandas\u001b[39;00m\u001b[38;5;21;01m.\u001b[39;00m\u001b[38;5;21;01mio\u001b[39;00m\u001b[38;5;21;01m.\u001b[39;00m\u001b[38;5;21;01mjson\u001b[39;00m\u001b[38;5;21;01m.\u001b[39;00m\u001b[38;5;21;01m_json\u001b[39;00m \u001b[38;5;28;01mimport\u001b[39;00m (\n\u001b[0;32m      2\u001b[0m     read_json,\n\u001b[0;32m      3\u001b[0m     to_json,\n\u001b[0;32m      4\u001b[0m     ujson_dumps,\n\u001b[0;32m      5\u001b[0m     ujson_loads,\n\u001b[0;32m      6\u001b[0m )\n\u001b[0;32m      7\u001b[0m \u001b[38;5;28;01mfrom\u001b[39;00m \u001b[38;5;21;01mpandas\u001b[39;00m\u001b[38;5;21;01m.\u001b[39;00m\u001b[38;5;21;01mio\u001b[39;00m\u001b[38;5;21;01m.\u001b[39;00m\u001b[38;5;21;01mjson\u001b[39;00m\u001b[38;5;21;01m.\u001b[39;00m\u001b[38;5;21;01m_table_schema\u001b[39;00m \u001b[38;5;28;01mimport\u001b[39;00m build_table_schema\n\u001b[0;32m      9\u001b[0m __all__ \u001b[38;5;241m=\u001b[39m [\n\u001b[0;32m     10\u001b[0m     \u001b[38;5;124m\"\u001b[39m\u001b[38;5;124mujson_dumps\u001b[39m\u001b[38;5;124m\"\u001b[39m,\n\u001b[0;32m     11\u001b[0m     \u001b[38;5;124m\"\u001b[39m\u001b[38;5;124mujson_loads\u001b[39m\u001b[38;5;124m\"\u001b[39m,\n\u001b[1;32m   (...)\u001b[0m\n\u001b[0;32m     14\u001b[0m     \u001b[38;5;124m\"\u001b[39m\u001b[38;5;124mbuild_table_schema\u001b[39m\u001b[38;5;124m\"\u001b[39m,\n\u001b[0;32m     15\u001b[0m ]\n",
      "File \u001b[1;32mc:\\Users\\saad.qureshi\\AppData\\Local\\anaconda3\\Lib\\site-packages\\pandas\\io\\json\\_json.py:71\u001b[0m\n\u001b[0;32m     66\u001b[0m \u001b[38;5;28;01mfrom\u001b[39;00m \u001b[38;5;21;01mpandas\u001b[39;00m\u001b[38;5;21;01m.\u001b[39;00m\u001b[38;5;21;01mio\u001b[39;00m\u001b[38;5;21;01m.\u001b[39;00m\u001b[38;5;21;01mjson\u001b[39;00m\u001b[38;5;21;01m.\u001b[39;00m\u001b[38;5;21;01m_normalize\u001b[39;00m \u001b[38;5;28;01mimport\u001b[39;00m convert_to_line_delimits\n\u001b[0;32m     67\u001b[0m \u001b[38;5;28;01mfrom\u001b[39;00m \u001b[38;5;21;01mpandas\u001b[39;00m\u001b[38;5;21;01m.\u001b[39;00m\u001b[38;5;21;01mio\u001b[39;00m\u001b[38;5;21;01m.\u001b[39;00m\u001b[38;5;21;01mjson\u001b[39;00m\u001b[38;5;21;01m.\u001b[39;00m\u001b[38;5;21;01m_table_schema\u001b[39;00m \u001b[38;5;28;01mimport\u001b[39;00m (\n\u001b[0;32m     68\u001b[0m     build_table_schema,\n\u001b[0;32m     69\u001b[0m     parse_table_schema,\n\u001b[0;32m     70\u001b[0m )\n\u001b[1;32m---> 71\u001b[0m \u001b[38;5;28;01mfrom\u001b[39;00m \u001b[38;5;21;01mpandas\u001b[39;00m\u001b[38;5;21;01m.\u001b[39;00m\u001b[38;5;21;01mio\u001b[39;00m\u001b[38;5;21;01m.\u001b[39;00m\u001b[38;5;21;01mparsers\u001b[39;00m\u001b[38;5;21;01m.\u001b[39;00m\u001b[38;5;21;01mreaders\u001b[39;00m \u001b[38;5;28;01mimport\u001b[39;00m validate_integer\n\u001b[0;32m     73\u001b[0m \u001b[38;5;28;01mif\u001b[39;00m TYPE_CHECKING:\n\u001b[0;32m     74\u001b[0m     \u001b[38;5;28;01mfrom\u001b[39;00m \u001b[38;5;21;01mcollections\u001b[39;00m\u001b[38;5;21;01m.\u001b[39;00m\u001b[38;5;21;01mabc\u001b[39;00m \u001b[38;5;28;01mimport\u001b[39;00m (\n\u001b[0;32m     75\u001b[0m         Hashable,\n\u001b[0;32m     76\u001b[0m         Mapping,\n\u001b[0;32m     77\u001b[0m     )\n",
      "File \u001b[1;32mc:\\Users\\saad.qureshi\\AppData\\Local\\anaconda3\\Lib\\site-packages\\pandas\\io\\parsers\\__init__.py:1\u001b[0m\n\u001b[1;32m----> 1\u001b[0m \u001b[38;5;28;01mfrom\u001b[39;00m \u001b[38;5;21;01mpandas\u001b[39;00m\u001b[38;5;21;01m.\u001b[39;00m\u001b[38;5;21;01mio\u001b[39;00m\u001b[38;5;21;01m.\u001b[39;00m\u001b[38;5;21;01mparsers\u001b[39;00m\u001b[38;5;21;01m.\u001b[39;00m\u001b[38;5;21;01mreaders\u001b[39;00m \u001b[38;5;28;01mimport\u001b[39;00m (\n\u001b[0;32m      2\u001b[0m     TextFileReader,\n\u001b[0;32m      3\u001b[0m     TextParser,\n\u001b[0;32m      4\u001b[0m     read_csv,\n\u001b[0;32m      5\u001b[0m     read_fwf,\n\u001b[0;32m      6\u001b[0m     read_table,\n\u001b[0;32m      7\u001b[0m )\n\u001b[0;32m      9\u001b[0m __all__ \u001b[38;5;241m=\u001b[39m [\u001b[38;5;124m\"\u001b[39m\u001b[38;5;124mTextFileReader\u001b[39m\u001b[38;5;124m\"\u001b[39m, \u001b[38;5;124m\"\u001b[39m\u001b[38;5;124mTextParser\u001b[39m\u001b[38;5;124m\"\u001b[39m, \u001b[38;5;124m\"\u001b[39m\u001b[38;5;124mread_csv\u001b[39m\u001b[38;5;124m\"\u001b[39m, \u001b[38;5;124m\"\u001b[39m\u001b[38;5;124mread_fwf\u001b[39m\u001b[38;5;124m\"\u001b[39m, \u001b[38;5;124m\"\u001b[39m\u001b[38;5;124mread_table\u001b[39m\u001b[38;5;124m\"\u001b[39m]\n",
      "File \u001b[1;32mc:\\Users\\saad.qureshi\\AppData\\Local\\anaconda3\\Lib\\site-packages\\pandas\\io\\parsers\\readers.py:32\u001b[0m\n\u001b[0;32m     29\u001b[0m \u001b[38;5;28;01mfrom\u001b[39;00m \u001b[38;5;21;01mpandas\u001b[39;00m\u001b[38;5;21;01m.\u001b[39;00m\u001b[38;5;21;01m_config\u001b[39;00m \u001b[38;5;28;01mimport\u001b[39;00m using_copy_on_write\n\u001b[0;32m     31\u001b[0m \u001b[38;5;28;01mfrom\u001b[39;00m \u001b[38;5;21;01mpandas\u001b[39;00m\u001b[38;5;21;01m.\u001b[39;00m\u001b[38;5;21;01m_libs\u001b[39;00m \u001b[38;5;28;01mimport\u001b[39;00m lib\n\u001b[1;32m---> 32\u001b[0m \u001b[38;5;28;01mfrom\u001b[39;00m \u001b[38;5;21;01mpandas\u001b[39;00m\u001b[38;5;21;01m.\u001b[39;00m\u001b[38;5;21;01m_libs\u001b[39;00m\u001b[38;5;21;01m.\u001b[39;00m\u001b[38;5;21;01mparsers\u001b[39;00m \u001b[38;5;28;01mimport\u001b[39;00m STR_NA_VALUES\n\u001b[0;32m     33\u001b[0m \u001b[38;5;28;01mfrom\u001b[39;00m \u001b[38;5;21;01mpandas\u001b[39;00m\u001b[38;5;21;01m.\u001b[39;00m\u001b[38;5;21;01merrors\u001b[39;00m \u001b[38;5;28;01mimport\u001b[39;00m (\n\u001b[0;32m     34\u001b[0m     AbstractMethodError,\n\u001b[0;32m     35\u001b[0m     ParserWarning,\n\u001b[0;32m     36\u001b[0m )\n\u001b[0;32m     37\u001b[0m \u001b[38;5;28;01mfrom\u001b[39;00m \u001b[38;5;21;01mpandas\u001b[39;00m\u001b[38;5;21;01m.\u001b[39;00m\u001b[38;5;21;01mutil\u001b[39;00m\u001b[38;5;21;01m.\u001b[39;00m\u001b[38;5;21;01m_decorators\u001b[39;00m \u001b[38;5;28;01mimport\u001b[39;00m Appender\n",
      "File \u001b[1;32mparsers.pyx:1418\u001b[0m, in \u001b[0;36minit pandas._libs.parsers\u001b[1;34m()\u001b[0m\n",
      "\u001b[1;31mAttributeError\u001b[0m: partially initialized module 'pandas' has no attribute '_pandas_parser_CAPI' (most likely due to a circular import)"
     ]
    }
   ],
   "source": [
    "import pandas as pd\n",
    "import numpy as np"
   ]
  },
  {
   "cell_type": "markdown",
   "id": "84970bfd",
   "metadata": {},
   "source": [
    "parameters"
   ]
  },
  {
   "cell_type": "code",
   "execution_count": null,
   "id": "c5239e53",
   "metadata": {},
   "outputs": [
    {
     "data": {
      "text/plain": [
       "\"    'FLYING TIGER': 2\\n}\""
      ]
     },
     "execution_count": 42,
     "metadata": {},
     "output_type": "execute_result"
    }
   ],
   "source": [
    "\n",
    "SOH_File = 'SOH-mar.xlsx'\n",
    "first_first_bucket_number_seasons = 5\n",
    "damage_percentage = 1\n",
    "leftover_running_percentage = .15\n",
    "leftover_closed_percentage = .5\n",
    "closed_percentage = .5\n",
    "\n",
    "brand_specific_provision = {}\n",
    "'''    'FLYING TIGER': 2\n",
    "}'''"
   ]
  },
  {
   "cell_type": "code",
   "execution_count": null,
   "id": "adcc5989",
   "metadata": {},
   "outputs": [],
   "source": [
    "import re\n",
    "\n",
    "def season_sort_key(season):\n",
    "    if not isinstance(season, str) or len(season) < 4:\n",
    "        return (0, 0)  # Push unknowns to bottom\n",
    "\n",
    "    season_type = season[:2]  # 'AW' or 'SS'\n",
    "    year = int(season[-2:])\n",
    "\n",
    "    # AW should come *before* SS, so give it a higher priority\n",
    "    season_rank = 1 if season_type == \"AW\" else 0\n",
    "\n",
    "    return (year, season_rank)\n",
    "\n",
    "def standardize_season(raw_season):\n",
    "    if not isinstance(raw_season, str) or raw_season.strip() == \"\":\n",
    "        return \"Unknown\"\n",
    "\n",
    "    season = raw_season.strip().upper()\n",
    "\n",
    "    # --- Priority: continuity/old ---\n",
    "    if \"CONTINUITY\" in season or \"BASICS\" in season:\n",
    "        return \"Continuity\"\n",
    "\n",
    "    elif \"OLD\" in season:\n",
    "        return \"Old-\"\n",
    "\n",
    "    # --- 4-digit year + seasonal tag ---\n",
    "    year_match = re.search(r\"(20\\d{2})\", season)\n",
    "    if year_match:\n",
    "        year = year_match.group(1)[2:]  # Take last 2 digits, e.g., '2023' → '23'\n",
    "\n",
    "        if any(tag in season for tag in [\"SPRING\", \"SUMMER\", \"SS\"]):\n",
    "            return f\"SS{year}\"\n",
    "        elif any(tag in season for tag in [\"AUTUMN\", \"WINTER\", \"AW\"]):\n",
    "            return f\"AW{year}\"\n",
    "\n",
    "    # --- 2-digit season pattern like AW23, SS22 ---\n",
    "    match = re.search(r\"(SS|AW)(\\d{2})\", season)\n",
    "    if match:\n",
    "        return f\"{match.group(1)}{match.group(2)}\"\n",
    "\n",
    "    # --- WA fallback to AW ---\n",
    "    if \"WA\" in season:\n",
    "        match = re.search(r\"WA(\\d{2})\", season)\n",
    "        if match:\n",
    "            return f\"AW{match.group(1)}\"\n",
    "\n",
    "    # --- Last resort: any 2-digit year with best guess ---\n",
    "    match = re.search(r\"(\\d{2})\", season)\n",
    "    if match:\n",
    "        return f\"SS{match.group(1)}\"\n",
    "    \n",
    "    return \"Unknown\"  # default if nothing matches\n"
   ]
  },
  {
   "cell_type": "markdown",
   "id": "bc144dc1",
   "metadata": {},
   "source": [
    "aging provision as per policy"
   ]
  },
  {
   "cell_type": "code",
   "execution_count": null,
   "id": "a93a0726",
   "metadata": {},
   "outputs": [
    {
     "name": "stderr",
     "output_type": "stream",
     "text": [
      "C:\\Users\\saad.qureshi\\AppData\\Local\\Temp\\ipykernel_31956\\3354986209.py:5: FutureWarning: A value is trying to be set on a copy of a DataFrame or Series through chained assignment using an inplace method.\n",
      "The behavior will change in pandas 3.0. This inplace method will never work because the intermediate object on which we are setting values always behaves as a copy.\n",
      "\n",
      "For example, when doing 'df[col].method(value, inplace=True)', try using 'df.method({col: value}, inplace=True)' or df[col] = df[col].method(value) instead, to perform the operation inplace on the original object.\n",
      "\n",
      "\n",
      "  soh['NETTOTAL_COST'].fillna(0, inplace=True)\n"
     ]
    },
    {
     "data": {
      "text/plain": [
       "418141106.11822"
      ]
     },
     "execution_count": 44,
     "metadata": {},
     "output_type": "execute_result"
    }
   ],
   "source": [
    "soh = pd.read_excel(SOH_File, sheet_name='Sheet1')\n",
    "soh = soh[(soh['GROUP_NAME'] != 'Aleph' )& (soh['AR Comments'] == 'Consider')]\n",
    "existing_balances = pd.read_excel('current_balance.xlsx', sheet_name='Sheet1')\n",
    "mapping = pd.read_excel('mapping.xlsx', sheet_name='Sheet1')\n",
    "soh['NETTOTAL_COST'].fillna(0, inplace=True)\n",
    "soh['NETTOTAL_COST'] = pd.to_numeric(soh['NETTOTAL_COST'], errors='coerce')\n",
    "\n",
    "original_season = 'SEASON_DESC' if 'SEASON_DESC' in soh.columns else 'SEASON DESC'\n",
    "soh['NETTOTAL_COST'].sum()\n"
   ]
  },
  {
   "cell_type": "code",
   "execution_count": null,
   "id": "e994e094",
   "metadata": {},
   "outputs": [],
   "source": [
    "combinations = pd.read_excel('combinations.xlsx', sheet_name='Sheet1')"
   ]
  },
  {
   "cell_type": "code",
   "execution_count": null,
   "id": "3711473f",
   "metadata": {},
   "outputs": [
    {
     "data": {
      "text/plain": [
       "418141106.11822"
      ]
     },
     "execution_count": 46,
     "metadata": {},
     "output_type": "execute_result"
    }
   ],
   "source": [
    "soh['GROUP_NAME'] = soh['GROUP_NAME'].str.upper()\n",
    "mapping['GROUP_NAME'] = mapping['GROUP_NAME'].str.upper()\n",
    "soh = soh.merge(mapping, on='GROUP_NAME', how='left')\n",
    "#soh['Std Brand'] = np.where(soh['Std Brand'].isna(), soh['GROUP_NAME'], soh['Std Brand'])\n",
    "soh = soh[(soh['Closed_status'] != 'Exit' )]\n",
    "soh['NETTOTAL_COST'].sum()"
   ]
  },
  {
   "cell_type": "code",
   "execution_count": null,
   "id": "f3f55197",
   "metadata": {},
   "outputs": [
    {
     "data": {
      "text/plain": [
       "\"valid_brands = soh.groupby('Std Brand')['NETTOTAL_COST'].sum()\\nvalid_brands = valid_brands[valid_brands != 0].index\\n\\n# Step 2: filter original DataFrame\\nsoh = soh[soh['Std Brand'].isin(valid_brands)]\\nsoh['NETTOTAL_COST'].sum()\""
      ]
     },
     "execution_count": 47,
     "metadata": {},
     "output_type": "execute_result"
    }
   ],
   "source": [
    "'''valid_brands = soh.groupby('Std Brand')['NETTOTAL_COST'].sum()\n",
    "valid_brands = valid_brands[valid_brands != 0].index\n",
    "\n",
    "# Step 2: filter original DataFrame\n",
    "soh = soh[soh['Std Brand'].isin(valid_brands)]\n",
    "soh['NETTOTAL_COST'].sum()'''"
   ]
  },
  {
   "cell_type": "code",
   "execution_count": null,
   "id": "abfa0678",
   "metadata": {},
   "outputs": [],
   "source": [
    "soh['std_season'] = soh[original_season].apply(standardize_season)"
   ]
  },
  {
   "cell_type": "code",
   "execution_count": null,
   "id": "15e33afb",
   "metadata": {},
   "outputs": [],
   "source": [
    "excluded = {'Unknown', 'Continuity', 'Old-','AW97'}\n",
    "unique_season = [f for f in soh['std_season'].dropna().unique() if f not in excluded]"
   ]
  },
  {
   "cell_type": "code",
   "execution_count": null,
   "id": "247a4230",
   "metadata": {},
   "outputs": [],
   "source": [
    "sorted_std_season_in_soh = sorted(unique_season, key=season_sort_key, reverse=True)"
   ]
  },
  {
   "cell_type": "code",
   "execution_count": null,
   "id": "ee4b2cc8",
   "metadata": {},
   "outputs": [],
   "source": [
    "bucket1 = sorted_std_season_in_soh[:first_first_bucket_number_seasons]\n",
    "bucket2 = sorted_std_season_in_soh[first_first_bucket_number_seasons:first_first_bucket_number_seasons + 3]\n",
    "bucket3 = sorted_std_season_in_soh[first_first_bucket_number_seasons+3:first_first_bucket_number_seasons + 6] \n",
    "bucket4 = sorted_std_season_in_soh[first_first_bucket_number_seasons + 6:]"
   ]
  },
  {
   "cell_type": "code",
   "execution_count": null,
   "id": "31f5dc24",
   "metadata": {},
   "outputs": [
    {
     "data": {
      "text/plain": [
       "['AW25', 'SS25', 'AW24', 'SS24', 'AW23']"
      ]
     },
     "execution_count": 52,
     "metadata": {},
     "output_type": "execute_result"
    }
   ],
   "source": [
    "bucket1"
   ]
  },
  {
   "cell_type": "code",
   "execution_count": null,
   "id": "1851fa91",
   "metadata": {},
   "outputs": [],
   "source": [
    "bucket1 =   bucket1 + ['Unknown','Continuity'] \n",
    "bucket4 = bucket4 + [  'Old-','AW97'] "
   ]
  },
  {
   "cell_type": "code",
   "execution_count": null,
   "id": "388f836e",
   "metadata": {},
   "outputs": [],
   "source": [
    "\n",
    "conditions = [\n",
    "    soh['std_season'].isin(bucket1),\n",
    "    soh['std_season'].isin(bucket2),\n",
    "    soh['std_season'].isin(bucket3)\n",
    "]\n",
    "\n",
    "choices = ['bucket1', 'bucket2', 'bucket3']\n",
    "\n",
    "soh['season_bucket'] = np.select(conditions, choices, default='bucket4')"
   ]
  },
  {
   "cell_type": "code",
   "execution_count": null,
   "id": "1c72e345",
   "metadata": {},
   "outputs": [],
   "source": [
    "soh['Continuity_factor'] = 0.40\n",
    "soh['provision_%_policy'] = soh['season_bucket'].map({\n",
    "    'bucket1': 0,\n",
    "    'bucket2': 0.15,\n",
    "    'bucket3': 0.50,\n",
    "    'bucket4': 0.75  # Assuming bucket4 is the default for other buckets\n",
    "\n",
    "})  # Or any default value for other buckets like 'bucket3', 'bucket4'"
   ]
  },
  {
   "cell_type": "code",
   "execution_count": null,
   "id": "3c227751",
   "metadata": {},
   "outputs": [],
   "source": [
    "\n",
    "soh.loc[\n",
    "    soh['Model'].isin([\n",
    "        'Consignment',\n",
    "        'Guaranteed Margin',\n",
    "        'Buying Pull - Mango'\n",
    "    ]),\n",
    "    ['provision_amount_policy', 'provision_%_policy', 'Continuity_factor']\n",
    "] = 0\n",
    "\n",
    "soh['provision_amount_policy'] = soh['NETTOTAL_COST'] * soh['provision_%_policy'] * soh['Continuity_factor']"
   ]
  },
  {
   "cell_type": "markdown",
   "id": "9fd0f95b",
   "metadata": {},
   "source": [
    "Damage locations\n"
   ]
  },
  {
   "cell_type": "code",
   "execution_count": null,
   "id": "5b7343ae",
   "metadata": {},
   "outputs": [],
   "source": [
    "soh['location_catergory'] = \"Store, Online & WH\"\n",
    "\n",
    "soh.loc[\n",
    "    soh['LOCATION_NAME'].astype(str).str.lower().str.contains('leftover', na=False),\n",
    "    \"location_catergory\"\n",
    "] = \"Leftover\"\n",
    "soh.loc[soh['LOCATION_NAME'].astype(str).str.lower().str.contains('damage', na=False),\"location_catergory\"] = \"Damage\"\n",
    "soh.loc[soh['LOCATION_NAME'].astype(str).str.lower().str.contains('sulay', na=False),\"location_catergory\"] = \"Leftover\""
   ]
  },
  {
   "cell_type": "code",
   "execution_count": null,
   "id": "fcc62ad6",
   "metadata": {},
   "outputs": [],
   "source": [
    "condition = soh['location_catergory'] == \"Damage\"  \n",
    "\n",
    "\n",
    "soh.loc[condition, 'additional_provision'] = (soh[\"NETTOTAL_COST\"] * damage_percentage) - soh['provision_amount_policy']\n",
    "\n"
   ]
  },
  {
   "cell_type": "markdown",
   "id": "da7c552c",
   "metadata": {},
   "source": [
    "Leftover"
   ]
  },
  {
   "cell_type": "code",
   "execution_count": null,
   "id": "f915be27",
   "metadata": {},
   "outputs": [],
   "source": [
    "\n",
    "#Leftover of the closed brands\n",
    "condition =(\n",
    "    (soh['Closed_status'] == \"Closed\") & \n",
    "    ( soh['location_catergory'] == \"Leftover\" ) \n",
    "    ) \n",
    "\n",
    "soh.loc[condition, 'additional_provision'] = (soh[\"NETTOTAL_COST\"] * leftover_closed_percentage) - soh['provision_amount_policy']\n",
    "\n",
    "condition =(\n",
    "    (soh['Closed_status'] != \"Closed\") & \n",
    "    ( soh['location_catergory'] == \"Leftover\" ) \n",
    "    ) \n",
    "\n",
    "soh.loc[condition, 'additional_provision'] = (soh[\"NETTOTAL_COST\"] * leftover_running_percentage) - soh['provision_amount_policy']\n"
   ]
  },
  {
   "cell_type": "markdown",
   "id": "93bd7031",
   "metadata": {},
   "source": [
    "Closed brands"
   ]
  },
  {
   "cell_type": "code",
   "execution_count": null,
   "id": "bdfcfc82",
   "metadata": {},
   "outputs": [],
   "source": [
    "condition = (\n",
    "    (soh['Closed_status'] == \"Closed\") & \n",
    "    (~soh['location_catergory'].isin([\"Leftover\",\"Damage\"] )) \n",
    "    )\n",
    "soh.loc[condition, 'additional_provision'] =    (soh[\"NETTOTAL_COST\"] * closed_percentage) - soh['provision_amount_policy']"
   ]
  },
  {
   "cell_type": "markdown",
   "id": "4c3bc9d2",
   "metadata": {},
   "source": [
    "Brand specific provisions"
   ]
  },
  {
   "cell_type": "code",
   "execution_count": null,
   "id": "4fb9f149",
   "metadata": {},
   "outputs": [],
   "source": [
    "if brand_specific_provision:\n",
    "    soh['additional_provision'] = np.where(\n",
    "        soh['Std Brand'].isin(brand_specific_provision.keys()),\n",
    "        soh['NETTOTAL_COST'] * soh['Std Brand'].map(brand_specific_provision) - soh['provision_amount_policy'],\n",
    "        soh['additional_provision']\n",
    "    )"
   ]
  },
  {
   "cell_type": "markdown",
   "id": "7b077287",
   "metadata": {},
   "source": [
    "removing the consginement and gurantee margin provision"
   ]
  },
  {
   "cell_type": "code",
   "execution_count": null,
   "id": "13c27072",
   "metadata": {},
   "outputs": [],
   "source": [
    "soh.loc[\n",
    "    soh['Model'].isin([\n",
    "        'Consignment',\n",
    "        'Guaranteed Margin',\n",
    "        'Buying Pull - Mango'\n",
    "    ]),\n",
    "    ['provision_amount_policy', 'provision_%_policy', 'Continuity_factor','additional_provision']\n",
    "] = 0\n",
    "\n",
    "soh['provision_amount_policy'] = soh['provision_amount_policy'].fillna(0)\n",
    "soh['additional_provision'] = soh['additional_provision'].fillna(0)\n",
    "\n",
    "\n",
    "soh['Total Provision'] = soh['provision_amount_policy'] + soh['additional_provision']"
   ]
  },
  {
   "cell_type": "code",
   "execution_count": null,
   "id": "7fc4ffd4",
   "metadata": {},
   "outputs": [],
   "source": [
    "soh.to_csv(r\"Output/aging_provision.csv\")"
   ]
  },
  {
   "cell_type": "markdown",
   "id": "92dc6bb5",
   "metadata": {},
   "source": [
    "Summary"
   ]
  },
  {
   "cell_type": "code",
   "execution_count": null,
   "id": "dbdd2c7d",
   "metadata": {},
   "outputs": [],
   "source": [
    "summary = soh.groupby(by='Std Brand')[[\"NETTOTAL_COST\",'provision_amount_policy','additional_provision','Total Provision']].sum()\n",
    "summary['coverage'] = summary['Total Provision'] / summary['NETTOTAL_COST']"
   ]
  },
  {
   "cell_type": "markdown",
   "id": "5fc10c26",
   "metadata": {},
   "source": [
    "Combinations"
   ]
  },
  {
   "cell_type": "code",
   "execution_count": null,
   "id": "7584f043",
   "metadata": {},
   "outputs": [],
   "source": [
    "soh_with_combinations = soh.merge(combinations, on=['Std Brand','LOCATION'], how='left')\n",
    "soh_with_combinations[['s1', 's2', 's3', 's4']]= soh_with_combinations[['s1', 's2', 's3', 's4']].fillna(0)\n",
    "soh_with_combinations.to_excel(r\"Output/aging_provision_combinations.xlsx\", index=False)"
   ]
  },
  {
   "cell_type": "markdown",
   "id": "14f4f631",
   "metadata": {},
   "source": [
    "checks"
   ]
  },
  {
   "cell_type": "code",
   "execution_count": null,
   "id": "76d69bfb",
   "metadata": {},
   "outputs": [],
   "source": [
    "# verify the original seasons in the std buckets \n",
    "check_buckets = soh[['season_bucket','std_season' ]].drop_duplicates()"
   ]
  },
  {
   "cell_type": "code",
   "execution_count": null,
   "id": "fda22e40",
   "metadata": {},
   "outputs": [],
   "source": [
    "# verify the seasons in the correct buckets \n",
    "check_season = soh[['std_season', original_season]].drop_duplicates()"
   ]
  },
  {
   "cell_type": "code",
   "execution_count": null,
   "id": "0a4067c6",
   "metadata": {},
   "outputs": [],
   "source": [
    "#missing combinations in output\n",
    "missing_combinations = soh_with_combinations[(soh_with_combinations['NETTOTAL_COST'] != 0)&(soh_with_combinations['s1'].isna())] "
   ]
  },
  {
   "cell_type": "code",
   "execution_count": null,
   "id": "f742a738",
   "metadata": {},
   "outputs": [
    {
     "name": "stdout",
     "output_type": "stream",
     "text": [
      "Missing values in SOH key columns: 18\n",
      "Duplicate original brand names in mapping: 0\n",
      "Std Brands in SOH missing from mapping: {nan}\n",
      "Std Brands in mapping missing from SOH: {'LA VIE EN ROSE', 'MONSOON ACCESSORIZE', 'CHARLES & KEITH', 'MACHKA', 'ESTEE LAUDER', \"WOMEN'S SECRET\", 'ADL', 'ZIDDY KIDS', 'IPEKYOL', 'LASENZA', 'PEDRO', 'NINE WEST', 'FLORMAR', 'ALDO & ALDO ACCS', 'SPRING', 'SPRINGFIELDS', 'OXXO', 'MARIE FRANCE', 'TWIST'}\n",
      "Rows with garbage/unknown std_season: 1195\n",
      "Rows missing combination mapping: 0\n"
     ]
    }
   ],
   "source": [
    "# 1. Check for missing values in key columns\n",
    "missing_in_soh = soh[soh[['Std Brand', 'LOCATION_NAME', 'NETTOTAL_COST', 'std_season']].isnull().any(axis=1)]\n",
    "print(\"Missing values in SOH key columns:\", missing_in_soh.shape[0])\n",
    "\n",
    "\n",
    "# 3. Check for duplicates in mapping [original brand name]\n",
    "duplicates_mapping = mapping.duplicated(subset=['GROUP_NAME'], keep=False)\n",
    "print(\"Duplicate original brand names in mapping:\", mapping[duplicates_mapping].shape[0])\n",
    "\n",
    "# 4. Check for missing standard brands in mapping and SOH\n",
    "missing_std_brands_in_mapping = set(soh['Std Brand']) - set(mapping['Std Brand'])\n",
    "print(\"Std Brands in SOH missing from mapping:\", missing_std_brands_in_mapping)\n",
    "\n",
    "missing_std_brands_in_soh = set(mapping['Std Brand']) - set(soh['Std Brand'])\n",
    "print(\"Std Brands in mapping missing from SOH:\", missing_std_brands_in_soh)\n",
    "\n",
    "# 5. Check for garbage/unknown seasons in std_season\n",
    "garbage_seasons = soh[soh['std_season'].isin(['Unknown', 'Old-', 'AW97'])]\n",
    "print(\"Rows with garbage/unknown std_season:\", garbage_seasons.shape[0])\n",
    "\n",
    "# 6. Check for missing in combinations merge\n",
    "missing_comb_rows = soh_with_combinations[soh_with_combinations['s1'].isnull()]\n",
    "print(\"Rows missing combination mapping:\", missing_comb_rows.shape[0])\n"
   ]
  },
  {
   "cell_type": "code",
   "execution_count": null,
   "id": "858666e4",
   "metadata": {},
   "outputs": [
    {
     "data": {
      "application/vnd.microsoft.datawrangler.viewer.v0+json": {
       "columns": [
        {
         "name": "Std Brand",
         "rawType": "object",
         "type": "string"
        },
        {
         "name": "NETTOTAL_COST",
         "rawType": "float64",
         "type": "float"
        }
       ],
       "ref": "0caf3232-1ff6-4d2a-ae09-2cf604e23100",
       "rows": [
        [
         "BERSHKA",
         "-582951.03527"
        ],
        [
         "Decathlon",
         "-1863420.14222"
        ],
        [
         "LEFTIES",
         "-1507026.93176"
        ],
        [
         "MASSIMO DUTTI",
         "1728736.99014"
        ],
        [
         "OYSHO",
         "258426.76076000006"
        ],
        [
         "PULL AND BEAR",
         "1587360.97662"
        ],
        [
         "STRADIVARIOUS",
         "-225606.6594199998"
        ],
        [
         "ZARA",
         "-14801798.511780001"
        ],
        [
         "ZARA HOME",
         "102701.28493000002"
        ]
       ],
       "shape": {
        "columns": 1,
        "rows": 9
       }
      },
      "text/plain": [
       "Std Brand\n",
       "BERSHKA         -5.829510e+05\n",
       "Decathlon       -1.863420e+06\n",
       "LEFTIES         -1.507027e+06\n",
       "MASSIMO DUTTI    1.728737e+06\n",
       "OYSHO            2.584268e+05\n",
       "PULL AND BEAR    1.587361e+06\n",
       "STRADIVARIOUS   -2.256067e+05\n",
       "ZARA            -1.480180e+07\n",
       "ZARA HOME        1.027013e+05\n",
       "Name: NETTOTAL_COST, dtype: float64"
      ]
     },
     "execution_count": 70,
     "metadata": {},
     "output_type": "execute_result"
    }
   ],
   "source": [
    "soh_with_combinations[soh_with_combinations[original_season].isna() | (soh_with_combinations[original_season] == '')].groupby('Std Brand')['NETTOTAL_COST'].sum()"
   ]
  },
  {
   "cell_type": "markdown",
   "id": "de7d4b30",
   "metadata": {},
   "source": [
    "Preparation of the entry"
   ]
  },
  {
   "cell_type": "code",
   "execution_count": null,
   "id": "6ff2e7aa",
   "metadata": {},
   "outputs": [
    {
     "data": {
      "text/plain": [
       "31003352.632795796"
      ]
     },
     "execution_count": 71,
     "metadata": {},
     "output_type": "execute_result"
    }
   ],
   "source": [
    "soh_with_combinations['Total Provision'].sum()"
   ]
  },
  {
   "cell_type": "code",
   "execution_count": null,
   "id": "c2d966b2",
   "metadata": {},
   "outputs": [],
   "source": [
    "entry = soh_with_combinations.groupby([\"s1\",\"s2\",\"s3\",\"s4\"])['Total Provision'].sum().reset_index().fillna(0)\n",
    "entry['s5'] = 63002\n"
   ]
  },
  {
   "cell_type": "code",
   "execution_count": null,
   "id": "ec7efe8d",
   "metadata": {},
   "outputs": [
    {
     "data": {
      "text/plain": [
       "31003352.6327958"
      ]
     },
     "execution_count": 73,
     "metadata": {},
     "output_type": "execute_result"
    }
   ],
   "source": [
    "entry['Total Provision'].sum()"
   ]
  },
  {
   "cell_type": "code",
   "execution_count": null,
   "id": "fab96412",
   "metadata": {},
   "outputs": [],
   "source": [
    "entry2 = entry.copy()\n",
    "entry2['Total Provision'] = entry2['Total Provision'] * -1\n",
    "entry2['s5'] = 23993"
   ]
  },
  {
   "cell_type": "code",
   "execution_count": null,
   "id": "5f60a2fa",
   "metadata": {},
   "outputs": [],
   "source": [
    "completed_entry = pd.concat([entry, entry2], ignore_index=True)\n",
    "completed_entry.rename(columns={'Total Provision': 'Dr/(CR)'}, inplace=True)\n",
    "completed_entry = completed_entry[completed_entry['Dr/(CR)'] != 0]"
   ]
  },
  {
   "cell_type": "code",
   "execution_count": null,
   "id": "aaabb4af",
   "metadata": {},
   "outputs": [],
   "source": [
    "completed_entry[['s1', 's2', 's3', 's4', 's5','Dr/(CR)']].to_csv(r\"Output/completed_entry.csv\", index=False)"
   ]
  },
  {
   "cell_type": "markdown",
   "id": "c78886bd",
   "metadata": {},
   "source": [
    "difference entry"
   ]
  },
  {
   "cell_type": "code",
   "execution_count": null,
   "id": "fd5a59f7",
   "metadata": {},
   "outputs": [],
   "source": [
    "diff_table = soh_with_combinations.groupby([\"s1\",\"s2\",\"s3\",\"s4\"])['Total Provision'].sum().reset_index().fillna(0).merge(existing_balances, on=['s1','s2','s3','s4'], how='outer').fillna(0)"
   ]
  },
  {
   "cell_type": "code",
   "execution_count": null,
   "id": "46896222",
   "metadata": {},
   "outputs": [],
   "source": [
    "diff_table['Dr/(CR)'] = (diff_table['Total Provision'] + diff_table['Closing balance'])*-1\n",
    "diff_table.drop(['Closing balance','Total Provision'], inplace=True,axis=1)"
   ]
  },
  {
   "cell_type": "code",
   "execution_count": null,
   "id": "6a55dd6f",
   "metadata": {},
   "outputs": [],
   "source": [
    "diff_table['s5'] = 23993"
   ]
  },
  {
   "cell_type": "code",
   "execution_count": null,
   "id": "5773c097",
   "metadata": {},
   "outputs": [],
   "source": [
    "diff_table2 = entry.copy()\n",
    "diff_table2['Dr/(CR)'] = diff_table2['Dr/(CR)'] * -1\n",
    "diff_table2['s5'] = 63002"
   ]
  },
  {
   "cell_type": "code",
   "execution_count": null,
   "id": "a204c4ea",
   "metadata": {},
   "outputs": [],
   "source": [
    "diff_entry = pd.concat([diff_table, diff_table2], ignore_index=True)\n",
    "#diff_entry.rename(columns={'Total Provision': 'Dr/(CR)'}, inplace=True)\n",
    "diff_entry = diff_entry[diff_entry['Dr/(CR)'] != 0]"
   ]
  },
  {
   "cell_type": "code",
   "execution_count": null,
   "id": "31807132",
   "metadata": {},
   "outputs": [],
   "source": [
    "diff_entry[['s1', 's2', 's3', 's4', 's5','Dr/(CR)']].to_csv(r\"Output/diff_entry.csv\", index=False)"
   ]
  },
  {
   "cell_type": "markdown",
   "id": "e0c143c7",
   "metadata": {},
   "source": [
    "Analysis"
   ]
  },
  {
   "cell_type": "code",
   "execution_count": null,
   "id": "4562d8d9",
   "metadata": {},
   "outputs": [
    {
     "data": {
      "application/vnd.microsoft.datawrangler.viewer.v0+json": {
       "columns": [
        {
         "name": "Std Brand",
         "rawType": "object",
         "type": "string"
        },
        {
         "name": "NETTOTAL_COST",
         "rawType": "float64",
         "type": "float"
        },
        {
         "name": "Total Provision",
         "rawType": "float64",
         "type": "float"
        },
        {
         "name": "coverage",
         "rawType": "float64",
         "type": "float"
        }
       ],
       "ref": "d5c0558c-237c-4ea8-9b0d-5ab8dbbb9bb1",
       "rows": [
        [
         "ALO YOGA",
         "23730.112",
         "23730.112",
         "1.0"
        ],
        [
         "BERSHKA",
         "693344.7302",
         "693344.7302",
         "1.0"
        ],
        [
         "CLARKS",
         "64129.72",
         "64129.72",
         "1.0"
        ],
        [
         "DESIGUAL",
         "4884.041",
         "0.0",
         "0.0"
        ],
        [
         "FG4 KIDS",
         "179666.2232",
         "179666.2232",
         "1.0"
        ],
        [
         "FG4 WOMEN",
         "260973.892",
         "260973.892",
         "1.0"
        ],
        [
         "FLYING TIGER",
         "17745.6325",
         "17745.6325",
         "1.0"
        ],
        [
         "GAP",
         "175190.2136",
         "175190.2136",
         "1.0"
        ],
        [
         "JACADI",
         "32817.427899999995",
         "0.0",
         "0.0"
        ],
        [
         "KIKO",
         "152461.522",
         "152461.522",
         "1.0"
        ],
        [
         "LC Waikiki",
         "9022.9362",
         "9022.9362",
         "1.0"
        ],
        [
         "LEFTIES",
         "857500.4395",
         "857500.4395",
         "1.0"
        ],
        [
         "LOCAL PERFUMES",
         "2689.904",
         "2689.904",
         "1.0"
        ],
        [
         "MASSIMO DUTTI",
         "240479.27169999998",
         "240479.27169999998",
         "1.0"
        ],
        [
         "MAYORAL",
         "23565.6575",
         "23565.6575",
         "1.0"
        ],
        [
         "NATURE REPUBLIC",
         "2676.556",
         "2676.556",
         "1.0"
        ],
        [
         "NEW YORKER",
         "159610.7957",
         "0.0",
         "0.0"
        ],
        [
         "OKAIDI",
         "168673.26",
         "0.0",
         "0.0"
        ],
        [
         "OYSHO",
         "164964.7386",
         "164964.7386",
         "1.0"
        ],
        [
         "PANCO",
         "55177.494399999996",
         "0.0",
         "0.0"
        ],
        [
         "PUBLIC DESIRE",
         "25506.510000000002",
         "25506.510000000002",
         "1.0"
        ],
        [
         "PULL AND BEAR",
         "498153.4162",
         "498153.4162",
         "1.0"
        ],
        [
         "SERGENT MAJOR",
         "45237.4675",
         "0.0",
         "0.0"
        ],
        [
         "SFERA",
         "38810.7888",
         "38810.788799999995",
         "0.9999999999999998"
        ],
        [
         "STRADIVARIOUS",
         "274287.1097",
         "274287.1097",
         "1.0"
        ],
        [
         "THE CHILDREN'S PLACE",
         "6731.4331999999995",
         "6731.4331999999995",
         "1.0"
        ],
        [
         "US POLO",
         "0.0",
         "0.0",
         null
        ],
        [
         "ZARA",
         "3359270.8503",
         "3359270.8502999996",
         "0.9999999999999999"
        ],
        [
         "ZARA HOME",
         "336280.9948",
         "336280.9948",
         "1.0"
        ]
       ],
       "shape": {
        "columns": 3,
        "rows": 29
       }
      },
      "text/html": [
       "<div>\n",
       "<style scoped>\n",
       "    .dataframe tbody tr th:only-of-type {\n",
       "        vertical-align: middle;\n",
       "    }\n",
       "\n",
       "    .dataframe tbody tr th {\n",
       "        vertical-align: top;\n",
       "    }\n",
       "\n",
       "    .dataframe thead th {\n",
       "        text-align: right;\n",
       "    }\n",
       "</style>\n",
       "<table border=\"1\" class=\"dataframe\">\n",
       "  <thead>\n",
       "    <tr style=\"text-align: right;\">\n",
       "      <th></th>\n",
       "      <th>NETTOTAL_COST</th>\n",
       "      <th>Total Provision</th>\n",
       "      <th>coverage</th>\n",
       "    </tr>\n",
       "    <tr>\n",
       "      <th>Std Brand</th>\n",
       "      <th></th>\n",
       "      <th></th>\n",
       "      <th></th>\n",
       "    </tr>\n",
       "  </thead>\n",
       "  <tbody>\n",
       "    <tr>\n",
       "      <th>ALO YOGA</th>\n",
       "      <td>2.373011e+04</td>\n",
       "      <td>2.373011e+04</td>\n",
       "      <td>1.0</td>\n",
       "    </tr>\n",
       "    <tr>\n",
       "      <th>BERSHKA</th>\n",
       "      <td>6.933447e+05</td>\n",
       "      <td>6.933447e+05</td>\n",
       "      <td>1.0</td>\n",
       "    </tr>\n",
       "    <tr>\n",
       "      <th>CLARKS</th>\n",
       "      <td>6.412972e+04</td>\n",
       "      <td>6.412972e+04</td>\n",
       "      <td>1.0</td>\n",
       "    </tr>\n",
       "    <tr>\n",
       "      <th>DESIGUAL</th>\n",
       "      <td>4.884041e+03</td>\n",
       "      <td>0.000000e+00</td>\n",
       "      <td>0.0</td>\n",
       "    </tr>\n",
       "    <tr>\n",
       "      <th>FG4 KIDS</th>\n",
       "      <td>1.796662e+05</td>\n",
       "      <td>1.796662e+05</td>\n",
       "      <td>1.0</td>\n",
       "    </tr>\n",
       "    <tr>\n",
       "      <th>FG4 WOMEN</th>\n",
       "      <td>2.609739e+05</td>\n",
       "      <td>2.609739e+05</td>\n",
       "      <td>1.0</td>\n",
       "    </tr>\n",
       "    <tr>\n",
       "      <th>FLYING TIGER</th>\n",
       "      <td>1.774563e+04</td>\n",
       "      <td>1.774563e+04</td>\n",
       "      <td>1.0</td>\n",
       "    </tr>\n",
       "    <tr>\n",
       "      <th>GAP</th>\n",
       "      <td>1.751902e+05</td>\n",
       "      <td>1.751902e+05</td>\n",
       "      <td>1.0</td>\n",
       "    </tr>\n",
       "    <tr>\n",
       "      <th>JACADI</th>\n",
       "      <td>3.281743e+04</td>\n",
       "      <td>0.000000e+00</td>\n",
       "      <td>0.0</td>\n",
       "    </tr>\n",
       "    <tr>\n",
       "      <th>KIKO</th>\n",
       "      <td>1.524615e+05</td>\n",
       "      <td>1.524615e+05</td>\n",
       "      <td>1.0</td>\n",
       "    </tr>\n",
       "    <tr>\n",
       "      <th>LC Waikiki</th>\n",
       "      <td>9.022936e+03</td>\n",
       "      <td>9.022936e+03</td>\n",
       "      <td>1.0</td>\n",
       "    </tr>\n",
       "    <tr>\n",
       "      <th>LEFTIES</th>\n",
       "      <td>8.575004e+05</td>\n",
       "      <td>8.575004e+05</td>\n",
       "      <td>1.0</td>\n",
       "    </tr>\n",
       "    <tr>\n",
       "      <th>LOCAL PERFUMES</th>\n",
       "      <td>2.689904e+03</td>\n",
       "      <td>2.689904e+03</td>\n",
       "      <td>1.0</td>\n",
       "    </tr>\n",
       "    <tr>\n",
       "      <th>MASSIMO DUTTI</th>\n",
       "      <td>2.404793e+05</td>\n",
       "      <td>2.404793e+05</td>\n",
       "      <td>1.0</td>\n",
       "    </tr>\n",
       "    <tr>\n",
       "      <th>MAYORAL</th>\n",
       "      <td>2.356566e+04</td>\n",
       "      <td>2.356566e+04</td>\n",
       "      <td>1.0</td>\n",
       "    </tr>\n",
       "    <tr>\n",
       "      <th>NATURE REPUBLIC</th>\n",
       "      <td>2.676556e+03</td>\n",
       "      <td>2.676556e+03</td>\n",
       "      <td>1.0</td>\n",
       "    </tr>\n",
       "    <tr>\n",
       "      <th>NEW YORKER</th>\n",
       "      <td>1.596108e+05</td>\n",
       "      <td>0.000000e+00</td>\n",
       "      <td>0.0</td>\n",
       "    </tr>\n",
       "    <tr>\n",
       "      <th>OKAIDI</th>\n",
       "      <td>1.686733e+05</td>\n",
       "      <td>0.000000e+00</td>\n",
       "      <td>0.0</td>\n",
       "    </tr>\n",
       "    <tr>\n",
       "      <th>OYSHO</th>\n",
       "      <td>1.649647e+05</td>\n",
       "      <td>1.649647e+05</td>\n",
       "      <td>1.0</td>\n",
       "    </tr>\n",
       "    <tr>\n",
       "      <th>PANCO</th>\n",
       "      <td>5.517749e+04</td>\n",
       "      <td>0.000000e+00</td>\n",
       "      <td>0.0</td>\n",
       "    </tr>\n",
       "    <tr>\n",
       "      <th>PUBLIC DESIRE</th>\n",
       "      <td>2.550651e+04</td>\n",
       "      <td>2.550651e+04</td>\n",
       "      <td>1.0</td>\n",
       "    </tr>\n",
       "    <tr>\n",
       "      <th>PULL AND BEAR</th>\n",
       "      <td>4.981534e+05</td>\n",
       "      <td>4.981534e+05</td>\n",
       "      <td>1.0</td>\n",
       "    </tr>\n",
       "    <tr>\n",
       "      <th>SERGENT MAJOR</th>\n",
       "      <td>4.523747e+04</td>\n",
       "      <td>0.000000e+00</td>\n",
       "      <td>0.0</td>\n",
       "    </tr>\n",
       "    <tr>\n",
       "      <th>SFERA</th>\n",
       "      <td>3.881079e+04</td>\n",
       "      <td>3.881079e+04</td>\n",
       "      <td>1.0</td>\n",
       "    </tr>\n",
       "    <tr>\n",
       "      <th>STRADIVARIOUS</th>\n",
       "      <td>2.742871e+05</td>\n",
       "      <td>2.742871e+05</td>\n",
       "      <td>1.0</td>\n",
       "    </tr>\n",
       "    <tr>\n",
       "      <th>THE CHILDREN'S PLACE</th>\n",
       "      <td>6.731433e+03</td>\n",
       "      <td>6.731433e+03</td>\n",
       "      <td>1.0</td>\n",
       "    </tr>\n",
       "    <tr>\n",
       "      <th>US POLO</th>\n",
       "      <td>0.000000e+00</td>\n",
       "      <td>0.000000e+00</td>\n",
       "      <td>NaN</td>\n",
       "    </tr>\n",
       "    <tr>\n",
       "      <th>ZARA</th>\n",
       "      <td>3.359271e+06</td>\n",
       "      <td>3.359271e+06</td>\n",
       "      <td>1.0</td>\n",
       "    </tr>\n",
       "    <tr>\n",
       "      <th>ZARA HOME</th>\n",
       "      <td>3.362810e+05</td>\n",
       "      <td>3.362810e+05</td>\n",
       "      <td>1.0</td>\n",
       "    </tr>\n",
       "  </tbody>\n",
       "</table>\n",
       "</div>"
      ],
      "text/plain": [
       "                      NETTOTAL_COST  Total Provision  coverage\n",
       "Std Brand                                                     \n",
       "ALO YOGA               2.373011e+04     2.373011e+04       1.0\n",
       "BERSHKA                6.933447e+05     6.933447e+05       1.0\n",
       "CLARKS                 6.412972e+04     6.412972e+04       1.0\n",
       "DESIGUAL               4.884041e+03     0.000000e+00       0.0\n",
       "FG4 KIDS               1.796662e+05     1.796662e+05       1.0\n",
       "FG4 WOMEN              2.609739e+05     2.609739e+05       1.0\n",
       "FLYING TIGER           1.774563e+04     1.774563e+04       1.0\n",
       "GAP                    1.751902e+05     1.751902e+05       1.0\n",
       "JACADI                 3.281743e+04     0.000000e+00       0.0\n",
       "KIKO                   1.524615e+05     1.524615e+05       1.0\n",
       "LC Waikiki             9.022936e+03     9.022936e+03       1.0\n",
       "LEFTIES                8.575004e+05     8.575004e+05       1.0\n",
       "LOCAL PERFUMES         2.689904e+03     2.689904e+03       1.0\n",
       "MASSIMO DUTTI          2.404793e+05     2.404793e+05       1.0\n",
       "MAYORAL                2.356566e+04     2.356566e+04       1.0\n",
       "NATURE REPUBLIC        2.676556e+03     2.676556e+03       1.0\n",
       "NEW YORKER             1.596108e+05     0.000000e+00       0.0\n",
       "OKAIDI                 1.686733e+05     0.000000e+00       0.0\n",
       "OYSHO                  1.649647e+05     1.649647e+05       1.0\n",
       "PANCO                  5.517749e+04     0.000000e+00       0.0\n",
       "PUBLIC DESIRE          2.550651e+04     2.550651e+04       1.0\n",
       "PULL AND BEAR          4.981534e+05     4.981534e+05       1.0\n",
       "SERGENT MAJOR          4.523747e+04     0.000000e+00       0.0\n",
       "SFERA                  3.881079e+04     3.881079e+04       1.0\n",
       "STRADIVARIOUS          2.742871e+05     2.742871e+05       1.0\n",
       "THE CHILDREN'S PLACE   6.731433e+03     6.731433e+03       1.0\n",
       "US POLO                0.000000e+00     0.000000e+00       NaN\n",
       "ZARA                   3.359271e+06     3.359271e+06       1.0\n",
       "ZARA HOME              3.362810e+05     3.362810e+05       1.0"
      ]
     },
     "execution_count": 78,
     "metadata": {},
     "output_type": "execute_result"
    }
   ],
   "source": [
    "damage_summary = soh_with_combinations[soh_with_combinations['location_catergory'] == 'Damage'].groupby('Std Brand')[['NETTOTAL_COST', 'Total Provision']].sum()\n",
    "damage_summary['coverage'] = damage_summary['Total Provision'] / damage_summary['NETTOTAL_COST']\n",
    "damage_summary"
   ]
  },
  {
   "cell_type": "code",
   "execution_count": null,
   "id": "88394f4b",
   "metadata": {},
   "outputs": [
    {
     "data": {
      "application/vnd.microsoft.datawrangler.viewer.v0+json": {
       "columns": [
        {
         "name": "Std Brand",
         "rawType": "object",
         "type": "string"
        },
        {
         "name": "NETTOTAL_COST",
         "rawType": "float64",
         "type": "float"
        },
        {
         "name": "Total Provision",
         "rawType": "float64",
         "type": "float"
        },
        {
         "name": "coverage",
         "rawType": "float64",
         "type": "float"
        }
       ],
       "ref": "94bcaa1d-ee32-458b-9fdc-ef645f9a1b9e",
       "rows": [
        [
         "ALO YOGA",
         "22284.2299",
         "11142.11495",
         "0.5"
        ],
        [
         "ANOTAH",
         "24.52",
         "12.26",
         "0.5"
        ],
        [
         "BERSHKA",
         "2182564.1269",
         "327384.619035",
         "0.15"
        ],
        [
         "BOBBI BROWN",
         "0.0",
         "0.0",
         null
        ],
        [
         "CLARKS",
         "7080.8368",
         "3540.4184",
         "0.5"
        ],
        [
         "DESIGUAL",
         "5861.895",
         "0.0",
         "0.0"
        ],
        [
         "ELEMENT",
         "23661.4575",
         "11830.72875",
         "0.5"
        ],
        [
         "FG4 KIDS",
         "2071484.5379",
         "1035742.26895",
         "0.5"
        ],
        [
         "FG4 WOMEN",
         "648148.0234",
         "324074.0117",
         "0.5"
        ],
        [
         "FLYING TIGER",
         "24341.9899",
         "3651.2984850000003",
         "0.15"
        ],
        [
         "GAP",
         "14064139.8403",
         "7032069.92015",
         "0.5"
        ],
        [
         "JACADI",
         "1462767.9139",
         "0.0",
         "0.0"
        ],
        [
         "KIKO",
         "0.7153",
         "0.107295",
         "0.15"
        ],
        [
         "LC Waikiki",
         "230608.30610000002",
         "115304.15305000001",
         "0.5"
        ],
        [
         "LEFTIES",
         "7576386.7676",
         "1136458.01514",
         "0.15"
        ],
        [
         "LOCAL PERFUMES",
         "19557.6606",
         "2933.6490899999994",
         "0.14999999999999997"
        ],
        [
         "MANGO",
         "15049339.09",
         "0.0",
         "0.0"
        ],
        [
         "MASSIMO DUTTI",
         "1061965.9168",
         "159294.88752",
         "0.15"
        ],
        [
         "MAYORAL",
         "1396013.6468",
         "698006.8234",
         "0.5"
        ],
        [
         "MULTI BRAND",
         "2641.39",
         "1320.695",
         "0.5"
        ],
        [
         "NATURE REPUBLIC",
         "0.0",
         "0.0",
         null
        ],
        [
         "NEW YORKER",
         "101201.1582",
         "0.0",
         "0.0"
        ],
        [
         "OKAIDI",
         "2785725.1667",
         "0.0",
         "0.0"
        ],
        [
         "OYSHO",
         "492087.89040000003",
         "73813.18356",
         "0.15"
        ],
        [
         "PANCO",
         "591741.6703",
         "0.0",
         "0.0"
        ],
        [
         "PUBLIC DESIRE",
         "2687313.4657",
         "403097.019855",
         "0.15"
        ],
        [
         "PULL AND BEAR",
         "1675922.5265",
         "251388.37897499997",
         "0.15"
        ],
        [
         "SERGENT MAJOR",
         "804544.4426",
         "0.0",
         "0.0"
        ],
        [
         "SFERA",
         "1537829.0418",
         "768914.5209",
         "0.5"
        ],
        [
         "STRADIVARIOUS",
         "3113658.2863000003",
         "467048.74294500006",
         "0.15"
        ],
        [
         "TAP A L'OEIL",
         "-9.417999999999893",
         "0.0",
         "-0.0"
        ],
        [
         "THE CHILDREN'S PLACE",
         "1196336.1593",
         "598168.07965",
         "0.5"
        ],
        [
         "US POLO",
         "159005.269",
         "23850.79035",
         "0.15"
        ],
        [
         "ZARA",
         "10456695.0923",
         "1568504.263845",
         "0.15"
        ],
        [
         "ZARA HOME",
         "631656.2589",
         "94748.43883499998",
         "0.14999999999999997"
        ]
       ],
       "shape": {
        "columns": 3,
        "rows": 35
       }
      },
      "text/html": [
       "<div>\n",
       "<style scoped>\n",
       "    .dataframe tbody tr th:only-of-type {\n",
       "        vertical-align: middle;\n",
       "    }\n",
       "\n",
       "    .dataframe tbody tr th {\n",
       "        vertical-align: top;\n",
       "    }\n",
       "\n",
       "    .dataframe thead th {\n",
       "        text-align: right;\n",
       "    }\n",
       "</style>\n",
       "<table border=\"1\" class=\"dataframe\">\n",
       "  <thead>\n",
       "    <tr style=\"text-align: right;\">\n",
       "      <th></th>\n",
       "      <th>NETTOTAL_COST</th>\n",
       "      <th>Total Provision</th>\n",
       "      <th>coverage</th>\n",
       "    </tr>\n",
       "    <tr>\n",
       "      <th>Std Brand</th>\n",
       "      <th></th>\n",
       "      <th></th>\n",
       "      <th></th>\n",
       "    </tr>\n",
       "  </thead>\n",
       "  <tbody>\n",
       "    <tr>\n",
       "      <th>ALO YOGA</th>\n",
       "      <td>2.228423e+04</td>\n",
       "      <td>1.114211e+04</td>\n",
       "      <td>0.50</td>\n",
       "    </tr>\n",
       "    <tr>\n",
       "      <th>ANOTAH</th>\n",
       "      <td>2.452000e+01</td>\n",
       "      <td>1.226000e+01</td>\n",
       "      <td>0.50</td>\n",
       "    </tr>\n",
       "    <tr>\n",
       "      <th>BERSHKA</th>\n",
       "      <td>2.182564e+06</td>\n",
       "      <td>3.273846e+05</td>\n",
       "      <td>0.15</td>\n",
       "    </tr>\n",
       "    <tr>\n",
       "      <th>BOBBI BROWN</th>\n",
       "      <td>0.000000e+00</td>\n",
       "      <td>0.000000e+00</td>\n",
       "      <td>NaN</td>\n",
       "    </tr>\n",
       "    <tr>\n",
       "      <th>CLARKS</th>\n",
       "      <td>7.080837e+03</td>\n",
       "      <td>3.540418e+03</td>\n",
       "      <td>0.50</td>\n",
       "    </tr>\n",
       "    <tr>\n",
       "      <th>DESIGUAL</th>\n",
       "      <td>5.861895e+03</td>\n",
       "      <td>0.000000e+00</td>\n",
       "      <td>0.00</td>\n",
       "    </tr>\n",
       "    <tr>\n",
       "      <th>ELEMENT</th>\n",
       "      <td>2.366146e+04</td>\n",
       "      <td>1.183073e+04</td>\n",
       "      <td>0.50</td>\n",
       "    </tr>\n",
       "    <tr>\n",
       "      <th>FG4 KIDS</th>\n",
       "      <td>2.071485e+06</td>\n",
       "      <td>1.035742e+06</td>\n",
       "      <td>0.50</td>\n",
       "    </tr>\n",
       "    <tr>\n",
       "      <th>FG4 WOMEN</th>\n",
       "      <td>6.481480e+05</td>\n",
       "      <td>3.240740e+05</td>\n",
       "      <td>0.50</td>\n",
       "    </tr>\n",
       "    <tr>\n",
       "      <th>FLYING TIGER</th>\n",
       "      <td>2.434199e+04</td>\n",
       "      <td>3.651298e+03</td>\n",
       "      <td>0.15</td>\n",
       "    </tr>\n",
       "    <tr>\n",
       "      <th>GAP</th>\n",
       "      <td>1.406414e+07</td>\n",
       "      <td>7.032070e+06</td>\n",
       "      <td>0.50</td>\n",
       "    </tr>\n",
       "    <tr>\n",
       "      <th>JACADI</th>\n",
       "      <td>1.462768e+06</td>\n",
       "      <td>0.000000e+00</td>\n",
       "      <td>0.00</td>\n",
       "    </tr>\n",
       "    <tr>\n",
       "      <th>KIKO</th>\n",
       "      <td>7.153000e-01</td>\n",
       "      <td>1.072950e-01</td>\n",
       "      <td>0.15</td>\n",
       "    </tr>\n",
       "    <tr>\n",
       "      <th>LC Waikiki</th>\n",
       "      <td>2.306083e+05</td>\n",
       "      <td>1.153042e+05</td>\n",
       "      <td>0.50</td>\n",
       "    </tr>\n",
       "    <tr>\n",
       "      <th>LEFTIES</th>\n",
       "      <td>7.576387e+06</td>\n",
       "      <td>1.136458e+06</td>\n",
       "      <td>0.15</td>\n",
       "    </tr>\n",
       "    <tr>\n",
       "      <th>LOCAL PERFUMES</th>\n",
       "      <td>1.955766e+04</td>\n",
       "      <td>2.933649e+03</td>\n",
       "      <td>0.15</td>\n",
       "    </tr>\n",
       "    <tr>\n",
       "      <th>MANGO</th>\n",
       "      <td>1.504934e+07</td>\n",
       "      <td>0.000000e+00</td>\n",
       "      <td>0.00</td>\n",
       "    </tr>\n",
       "    <tr>\n",
       "      <th>MASSIMO DUTTI</th>\n",
       "      <td>1.061966e+06</td>\n",
       "      <td>1.592949e+05</td>\n",
       "      <td>0.15</td>\n",
       "    </tr>\n",
       "    <tr>\n",
       "      <th>MAYORAL</th>\n",
       "      <td>1.396014e+06</td>\n",
       "      <td>6.980068e+05</td>\n",
       "      <td>0.50</td>\n",
       "    </tr>\n",
       "    <tr>\n",
       "      <th>MULTI BRAND</th>\n",
       "      <td>2.641390e+03</td>\n",
       "      <td>1.320695e+03</td>\n",
       "      <td>0.50</td>\n",
       "    </tr>\n",
       "    <tr>\n",
       "      <th>NATURE REPUBLIC</th>\n",
       "      <td>0.000000e+00</td>\n",
       "      <td>0.000000e+00</td>\n",
       "      <td>NaN</td>\n",
       "    </tr>\n",
       "    <tr>\n",
       "      <th>NEW YORKER</th>\n",
       "      <td>1.012012e+05</td>\n",
       "      <td>0.000000e+00</td>\n",
       "      <td>0.00</td>\n",
       "    </tr>\n",
       "    <tr>\n",
       "      <th>OKAIDI</th>\n",
       "      <td>2.785725e+06</td>\n",
       "      <td>0.000000e+00</td>\n",
       "      <td>0.00</td>\n",
       "    </tr>\n",
       "    <tr>\n",
       "      <th>OYSHO</th>\n",
       "      <td>4.920879e+05</td>\n",
       "      <td>7.381318e+04</td>\n",
       "      <td>0.15</td>\n",
       "    </tr>\n",
       "    <tr>\n",
       "      <th>PANCO</th>\n",
       "      <td>5.917417e+05</td>\n",
       "      <td>0.000000e+00</td>\n",
       "      <td>0.00</td>\n",
       "    </tr>\n",
       "    <tr>\n",
       "      <th>PUBLIC DESIRE</th>\n",
       "      <td>2.687313e+06</td>\n",
       "      <td>4.030970e+05</td>\n",
       "      <td>0.15</td>\n",
       "    </tr>\n",
       "    <tr>\n",
       "      <th>PULL AND BEAR</th>\n",
       "      <td>1.675923e+06</td>\n",
       "      <td>2.513884e+05</td>\n",
       "      <td>0.15</td>\n",
       "    </tr>\n",
       "    <tr>\n",
       "      <th>SERGENT MAJOR</th>\n",
       "      <td>8.045444e+05</td>\n",
       "      <td>0.000000e+00</td>\n",
       "      <td>0.00</td>\n",
       "    </tr>\n",
       "    <tr>\n",
       "      <th>SFERA</th>\n",
       "      <td>1.537829e+06</td>\n",
       "      <td>7.689145e+05</td>\n",
       "      <td>0.50</td>\n",
       "    </tr>\n",
       "    <tr>\n",
       "      <th>STRADIVARIOUS</th>\n",
       "      <td>3.113658e+06</td>\n",
       "      <td>4.670487e+05</td>\n",
       "      <td>0.15</td>\n",
       "    </tr>\n",
       "    <tr>\n",
       "      <th>TAP A L'OEIL</th>\n",
       "      <td>-9.418000e+00</td>\n",
       "      <td>0.000000e+00</td>\n",
       "      <td>-0.00</td>\n",
       "    </tr>\n",
       "    <tr>\n",
       "      <th>THE CHILDREN'S PLACE</th>\n",
       "      <td>1.196336e+06</td>\n",
       "      <td>5.981681e+05</td>\n",
       "      <td>0.50</td>\n",
       "    </tr>\n",
       "    <tr>\n",
       "      <th>US POLO</th>\n",
       "      <td>1.590053e+05</td>\n",
       "      <td>2.385079e+04</td>\n",
       "      <td>0.15</td>\n",
       "    </tr>\n",
       "    <tr>\n",
       "      <th>ZARA</th>\n",
       "      <td>1.045670e+07</td>\n",
       "      <td>1.568504e+06</td>\n",
       "      <td>0.15</td>\n",
       "    </tr>\n",
       "    <tr>\n",
       "      <th>ZARA HOME</th>\n",
       "      <td>6.316563e+05</td>\n",
       "      <td>9.474844e+04</td>\n",
       "      <td>0.15</td>\n",
       "    </tr>\n",
       "  </tbody>\n",
       "</table>\n",
       "</div>"
      ],
      "text/plain": [
       "                      NETTOTAL_COST  Total Provision  coverage\n",
       "Std Brand                                                     \n",
       "ALO YOGA               2.228423e+04     1.114211e+04      0.50\n",
       "ANOTAH                 2.452000e+01     1.226000e+01      0.50\n",
       "BERSHKA                2.182564e+06     3.273846e+05      0.15\n",
       "BOBBI BROWN            0.000000e+00     0.000000e+00       NaN\n",
       "CLARKS                 7.080837e+03     3.540418e+03      0.50\n",
       "DESIGUAL               5.861895e+03     0.000000e+00      0.00\n",
       "ELEMENT                2.366146e+04     1.183073e+04      0.50\n",
       "FG4 KIDS               2.071485e+06     1.035742e+06      0.50\n",
       "FG4 WOMEN              6.481480e+05     3.240740e+05      0.50\n",
       "FLYING TIGER           2.434199e+04     3.651298e+03      0.15\n",
       "GAP                    1.406414e+07     7.032070e+06      0.50\n",
       "JACADI                 1.462768e+06     0.000000e+00      0.00\n",
       "KIKO                   7.153000e-01     1.072950e-01      0.15\n",
       "LC Waikiki             2.306083e+05     1.153042e+05      0.50\n",
       "LEFTIES                7.576387e+06     1.136458e+06      0.15\n",
       "LOCAL PERFUMES         1.955766e+04     2.933649e+03      0.15\n",
       "MANGO                  1.504934e+07     0.000000e+00      0.00\n",
       "MASSIMO DUTTI          1.061966e+06     1.592949e+05      0.15\n",
       "MAYORAL                1.396014e+06     6.980068e+05      0.50\n",
       "MULTI BRAND            2.641390e+03     1.320695e+03      0.50\n",
       "NATURE REPUBLIC        0.000000e+00     0.000000e+00       NaN\n",
       "NEW YORKER             1.012012e+05     0.000000e+00      0.00\n",
       "OKAIDI                 2.785725e+06     0.000000e+00      0.00\n",
       "OYSHO                  4.920879e+05     7.381318e+04      0.15\n",
       "PANCO                  5.917417e+05     0.000000e+00      0.00\n",
       "PUBLIC DESIRE          2.687313e+06     4.030970e+05      0.15\n",
       "PULL AND BEAR          1.675923e+06     2.513884e+05      0.15\n",
       "SERGENT MAJOR          8.045444e+05     0.000000e+00      0.00\n",
       "SFERA                  1.537829e+06     7.689145e+05      0.50\n",
       "STRADIVARIOUS          3.113658e+06     4.670487e+05      0.15\n",
       "TAP A L'OEIL          -9.418000e+00     0.000000e+00     -0.00\n",
       "THE CHILDREN'S PLACE   1.196336e+06     5.981681e+05      0.50\n",
       "US POLO                1.590053e+05     2.385079e+04      0.15\n",
       "ZARA                   1.045670e+07     1.568504e+06      0.15\n",
       "ZARA HOME              6.316563e+05     9.474844e+04      0.15"
      ]
     },
     "execution_count": 79,
     "metadata": {},
     "output_type": "execute_result"
    }
   ],
   "source": [
    "leftover_summary = soh_with_combinations[soh_with_combinations['location_catergory'] == 'Leftover'].groupby('Std Brand')[['NETTOTAL_COST', 'Total Provision']].sum()\n",
    "leftover_summary['coverage'] = leftover_summary['Total Provision'] / leftover_summary['NETTOTAL_COST']\n",
    "leftover_summary"
   ]
  },
  {
   "cell_type": "code",
   "execution_count": null,
   "id": "c6ad36ef",
   "metadata": {},
   "outputs": [
    {
     "data": {
      "application/vnd.microsoft.datawrangler.viewer.v0+json": {
       "columns": [
        {
         "name": "Std Brand",
         "rawType": "object",
         "type": "string"
        },
        {
         "name": "NETTOTAL_COST",
         "rawType": "float64",
         "type": "float"
        },
        {
         "name": "Total Provision",
         "rawType": "float64",
         "type": "float"
        },
        {
         "name": "coverage",
         "rawType": "float64",
         "type": "float"
        }
       ],
       "ref": "b1a02cc6-e11e-4698-b0bf-57b3bc3819a1",
       "rows": [
        [
         "AL MALKI",
         "0.0",
         "0.0",
         null
        ],
        [
         "ALO YOGA",
         "46014.3419",
         "34872.22695",
         "0.7578556056671539"
        ],
        [
         "ANOTAH",
         "24.5153",
         "12.25765",
         "0.5"
        ],
        [
         "BOBBI BROWN",
         "0.0",
         "0.0",
         null
        ],
        [
         "CLARKS",
         "71210.5568",
         "67670.1384",
         "0.9502823940845804"
        ],
        [
         "DESIGUAL",
         "10745.936",
         "0.0",
         "0.0"
        ],
        [
         "ELEMENT",
         "23661.4589",
         "11830.72945",
         "0.5"
        ],
        [
         "FG4 KIDS",
         "2263007.608",
         "1221336.9156",
         "0.5396963365401112"
        ],
        [
         "FG4 WOMEN",
         "909061.7903",
         "585017.84115",
         "0.6435402382900044"
        ],
        [
         "GAP",
         "14491794.2465",
         "7333492.23005",
         "0.5060444624944324"
        ],
        [
         "JACADI",
         "1495585.3418",
         "0.0",
         "0.0"
        ],
        [
         "LC Waikiki",
         "6506178.2853",
         "3257600.61075",
         "0.5006934129226359"
        ],
        [
         "MARKS AND SPENCERS",
         "0.0",
         "0.0",
         null
        ],
        [
         "MAYORAL",
         "1434108.9996",
         "728837.32855",
         "0.5082161319350805"
        ],
        [
         "MULTI BRAND",
         "2641.39",
         "1320.695",
         "0.5"
        ],
        [
         "NATURE REPUBLIC",
         "2676.5559999999996",
         "2676.5559999999996",
         "1.0"
        ],
        [
         "PEOPLE",
         "20120.196",
         "10060.098",
         "0.5"
        ],
        [
         "SERGENT MAJOR",
         "874325.7239",
         "0.0",
         "0.0"
        ],
        [
         "SFERA",
         "1586894.0818",
         "812852.4353",
         "0.5122285378857728"
        ],
        [
         "TAP A L'OEIL",
         "-9.417999999999893",
         "0.0",
         "-0.0"
        ],
        [
         "THE CHILDREN'S PLACE",
         "1213232.2184",
         "609981.8258",
         "0.5027741734426067"
        ]
       ],
       "shape": {
        "columns": 3,
        "rows": 21
       }
      },
      "text/html": [
       "<div>\n",
       "<style scoped>\n",
       "    .dataframe tbody tr th:only-of-type {\n",
       "        vertical-align: middle;\n",
       "    }\n",
       "\n",
       "    .dataframe tbody tr th {\n",
       "        vertical-align: top;\n",
       "    }\n",
       "\n",
       "    .dataframe thead th {\n",
       "        text-align: right;\n",
       "    }\n",
       "</style>\n",
       "<table border=\"1\" class=\"dataframe\">\n",
       "  <thead>\n",
       "    <tr style=\"text-align: right;\">\n",
       "      <th></th>\n",
       "      <th>NETTOTAL_COST</th>\n",
       "      <th>Total Provision</th>\n",
       "      <th>coverage</th>\n",
       "    </tr>\n",
       "    <tr>\n",
       "      <th>Std Brand</th>\n",
       "      <th></th>\n",
       "      <th></th>\n",
       "      <th></th>\n",
       "    </tr>\n",
       "  </thead>\n",
       "  <tbody>\n",
       "    <tr>\n",
       "      <th>AL MALKI</th>\n",
       "      <td>0.000000e+00</td>\n",
       "      <td>0.000000e+00</td>\n",
       "      <td>NaN</td>\n",
       "    </tr>\n",
       "    <tr>\n",
       "      <th>ALO YOGA</th>\n",
       "      <td>4.601434e+04</td>\n",
       "      <td>3.487223e+04</td>\n",
       "      <td>0.757856</td>\n",
       "    </tr>\n",
       "    <tr>\n",
       "      <th>ANOTAH</th>\n",
       "      <td>2.451530e+01</td>\n",
       "      <td>1.225765e+01</td>\n",
       "      <td>0.500000</td>\n",
       "    </tr>\n",
       "    <tr>\n",
       "      <th>BOBBI BROWN</th>\n",
       "      <td>0.000000e+00</td>\n",
       "      <td>0.000000e+00</td>\n",
       "      <td>NaN</td>\n",
       "    </tr>\n",
       "    <tr>\n",
       "      <th>CLARKS</th>\n",
       "      <td>7.121056e+04</td>\n",
       "      <td>6.767014e+04</td>\n",
       "      <td>0.950282</td>\n",
       "    </tr>\n",
       "    <tr>\n",
       "      <th>DESIGUAL</th>\n",
       "      <td>1.074594e+04</td>\n",
       "      <td>0.000000e+00</td>\n",
       "      <td>0.000000</td>\n",
       "    </tr>\n",
       "    <tr>\n",
       "      <th>ELEMENT</th>\n",
       "      <td>2.366146e+04</td>\n",
       "      <td>1.183073e+04</td>\n",
       "      <td>0.500000</td>\n",
       "    </tr>\n",
       "    <tr>\n",
       "      <th>FG4 KIDS</th>\n",
       "      <td>2.263008e+06</td>\n",
       "      <td>1.221337e+06</td>\n",
       "      <td>0.539696</td>\n",
       "    </tr>\n",
       "    <tr>\n",
       "      <th>FG4 WOMEN</th>\n",
       "      <td>9.090618e+05</td>\n",
       "      <td>5.850178e+05</td>\n",
       "      <td>0.643540</td>\n",
       "    </tr>\n",
       "    <tr>\n",
       "      <th>GAP</th>\n",
       "      <td>1.449179e+07</td>\n",
       "      <td>7.333492e+06</td>\n",
       "      <td>0.506044</td>\n",
       "    </tr>\n",
       "    <tr>\n",
       "      <th>JACADI</th>\n",
       "      <td>1.495585e+06</td>\n",
       "      <td>0.000000e+00</td>\n",
       "      <td>0.000000</td>\n",
       "    </tr>\n",
       "    <tr>\n",
       "      <th>LC Waikiki</th>\n",
       "      <td>6.506178e+06</td>\n",
       "      <td>3.257601e+06</td>\n",
       "      <td>0.500693</td>\n",
       "    </tr>\n",
       "    <tr>\n",
       "      <th>MARKS AND SPENCERS</th>\n",
       "      <td>0.000000e+00</td>\n",
       "      <td>0.000000e+00</td>\n",
       "      <td>NaN</td>\n",
       "    </tr>\n",
       "    <tr>\n",
       "      <th>MAYORAL</th>\n",
       "      <td>1.434109e+06</td>\n",
       "      <td>7.288373e+05</td>\n",
       "      <td>0.508216</td>\n",
       "    </tr>\n",
       "    <tr>\n",
       "      <th>MULTI BRAND</th>\n",
       "      <td>2.641390e+03</td>\n",
       "      <td>1.320695e+03</td>\n",
       "      <td>0.500000</td>\n",
       "    </tr>\n",
       "    <tr>\n",
       "      <th>NATURE REPUBLIC</th>\n",
       "      <td>2.676556e+03</td>\n",
       "      <td>2.676556e+03</td>\n",
       "      <td>1.000000</td>\n",
       "    </tr>\n",
       "    <tr>\n",
       "      <th>PEOPLE</th>\n",
       "      <td>2.012020e+04</td>\n",
       "      <td>1.006010e+04</td>\n",
       "      <td>0.500000</td>\n",
       "    </tr>\n",
       "    <tr>\n",
       "      <th>SERGENT MAJOR</th>\n",
       "      <td>8.743257e+05</td>\n",
       "      <td>0.000000e+00</td>\n",
       "      <td>0.000000</td>\n",
       "    </tr>\n",
       "    <tr>\n",
       "      <th>SFERA</th>\n",
       "      <td>1.586894e+06</td>\n",
       "      <td>8.128524e+05</td>\n",
       "      <td>0.512229</td>\n",
       "    </tr>\n",
       "    <tr>\n",
       "      <th>TAP A L'OEIL</th>\n",
       "      <td>-9.418000e+00</td>\n",
       "      <td>0.000000e+00</td>\n",
       "      <td>-0.000000</td>\n",
       "    </tr>\n",
       "    <tr>\n",
       "      <th>THE CHILDREN'S PLACE</th>\n",
       "      <td>1.213232e+06</td>\n",
       "      <td>6.099818e+05</td>\n",
       "      <td>0.502774</td>\n",
       "    </tr>\n",
       "  </tbody>\n",
       "</table>\n",
       "</div>"
      ],
      "text/plain": [
       "                      NETTOTAL_COST  Total Provision  coverage\n",
       "Std Brand                                                     \n",
       "AL MALKI               0.000000e+00     0.000000e+00       NaN\n",
       "ALO YOGA               4.601434e+04     3.487223e+04  0.757856\n",
       "ANOTAH                 2.451530e+01     1.225765e+01  0.500000\n",
       "BOBBI BROWN            0.000000e+00     0.000000e+00       NaN\n",
       "CLARKS                 7.121056e+04     6.767014e+04  0.950282\n",
       "DESIGUAL               1.074594e+04     0.000000e+00  0.000000\n",
       "ELEMENT                2.366146e+04     1.183073e+04  0.500000\n",
       "FG4 KIDS               2.263008e+06     1.221337e+06  0.539696\n",
       "FG4 WOMEN              9.090618e+05     5.850178e+05  0.643540\n",
       "GAP                    1.449179e+07     7.333492e+06  0.506044\n",
       "JACADI                 1.495585e+06     0.000000e+00  0.000000\n",
       "LC Waikiki             6.506178e+06     3.257601e+06  0.500693\n",
       "MARKS AND SPENCERS     0.000000e+00     0.000000e+00       NaN\n",
       "MAYORAL                1.434109e+06     7.288373e+05  0.508216\n",
       "MULTI BRAND            2.641390e+03     1.320695e+03  0.500000\n",
       "NATURE REPUBLIC        2.676556e+03     2.676556e+03  1.000000\n",
       "PEOPLE                 2.012020e+04     1.006010e+04  0.500000\n",
       "SERGENT MAJOR          8.743257e+05     0.000000e+00  0.000000\n",
       "SFERA                  1.586894e+06     8.128524e+05  0.512229\n",
       "TAP A L'OEIL          -9.418000e+00     0.000000e+00 -0.000000\n",
       "THE CHILDREN'S PLACE   1.213232e+06     6.099818e+05  0.502774"
      ]
     },
     "execution_count": 80,
     "metadata": {},
     "output_type": "execute_result"
    }
   ],
   "source": [
    "closed_summary = soh_with_combinations[soh_with_combinations['Closed_status'] == 'Closed'].groupby('Std Brand')[['NETTOTAL_COST', 'Total Provision']].sum()\n",
    "closed_summary['coverage'] = closed_summary['Total Provision'] / closed_summary['NETTOTAL_COST']\n",
    "closed_summary"
   ]
  },
  {
   "cell_type": "code",
   "execution_count": null,
   "id": "ac5c17ec",
   "metadata": {},
   "outputs": [],
   "source": []
  },
  {
   "cell_type": "code",
   "execution_count": null,
   "id": "d6931559",
   "metadata": {},
   "outputs": [],
   "source": []
  },
  {
   "cell_type": "code",
   "execution_count": null,
   "id": "fdeebb73",
   "metadata": {},
   "outputs": [],
   "source": []
  }
 ],
 "metadata": {
  "kernelspec": {
   "display_name": "base",
   "language": "python",
   "name": "python3"
  },
  "language_info": {
   "codemirror_mode": {
    "name": "ipython",
    "version": 3
   },
   "file_extension": ".py",
   "mimetype": "text/x-python",
   "name": "python",
   "nbconvert_exporter": "python",
   "pygments_lexer": "ipython3",
   "version": "3.12.7"
  }
 },
 "nbformat": 4,
 "nbformat_minor": 5
}
