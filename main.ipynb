{
 "cells": [
  {
   "cell_type": "markdown",
   "id": "b4dab971",
   "metadata": {},
   "source": [
    "Aging Provision Policy – Additional Provision Calculation \n",
    "\n",
    "Policy Overview\n",
    "To ensure prudent financial coverage, additional provisions are calculated for inventory in special categories, using the following rules:\n",
    "\n",
    "1. Damaged Inventory\n",
    "Provision Rate:\n",
    "100% of the net total cost of damaged stock.\n",
    "2. Leftover Inventory\n",
    "For Closed Brands:\n",
    "50% of the net total cost of leftover stock from brands that are closed.\n",
    "For Running Brands:\n",
    "15% of the net total cost of leftover stock from brands that are still operating.\n",
    "3. Closed Brands (Other Locations)\n",
    "Provision Rate:\n",
    "50% of the net total cost of stock from closed brands (excluding leftover and damaged locations).\n",
    "4. Exclusions\n",
    "No additional provision is made for inventory under consignment, guaranteed margin, or “Buying Pull - Mango” models.\n",
    "Summary:\n",
    "These additional provisions are applied on top of the standard aging policy to ensure adequate financial coverage for higher-risk inventory categories."
   ]
  },
  {
   "cell_type": "markdown",
   "id": "f8000600",
   "metadata": {},
   "source": [
    "1. update the closed brands status in the mapping file\n",
    "2. check the totals of the net cost throughout the steps to ensure the completness\n",
    "3. update the combinations in the combination file\n",
    "4. check missing standard brands in the mapping file and soh\n",
    "5. check std season and buckets in the checks section of the code\n",
    "6. update the parameters below\n",
    "7. check for garbage std season in the code\n",
    "8. ensure no duplicates in the combination[std brand name and location name] and mapping file [original brand name]\n",
    " "
   ]
  },
  {
   "cell_type": "code",
   "execution_count": 68,
   "id": "5c9a16cc",
   "metadata": {},
   "outputs": [],
   "source": [
    "import pandas as pd\n",
    "import numpy as np\n",
    "import os\n",
    "pd.options.display.float_format = '{:,.2f}'.format"
   ]
  },
  {
   "cell_type": "markdown",
   "id": "84970bfd",
   "metadata": {},
   "source": [
    "parameters"
   ]
  },
  {
   "cell_type": "code",
   "execution_count": 69,
   "id": "c5239e53",
   "metadata": {},
   "outputs": [
    {
     "data": {
      "text/plain": [
       "\"    'FLYING TIGER': 2\\n}\""
      ]
     },
     "execution_count": 69,
     "metadata": {},
     "output_type": "execute_result"
    }
   ],
   "source": [
    "\n",
    "SOH_File = 'SOH-mar.xlsx'\n",
    "first_first_bucket_number_seasons = 5\n",
    "damage_percentage = 1\n",
    "leftover_running_percentage = .15\n",
    "leftover_closed_percentage = .5\n",
    "closed_percentage = .5\n",
    "\n",
    "brand_specific_provision = {}\n",
    "'''    'FLYING TIGER': 2\n",
    "}'''"
   ]
  },
  {
   "cell_type": "code",
   "execution_count": 70,
   "id": "adcc5989",
   "metadata": {},
   "outputs": [],
   "source": [
    "import re\n",
    "\n",
    "def season_sort_key(season):\n",
    "    if not isinstance(season, str) or len(season) < 4:\n",
    "        return (0, 0)  # Push unknowns to bottom\n",
    "\n",
    "    season_type = season[:2]  # 'AW' or 'SS'\n",
    "    year = int(season[-2:])\n",
    "\n",
    "    # AW should come *before* SS, so give it a higher priority\n",
    "    season_rank = 1 if season_type == \"AW\" else 0\n",
    "\n",
    "    return (year, season_rank)\n",
    "\n",
    "def standardize_season(raw_season):\n",
    "    if not isinstance(raw_season, str) or raw_season.strip() == \"\":\n",
    "        return \"Unknown\"\n",
    "\n",
    "    season = raw_season.strip().upper()\n",
    "\n",
    "    # --- Priority: continuity/old ---\n",
    "    if \"CONTINUITY\" in season or \"BASICS\" in season:\n",
    "        return \"Continuity\"\n",
    "\n",
    "    elif \"OLD\" in season:\n",
    "        return \"Old-\"\n",
    "\n",
    "    # --- 4-digit year + seasonal tag ---\n",
    "    year_match = re.search(r\"(20\\d{2})\", season)\n",
    "    if year_match:\n",
    "        year = year_match.group(1)[2:]  # Take last 2 digits, e.g., '2023' → '23'\n",
    "\n",
    "        if any(tag in season for tag in [\"SPRING\", \"SUMMER\", \"SS\"]):\n",
    "            return f\"SS{year}\"\n",
    "        elif any(tag in season for tag in [\"AUTUMN\", \"WINTER\", \"AW\"]):\n",
    "            return f\"AW{year}\"\n",
    "\n",
    "    # --- 2-digit season pattern like AW23, SS22 ---\n",
    "    match = re.search(r\"(SS|AW)(\\d{2})\", season)\n",
    "    if match:\n",
    "        return f\"{match.group(1)}{match.group(2)}\"\n",
    "\n",
    "    # --- WA fallback to AW ---\n",
    "    if \"WA\" in season:\n",
    "        match = re.search(r\"WA(\\d{2})\", season)\n",
    "        if match:\n",
    "            return f\"AW{match.group(1)}\"\n",
    "\n",
    "    # --- Last resort: any 2-digit year with best guess ---\n",
    "    match = re.search(r\"(\\d{2})\", season)\n",
    "    if match:\n",
    "        return f\"SS{match.group(1)}\"\n",
    "    \n",
    "    return \"Unknown\"  # default if nothing matches\n"
   ]
  },
  {
   "cell_type": "markdown",
   "id": "bc144dc1",
   "metadata": {},
   "source": [
    "aging provision as per policy"
   ]
  },
  {
   "cell_type": "code",
   "execution_count": 71,
   "id": "a93a0726",
   "metadata": {},
   "outputs": [
    {
     "name": "stderr",
     "output_type": "stream",
     "text": [
      "C:\\Users\\saad.qureshi\\AppData\\Local\\Temp\\ipykernel_8768\\1067738966.py:5: FutureWarning: A value is trying to be set on a copy of a DataFrame or Series through chained assignment using an inplace method.\n",
      "The behavior will change in pandas 3.0. This inplace method will never work because the intermediate object on which we are setting values always behaves as a copy.\n",
      "\n",
      "For example, when doing 'df[col].method(value, inplace=True)', try using 'df.method({col: value}, inplace=True)' or df[col] = df[col].method(value) instead, to perform the operation inplace on the original object.\n",
      "\n",
      "\n",
      "  soh['NETTOTAL_COST'].fillna(0, inplace=True)\n"
     ]
    },
    {
     "data": {
      "text/plain": [
       "418141106.11822"
      ]
     },
     "execution_count": 71,
     "metadata": {},
     "output_type": "execute_result"
    }
   ],
   "source": [
    "soh = pd.read_excel(fr\"SOH/{SOH_File}\", sheet_name='Sheet1')\n",
    "soh = soh[(soh['GROUP_NAME'] != 'Aleph' )& (soh['AR Comments'] == 'Consider')]\n",
    "existing_balances = pd.read_excel(r'Existing Balances/current_balance.xlsx', sheet_name='Sheet1')\n",
    "mapping = pd.read_excel(r'Mapping & Combinations/mapping.xlsx', sheet_name='Sheet1')\n",
    "soh['NETTOTAL_COST'].fillna(0, inplace=True)\n",
    "soh['NETTOTAL_COST'] = pd.to_numeric(soh['NETTOTAL_COST'], errors='coerce')\n",
    "\n",
    "original_season = 'SEASON_DESC' if 'SEASON_DESC' in soh.columns else 'SEASON DESC'\n",
    "soh['NETTOTAL_COST'].sum()\n"
   ]
  },
  {
   "cell_type": "code",
   "execution_count": 72,
   "id": "e994e094",
   "metadata": {},
   "outputs": [],
   "source": [
    "combinations = pd.read_excel(r'Mapping & Combinations/combinations.xlsx', sheet_name='Sheet1')"
   ]
  },
  {
   "cell_type": "code",
   "execution_count": 73,
   "id": "3711473f",
   "metadata": {},
   "outputs": [
    {
     "data": {
      "text/plain": [
       "418141106.11822"
      ]
     },
     "execution_count": 73,
     "metadata": {},
     "output_type": "execute_result"
    }
   ],
   "source": [
    "soh['GROUP_NAME'] = soh['GROUP_NAME'].str.upper()\n",
    "mapping['GROUP_NAME'] = mapping['GROUP_NAME'].str.upper()\n",
    "soh = soh.merge(mapping, on='GROUP_NAME', how='left')\n",
    "#soh['Std Brand'] = np.where(soh['Std Brand'].isna(), soh['GROUP_NAME'], soh['Std Brand'])\n",
    "soh = soh[(soh['Closed_status'] != 'Exit' )]\n",
    "soh['NETTOTAL_COST'].sum()"
   ]
  },
  {
   "cell_type": "code",
   "execution_count": 74,
   "id": "f3f55197",
   "metadata": {},
   "outputs": [
    {
     "data": {
      "text/plain": [
       "\"valid_brands = soh.groupby('Std Brand')['NETTOTAL_COST'].sum()\\nvalid_brands = valid_brands[valid_brands != 0].index\\n\\n# Step 2: filter original DataFrame\\nsoh = soh[soh['Std Brand'].isin(valid_brands)]\\nsoh['NETTOTAL_COST'].sum()\""
      ]
     },
     "execution_count": 74,
     "metadata": {},
     "output_type": "execute_result"
    }
   ],
   "source": [
    "'''valid_brands = soh.groupby('Std Brand')['NETTOTAL_COST'].sum()\n",
    "valid_brands = valid_brands[valid_brands != 0].index\n",
    "\n",
    "# Step 2: filter original DataFrame\n",
    "soh = soh[soh['Std Brand'].isin(valid_brands)]\n",
    "soh['NETTOTAL_COST'].sum()'''"
   ]
  },
  {
   "cell_type": "code",
   "execution_count": 75,
   "id": "abfa0678",
   "metadata": {},
   "outputs": [],
   "source": [
    "soh['std_season'] = soh[original_season].apply(standardize_season)"
   ]
  },
  {
   "cell_type": "code",
   "execution_count": 76,
   "id": "15e33afb",
   "metadata": {},
   "outputs": [],
   "source": [
    "excluded = {'Unknown', 'Continuity', 'Old-','AW97'}\n",
    "unique_season = [f for f in soh['std_season'].dropna().unique() if f not in excluded]"
   ]
  },
  {
   "cell_type": "code",
   "execution_count": 77,
   "id": "247a4230",
   "metadata": {},
   "outputs": [],
   "source": [
    "sorted_std_season_in_soh = sorted(unique_season, key=season_sort_key, reverse=True)"
   ]
  },
  {
   "cell_type": "code",
   "execution_count": 78,
   "id": "ee4b2cc8",
   "metadata": {},
   "outputs": [],
   "source": [
    "bucket1 = sorted_std_season_in_soh[:first_first_bucket_number_seasons]\n",
    "bucket2 = sorted_std_season_in_soh[first_first_bucket_number_seasons:first_first_bucket_number_seasons + 3]\n",
    "bucket3 = sorted_std_season_in_soh[first_first_bucket_number_seasons+3:first_first_bucket_number_seasons + 6] \n",
    "bucket4 = sorted_std_season_in_soh[first_first_bucket_number_seasons + 6:]"
   ]
  },
  {
   "cell_type": "code",
   "execution_count": 79,
   "id": "31f5dc24",
   "metadata": {},
   "outputs": [
    {
     "data": {
      "text/plain": [
       "['AW25', 'SS25', 'AW24', 'SS24', 'AW23']"
      ]
     },
     "execution_count": 79,
     "metadata": {},
     "output_type": "execute_result"
    }
   ],
   "source": [
    "bucket1"
   ]
  },
  {
   "cell_type": "code",
   "execution_count": 80,
   "id": "1851fa91",
   "metadata": {},
   "outputs": [],
   "source": [
    "bucket1 =   bucket1 + ['Unknown','Continuity'] \n",
    "bucket4 = bucket4 + [  'Old-','AW97'] "
   ]
  },
  {
   "cell_type": "code",
   "execution_count": 81,
   "id": "388f836e",
   "metadata": {},
   "outputs": [],
   "source": [
    "\n",
    "conditions = [\n",
    "    soh['std_season'].isin(bucket1),\n",
    "    soh['std_season'].isin(bucket2),\n",
    "    soh['std_season'].isin(bucket3)\n",
    "]\n",
    "\n",
    "choices = ['bucket1', 'bucket2', 'bucket3']\n",
    "\n",
    "soh['season_bucket'] = np.select(conditions, choices, default='bucket4')"
   ]
  },
  {
   "cell_type": "code",
   "execution_count": 82,
   "id": "1c72e345",
   "metadata": {},
   "outputs": [],
   "source": [
    "soh['Continuity_factor'] = 0.40\n",
    "soh['provision_%_policy'] = soh['season_bucket'].map({\n",
    "    'bucket1': 0,\n",
    "    'bucket2': 0.15,\n",
    "    'bucket3': 0.50,\n",
    "    'bucket4': 0.75  # Assuming bucket4 is the default for other buckets\n",
    "\n",
    "})  # Or any default value for other buckets like 'bucket3', 'bucket4'"
   ]
  },
  {
   "cell_type": "code",
   "execution_count": 83,
   "id": "3c227751",
   "metadata": {},
   "outputs": [],
   "source": [
    "\n",
    "soh.loc[\n",
    "    soh['Model'].isin([\n",
    "        'Consignment',\n",
    "        'Guaranteed Margin',\n",
    "        'Buying Pull - Mango'\n",
    "    ]),\n",
    "    ['provision_amount_policy', 'provision_%_policy', 'Continuity_factor']\n",
    "] = 0\n",
    "\n",
    "soh['provision_amount_policy'] = soh['NETTOTAL_COST'] * soh['provision_%_policy'] * soh['Continuity_factor']"
   ]
  },
  {
   "cell_type": "markdown",
   "id": "9fd0f95b",
   "metadata": {},
   "source": [
    "Damage locations\n"
   ]
  },
  {
   "cell_type": "code",
   "execution_count": 84,
   "id": "5b7343ae",
   "metadata": {},
   "outputs": [],
   "source": [
    "soh['location_catergory'] = \"Store, Online & WH\"\n",
    "\n",
    "soh.loc[\n",
    "    soh['LOCATION_NAME'].astype(str).str.lower().str.contains('leftover', na=False),\n",
    "    \"location_catergory\"\n",
    "] = \"Leftover\"\n",
    "soh.loc[soh['LOCATION_NAME'].astype(str).str.lower().str.contains('damage', na=False),\"location_catergory\"] = \"Damage\"\n",
    "soh.loc[soh['LOCATION_NAME'].astype(str).str.lower().str.contains('sulay', na=False),\"location_catergory\"] = \"Leftover\""
   ]
  },
  {
   "cell_type": "code",
   "execution_count": 85,
   "id": "fcc62ad6",
   "metadata": {},
   "outputs": [],
   "source": [
    "condition = soh['location_catergory'] == \"Damage\"  \n",
    "\n",
    "\n",
    "soh.loc[condition, 'additional_provision'] = (soh[\"NETTOTAL_COST\"] * damage_percentage) - soh['provision_amount_policy']\n",
    "\n"
   ]
  },
  {
   "cell_type": "markdown",
   "id": "da7c552c",
   "metadata": {},
   "source": [
    "Leftover"
   ]
  },
  {
   "cell_type": "code",
   "execution_count": 86,
   "id": "f915be27",
   "metadata": {},
   "outputs": [],
   "source": [
    "\n",
    "#Leftover of the closed brands\n",
    "condition =(\n",
    "    (soh['Closed_status'] == \"Closed\") & \n",
    "    ( soh['location_catergory'] == \"Leftover\" ) \n",
    "    ) \n",
    "\n",
    "soh.loc[condition, 'additional_provision'] = (soh[\"NETTOTAL_COST\"] * leftover_closed_percentage) - soh['provision_amount_policy']\n",
    "\n",
    "condition =(\n",
    "    (soh['Closed_status'] != \"Closed\") & \n",
    "    ( soh['location_catergory'] == \"Leftover\" ) \n",
    "    ) \n",
    "\n",
    "soh.loc[condition, 'additional_provision'] = (soh[\"NETTOTAL_COST\"] * leftover_running_percentage) - soh['provision_amount_policy']\n"
   ]
  },
  {
   "cell_type": "markdown",
   "id": "93bd7031",
   "metadata": {},
   "source": [
    "Closed brands"
   ]
  },
  {
   "cell_type": "code",
   "execution_count": 87,
   "id": "bdfcfc82",
   "metadata": {},
   "outputs": [],
   "source": [
    "condition = (\n",
    "    (soh['Closed_status'] == \"Closed\") & \n",
    "    (~soh['location_catergory'].isin([\"Leftover\",\"Damage\"] )) \n",
    "    )\n",
    "soh.loc[condition, 'additional_provision'] =    (soh[\"NETTOTAL_COST\"] * closed_percentage) - soh['provision_amount_policy']"
   ]
  },
  {
   "cell_type": "markdown",
   "id": "4c3bc9d2",
   "metadata": {},
   "source": [
    "Brand specific provisions"
   ]
  },
  {
   "cell_type": "code",
   "execution_count": 88,
   "id": "4fb9f149",
   "metadata": {},
   "outputs": [],
   "source": [
    "if brand_specific_provision:\n",
    "    soh['additional_provision'] = np.where(\n",
    "        soh['Std Brand'].isin(brand_specific_provision.keys()),\n",
    "        soh['NETTOTAL_COST'] * soh['Std Brand'].map(brand_specific_provision) - soh['provision_amount_policy'],\n",
    "        soh['additional_provision']\n",
    "    )"
   ]
  },
  {
   "cell_type": "markdown",
   "id": "7b077287",
   "metadata": {},
   "source": [
    "removing the consginement and gurantee margin provision"
   ]
  },
  {
   "cell_type": "code",
   "execution_count": 89,
   "id": "13c27072",
   "metadata": {},
   "outputs": [],
   "source": [
    "soh.loc[\n",
    "    soh['Model'].isin([\n",
    "        'Consignment',\n",
    "        'Guaranteed Margin',\n",
    "        'Buying Pull - Mango'\n",
    "    ]),\n",
    "    ['provision_amount_policy', 'provision_%_policy', 'Continuity_factor','additional_provision']\n",
    "] = 0\n",
    "\n",
    "soh['provision_amount_policy'] = soh['provision_amount_policy'].fillna(0)\n",
    "soh['additional_provision'] = soh['additional_provision'].fillna(0)\n",
    "\n",
    "\n",
    "soh['Total Provision'] = soh['provision_amount_policy'] + soh['additional_provision']"
   ]
  },
  {
   "cell_type": "code",
   "execution_count": 90,
   "id": "7fc4ffd4",
   "metadata": {},
   "outputs": [],
   "source": [
    "soh.to_csv(r\"Output/aging_provision.csv\")"
   ]
  },
  {
   "cell_type": "markdown",
   "id": "92dc6bb5",
   "metadata": {},
   "source": [
    "Summary"
   ]
  },
  {
   "cell_type": "code",
   "execution_count": 91,
   "id": "dbdd2c7d",
   "metadata": {},
   "outputs": [],
   "source": [
    "summary = soh.groupby(by='Std Brand')[[\"NETTOTAL_COST\",'provision_amount_policy','additional_provision','Total Provision']].sum()\n",
    "summary['coverage'] = summary['Total Provision'] / summary['NETTOTAL_COST']\n"
   ]
  },
  {
   "cell_type": "markdown",
   "id": "5fc10c26",
   "metadata": {},
   "source": [
    "Combinations"
   ]
  },
  {
   "cell_type": "code",
   "execution_count": 92,
   "id": "7584f043",
   "metadata": {},
   "outputs": [],
   "source": [
    "soh_with_combinations = soh.merge(combinations, on=['Std Brand','LOCATION'], how='left')\n",
    "soh_with_combinations[['s1', 's2', 's3', 's4']]= soh_with_combinations[['s1', 's2', 's3', 's4']].fillna(0)\n",
    "soh_with_combinations.to_excel(r\"Output/aging_provision_combinations.xlsx\", index=False)"
   ]
  },
  {
   "cell_type": "markdown",
   "id": "de7d4b30",
   "metadata": {},
   "source": [
    "Preparation of the entry"
   ]
  },
  {
   "cell_type": "code",
   "execution_count": 93,
   "id": "6ff2e7aa",
   "metadata": {},
   "outputs": [
    {
     "data": {
      "text/plain": [
       "31003352.632795796"
      ]
     },
     "execution_count": 93,
     "metadata": {},
     "output_type": "execute_result"
    }
   ],
   "source": [
    "soh_with_combinations['Total Provision'].sum()"
   ]
  },
  {
   "cell_type": "code",
   "execution_count": 94,
   "id": "c2d966b2",
   "metadata": {},
   "outputs": [],
   "source": [
    "entry = soh_with_combinations.groupby([\"s1\",\"s2\",\"s3\",\"s4\"])['Total Provision'].sum().reset_index().fillna(0)\n",
    "entry['s5'] = 63002\n"
   ]
  },
  {
   "cell_type": "code",
   "execution_count": 95,
   "id": "ec7efe8d",
   "metadata": {},
   "outputs": [
    {
     "data": {
      "text/plain": [
       "31003352.6327958"
      ]
     },
     "execution_count": 95,
     "metadata": {},
     "output_type": "execute_result"
    }
   ],
   "source": [
    "entry['Total Provision'].sum()"
   ]
  },
  {
   "cell_type": "code",
   "execution_count": 96,
   "id": "fab96412",
   "metadata": {},
   "outputs": [],
   "source": [
    "entry2 = entry.copy()\n",
    "entry2['Total Provision'] = entry2['Total Provision'] * -1\n",
    "entry2['s5'] = 23993"
   ]
  },
  {
   "cell_type": "code",
   "execution_count": 97,
   "id": "5f60a2fa",
   "metadata": {},
   "outputs": [],
   "source": [
    "completed_entry = pd.concat([entry, entry2], ignore_index=True)\n",
    "completed_entry.rename(columns={'Total Provision': 'Dr/(CR)'}, inplace=True)\n",
    "completed_entry = completed_entry[completed_entry['Dr/(CR)'] != 0]"
   ]
  },
  {
   "cell_type": "code",
   "execution_count": 98,
   "id": "aaabb4af",
   "metadata": {},
   "outputs": [],
   "source": [
    "completed_entry[['s1', 's2', 's3', 's4', 's5','Dr/(CR)']].to_csv(r\"Output/completed_entry.csv\", index=False)"
   ]
  },
  {
   "cell_type": "markdown",
   "id": "c78886bd",
   "metadata": {},
   "source": [
    "difference entry"
   ]
  },
  {
   "cell_type": "code",
   "execution_count": 99,
   "id": "fd5a59f7",
   "metadata": {},
   "outputs": [],
   "source": [
    "diff_table = soh_with_combinations.groupby([\"s1\",\"s2\",\"s3\",\"s4\"])['Total Provision'].sum().reset_index().fillna(0).merge(existing_balances, on=['s1','s2','s3','s4'], how='outer').fillna(0)"
   ]
  },
  {
   "cell_type": "code",
   "execution_count": 100,
   "id": "46896222",
   "metadata": {},
   "outputs": [],
   "source": [
    "diff_table['Dr/(CR)'] = (diff_table['Total Provision'] + diff_table['Closing balance'])*-1\n",
    "diff_table.drop(['Closing balance','Total Provision'], inplace=True,axis=1)"
   ]
  },
  {
   "cell_type": "code",
   "execution_count": 101,
   "id": "6a55dd6f",
   "metadata": {},
   "outputs": [],
   "source": [
    "diff_table['s5'] = 23993"
   ]
  },
  {
   "cell_type": "code",
   "execution_count": 102,
   "id": "5773c097",
   "metadata": {},
   "outputs": [],
   "source": [
    "diff_table2 = diff_table.copy()\n",
    "diff_table2['Dr/(CR)'] = diff_table2['Dr/(CR)'] * -1\n",
    "diff_table2['s5'] = 63002"
   ]
  },
  {
   "cell_type": "code",
   "execution_count": 103,
   "id": "a204c4ea",
   "metadata": {},
   "outputs": [],
   "source": [
    "diff_entry = pd.concat([diff_table, diff_table2], ignore_index=True)\n",
    "#diff_entry.rename(columns={'Total Provision': 'Dr/(CR)'}, inplace=True)\n",
    "diff_entry = diff_entry[diff_entry['Dr/(CR)'] != 0]"
   ]
  },
  {
   "cell_type": "code",
   "execution_count": 104,
   "id": "31807132",
   "metadata": {},
   "outputs": [],
   "source": [
    "diff_entry[['s1', 's2', 's3', 's4', 's5','Dr/(CR)']].to_csv(r\"Output/diff_entry.csv\", index=False)"
   ]
  },
  {
   "cell_type": "markdown",
   "id": "e0c143c7",
   "metadata": {},
   "source": [
    "Analysis"
   ]
  },
  {
   "cell_type": "code",
   "execution_count": 105,
   "id": "4562d8d9",
   "metadata": {},
   "outputs": [
    {
     "data": {
      "application/vnd.microsoft.datawrangler.viewer.v0+json": {
       "columns": [
        {
         "name": "Std Brand",
         "rawType": "object",
         "type": "string"
        },
        {
         "name": "NETTOTAL_COST",
         "rawType": "float64",
         "type": "float"
        },
        {
         "name": "Total Provision",
         "rawType": "float64",
         "type": "float"
        },
        {
         "name": "coverage",
         "rawType": "float64",
         "type": "float"
        }
       ],
       "ref": "f69d0007-3104-42ac-836c-d7fe256619e4",
       "rows": [
        [
         "ALO YOGA",
         "23730.112",
         "23730.112",
         "1.0"
        ],
        [
         "BERSHKA",
         "693344.7302",
         "693344.7302",
         "1.0"
        ],
        [
         "CLARKS",
         "64129.72",
         "64129.72",
         "1.0"
        ],
        [
         "DESIGUAL",
         "4884.041",
         "0.0",
         "0.0"
        ],
        [
         "FG4 KIDS",
         "179666.2232",
         "179666.2232",
         "1.0"
        ],
        [
         "FG4 WOMEN",
         "260973.892",
         "260973.892",
         "1.0"
        ],
        [
         "FLYING TIGER",
         "17745.6325",
         "17745.6325",
         "1.0"
        ],
        [
         "GAP",
         "175190.2136",
         "175190.2136",
         "1.0"
        ],
        [
         "JACADI",
         "32817.427899999995",
         "0.0",
         "0.0"
        ],
        [
         "KIKO",
         "152461.522",
         "152461.522",
         "1.0"
        ],
        [
         "LC Waikiki",
         "9022.9362",
         "9022.9362",
         "1.0"
        ],
        [
         "LEFTIES",
         "857500.4395",
         "857500.4395",
         "1.0"
        ],
        [
         "LOCAL PERFUMES",
         "2689.904",
         "2689.904",
         "1.0"
        ],
        [
         "MASSIMO DUTTI",
         "240479.27169999998",
         "240479.27169999998",
         "1.0"
        ],
        [
         "MAYORAL",
         "23565.6575",
         "23565.6575",
         "1.0"
        ],
        [
         "NATURE REPUBLIC",
         "2676.556",
         "2676.556",
         "1.0"
        ],
        [
         "NEW YORKER",
         "159610.7957",
         "0.0",
         "0.0"
        ],
        [
         "OKAIDI",
         "168673.26",
         "0.0",
         "0.0"
        ],
        [
         "OYSHO",
         "164964.7386",
         "164964.7386",
         "1.0"
        ],
        [
         "PANCO",
         "55177.494399999996",
         "0.0",
         "0.0"
        ],
        [
         "PUBLIC DESIRE",
         "25506.510000000002",
         "25506.510000000002",
         "1.0"
        ],
        [
         "PULL AND BEAR",
         "498153.4162",
         "498153.4162",
         "1.0"
        ],
        [
         "SERGENT MAJOR",
         "45237.4675",
         "0.0",
         "0.0"
        ],
        [
         "SFERA",
         "38810.7888",
         "38810.788799999995",
         "0.9999999999999998"
        ],
        [
         "STRADIVARIOUS",
         "274287.1097",
         "274287.1097",
         "1.0"
        ],
        [
         "THE CHILDREN'S PLACE",
         "6731.4331999999995",
         "6731.4331999999995",
         "1.0"
        ],
        [
         "US POLO",
         "0.0",
         "0.0",
         null
        ],
        [
         "ZARA",
         "3359270.8503",
         "3359270.8502999996",
         "0.9999999999999999"
        ],
        [
         "ZARA HOME",
         "336280.9948",
         "336280.9948",
         "1.0"
        ]
       ],
       "shape": {
        "columns": 3,
        "rows": 29
       }
      },
      "text/html": [
       "<div>\n",
       "<style scoped>\n",
       "    .dataframe tbody tr th:only-of-type {\n",
       "        vertical-align: middle;\n",
       "    }\n",
       "\n",
       "    .dataframe tbody tr th {\n",
       "        vertical-align: top;\n",
       "    }\n",
       "\n",
       "    .dataframe thead th {\n",
       "        text-align: right;\n",
       "    }\n",
       "</style>\n",
       "<table border=\"1\" class=\"dataframe\">\n",
       "  <thead>\n",
       "    <tr style=\"text-align: right;\">\n",
       "      <th></th>\n",
       "      <th>NETTOTAL_COST</th>\n",
       "      <th>Total Provision</th>\n",
       "      <th>coverage</th>\n",
       "    </tr>\n",
       "    <tr>\n",
       "      <th>Std Brand</th>\n",
       "      <th></th>\n",
       "      <th></th>\n",
       "      <th></th>\n",
       "    </tr>\n",
       "  </thead>\n",
       "  <tbody>\n",
       "    <tr>\n",
       "      <th>ALO YOGA</th>\n",
       "      <td>23,730.11</td>\n",
       "      <td>23,730.11</td>\n",
       "      <td>1.00</td>\n",
       "    </tr>\n",
       "    <tr>\n",
       "      <th>BERSHKA</th>\n",
       "      <td>693,344.73</td>\n",
       "      <td>693,344.73</td>\n",
       "      <td>1.00</td>\n",
       "    </tr>\n",
       "    <tr>\n",
       "      <th>CLARKS</th>\n",
       "      <td>64,129.72</td>\n",
       "      <td>64,129.72</td>\n",
       "      <td>1.00</td>\n",
       "    </tr>\n",
       "    <tr>\n",
       "      <th>DESIGUAL</th>\n",
       "      <td>4,884.04</td>\n",
       "      <td>0.00</td>\n",
       "      <td>0.00</td>\n",
       "    </tr>\n",
       "    <tr>\n",
       "      <th>FG4 KIDS</th>\n",
       "      <td>179,666.22</td>\n",
       "      <td>179,666.22</td>\n",
       "      <td>1.00</td>\n",
       "    </tr>\n",
       "    <tr>\n",
       "      <th>FG4 WOMEN</th>\n",
       "      <td>260,973.89</td>\n",
       "      <td>260,973.89</td>\n",
       "      <td>1.00</td>\n",
       "    </tr>\n",
       "    <tr>\n",
       "      <th>FLYING TIGER</th>\n",
       "      <td>17,745.63</td>\n",
       "      <td>17,745.63</td>\n",
       "      <td>1.00</td>\n",
       "    </tr>\n",
       "    <tr>\n",
       "      <th>GAP</th>\n",
       "      <td>175,190.21</td>\n",
       "      <td>175,190.21</td>\n",
       "      <td>1.00</td>\n",
       "    </tr>\n",
       "    <tr>\n",
       "      <th>JACADI</th>\n",
       "      <td>32,817.43</td>\n",
       "      <td>0.00</td>\n",
       "      <td>0.00</td>\n",
       "    </tr>\n",
       "    <tr>\n",
       "      <th>KIKO</th>\n",
       "      <td>152,461.52</td>\n",
       "      <td>152,461.52</td>\n",
       "      <td>1.00</td>\n",
       "    </tr>\n",
       "    <tr>\n",
       "      <th>LC Waikiki</th>\n",
       "      <td>9,022.94</td>\n",
       "      <td>9,022.94</td>\n",
       "      <td>1.00</td>\n",
       "    </tr>\n",
       "    <tr>\n",
       "      <th>LEFTIES</th>\n",
       "      <td>857,500.44</td>\n",
       "      <td>857,500.44</td>\n",
       "      <td>1.00</td>\n",
       "    </tr>\n",
       "    <tr>\n",
       "      <th>LOCAL PERFUMES</th>\n",
       "      <td>2,689.90</td>\n",
       "      <td>2,689.90</td>\n",
       "      <td>1.00</td>\n",
       "    </tr>\n",
       "    <tr>\n",
       "      <th>MASSIMO DUTTI</th>\n",
       "      <td>240,479.27</td>\n",
       "      <td>240,479.27</td>\n",
       "      <td>1.00</td>\n",
       "    </tr>\n",
       "    <tr>\n",
       "      <th>MAYORAL</th>\n",
       "      <td>23,565.66</td>\n",
       "      <td>23,565.66</td>\n",
       "      <td>1.00</td>\n",
       "    </tr>\n",
       "    <tr>\n",
       "      <th>NATURE REPUBLIC</th>\n",
       "      <td>2,676.56</td>\n",
       "      <td>2,676.56</td>\n",
       "      <td>1.00</td>\n",
       "    </tr>\n",
       "    <tr>\n",
       "      <th>NEW YORKER</th>\n",
       "      <td>159,610.80</td>\n",
       "      <td>0.00</td>\n",
       "      <td>0.00</td>\n",
       "    </tr>\n",
       "    <tr>\n",
       "      <th>OKAIDI</th>\n",
       "      <td>168,673.26</td>\n",
       "      <td>0.00</td>\n",
       "      <td>0.00</td>\n",
       "    </tr>\n",
       "    <tr>\n",
       "      <th>OYSHO</th>\n",
       "      <td>164,964.74</td>\n",
       "      <td>164,964.74</td>\n",
       "      <td>1.00</td>\n",
       "    </tr>\n",
       "    <tr>\n",
       "      <th>PANCO</th>\n",
       "      <td>55,177.49</td>\n",
       "      <td>0.00</td>\n",
       "      <td>0.00</td>\n",
       "    </tr>\n",
       "    <tr>\n",
       "      <th>PUBLIC DESIRE</th>\n",
       "      <td>25,506.51</td>\n",
       "      <td>25,506.51</td>\n",
       "      <td>1.00</td>\n",
       "    </tr>\n",
       "    <tr>\n",
       "      <th>PULL AND BEAR</th>\n",
       "      <td>498,153.42</td>\n",
       "      <td>498,153.42</td>\n",
       "      <td>1.00</td>\n",
       "    </tr>\n",
       "    <tr>\n",
       "      <th>SERGENT MAJOR</th>\n",
       "      <td>45,237.47</td>\n",
       "      <td>0.00</td>\n",
       "      <td>0.00</td>\n",
       "    </tr>\n",
       "    <tr>\n",
       "      <th>SFERA</th>\n",
       "      <td>38,810.79</td>\n",
       "      <td>38,810.79</td>\n",
       "      <td>1.00</td>\n",
       "    </tr>\n",
       "    <tr>\n",
       "      <th>STRADIVARIOUS</th>\n",
       "      <td>274,287.11</td>\n",
       "      <td>274,287.11</td>\n",
       "      <td>1.00</td>\n",
       "    </tr>\n",
       "    <tr>\n",
       "      <th>THE CHILDREN'S PLACE</th>\n",
       "      <td>6,731.43</td>\n",
       "      <td>6,731.43</td>\n",
       "      <td>1.00</td>\n",
       "    </tr>\n",
       "    <tr>\n",
       "      <th>US POLO</th>\n",
       "      <td>0.00</td>\n",
       "      <td>0.00</td>\n",
       "      <td>NaN</td>\n",
       "    </tr>\n",
       "    <tr>\n",
       "      <th>ZARA</th>\n",
       "      <td>3,359,270.85</td>\n",
       "      <td>3,359,270.85</td>\n",
       "      <td>1.00</td>\n",
       "    </tr>\n",
       "    <tr>\n",
       "      <th>ZARA HOME</th>\n",
       "      <td>336,280.99</td>\n",
       "      <td>336,280.99</td>\n",
       "      <td>1.00</td>\n",
       "    </tr>\n",
       "  </tbody>\n",
       "</table>\n",
       "</div>"
      ],
      "text/plain": [
       "                      NETTOTAL_COST  Total Provision  coverage\n",
       "Std Brand                                                     \n",
       "ALO YOGA                  23,730.11        23,730.11      1.00\n",
       "BERSHKA                  693,344.73       693,344.73      1.00\n",
       "CLARKS                    64,129.72        64,129.72      1.00\n",
       "DESIGUAL                   4,884.04             0.00      0.00\n",
       "FG4 KIDS                 179,666.22       179,666.22      1.00\n",
       "FG4 WOMEN                260,973.89       260,973.89      1.00\n",
       "FLYING TIGER              17,745.63        17,745.63      1.00\n",
       "GAP                      175,190.21       175,190.21      1.00\n",
       "JACADI                    32,817.43             0.00      0.00\n",
       "KIKO                     152,461.52       152,461.52      1.00\n",
       "LC Waikiki                 9,022.94         9,022.94      1.00\n",
       "LEFTIES                  857,500.44       857,500.44      1.00\n",
       "LOCAL PERFUMES             2,689.90         2,689.90      1.00\n",
       "MASSIMO DUTTI            240,479.27       240,479.27      1.00\n",
       "MAYORAL                   23,565.66        23,565.66      1.00\n",
       "NATURE REPUBLIC            2,676.56         2,676.56      1.00\n",
       "NEW YORKER               159,610.80             0.00      0.00\n",
       "OKAIDI                   168,673.26             0.00      0.00\n",
       "OYSHO                    164,964.74       164,964.74      1.00\n",
       "PANCO                     55,177.49             0.00      0.00\n",
       "PUBLIC DESIRE             25,506.51        25,506.51      1.00\n",
       "PULL AND BEAR            498,153.42       498,153.42      1.00\n",
       "SERGENT MAJOR             45,237.47             0.00      0.00\n",
       "SFERA                     38,810.79        38,810.79      1.00\n",
       "STRADIVARIOUS            274,287.11       274,287.11      1.00\n",
       "THE CHILDREN'S PLACE       6,731.43         6,731.43      1.00\n",
       "US POLO                        0.00             0.00       NaN\n",
       "ZARA                   3,359,270.85     3,359,270.85      1.00\n",
       "ZARA HOME                336,280.99       336,280.99      1.00"
      ]
     },
     "execution_count": 105,
     "metadata": {},
     "output_type": "execute_result"
    }
   ],
   "source": [
    "damage_summary = soh_with_combinations[soh_with_combinations['location_catergory'] == 'Damage'].groupby('Std Brand')[['NETTOTAL_COST', 'Total Provision']].sum()\n",
    "damage_summary['coverage'] = damage_summary['Total Provision'] / damage_summary['NETTOTAL_COST']\n",
    "damage_summary"
   ]
  },
  {
   "cell_type": "code",
   "execution_count": 106,
   "id": "88394f4b",
   "metadata": {},
   "outputs": [
    {
     "data": {
      "application/vnd.microsoft.datawrangler.viewer.v0+json": {
       "columns": [
        {
         "name": "Std Brand",
         "rawType": "object",
         "type": "string"
        },
        {
         "name": "NETTOTAL_COST",
         "rawType": "float64",
         "type": "float"
        },
        {
         "name": "Total Provision",
         "rawType": "float64",
         "type": "float"
        },
        {
         "name": "coverage",
         "rawType": "float64",
         "type": "float"
        }
       ],
       "ref": "63ed0e7f-f814-478b-8ccb-99bcde326b28",
       "rows": [
        [
         "ALO YOGA",
         "22284.2299",
         "11142.11495",
         "0.5"
        ],
        [
         "ANOTAH",
         "24.52",
         "12.26",
         "0.5"
        ],
        [
         "BERSHKA",
         "2182564.1269",
         "327384.619035",
         "0.15"
        ],
        [
         "BOBBI BROWN",
         "0.0",
         "0.0",
         null
        ],
        [
         "CLARKS",
         "7080.8368",
         "3540.4184",
         "0.5"
        ],
        [
         "DESIGUAL",
         "5861.895",
         "0.0",
         "0.0"
        ],
        [
         "ELEMENT",
         "23661.4575",
         "11830.72875",
         "0.5"
        ],
        [
         "FG4 KIDS",
         "2071484.5379",
         "1035742.26895",
         "0.5"
        ],
        [
         "FG4 WOMEN",
         "648148.0234",
         "324074.0117",
         "0.5"
        ],
        [
         "FLYING TIGER",
         "24341.9899",
         "3651.2984850000003",
         "0.15"
        ],
        [
         "GAP",
         "14064139.8403",
         "7032069.92015",
         "0.5"
        ],
        [
         "JACADI",
         "1462767.9139",
         "0.0",
         "0.0"
        ],
        [
         "KIKO",
         "0.7153",
         "0.107295",
         "0.15"
        ],
        [
         "LC Waikiki",
         "230608.30610000002",
         "115304.15305000001",
         "0.5"
        ],
        [
         "LEFTIES",
         "7576386.7676",
         "1136458.01514",
         "0.15"
        ],
        [
         "LOCAL PERFUMES",
         "19557.6606",
         "2933.6490899999994",
         "0.14999999999999997"
        ],
        [
         "MANGO",
         "15049339.09",
         "0.0",
         "0.0"
        ],
        [
         "MASSIMO DUTTI",
         "1061965.9168",
         "159294.88752",
         "0.15"
        ],
        [
         "MAYORAL",
         "1396013.6468",
         "698006.8234",
         "0.5"
        ],
        [
         "MULTI BRAND",
         "2641.39",
         "1320.695",
         "0.5"
        ],
        [
         "NATURE REPUBLIC",
         "0.0",
         "0.0",
         null
        ],
        [
         "NEW YORKER",
         "101201.1582",
         "0.0",
         "0.0"
        ],
        [
         "OKAIDI",
         "2785725.1667",
         "0.0",
         "0.0"
        ],
        [
         "OYSHO",
         "492087.89040000003",
         "73813.18356",
         "0.15"
        ],
        [
         "PANCO",
         "591741.6703",
         "0.0",
         "0.0"
        ],
        [
         "PUBLIC DESIRE",
         "2687313.4657",
         "403097.019855",
         "0.15"
        ],
        [
         "PULL AND BEAR",
         "1675922.5265",
         "251388.37897499997",
         "0.15"
        ],
        [
         "SERGENT MAJOR",
         "804544.4426",
         "0.0",
         "0.0"
        ],
        [
         "SFERA",
         "1537829.0418",
         "768914.5209",
         "0.5"
        ],
        [
         "STRADIVARIOUS",
         "3113658.2863000003",
         "467048.74294500006",
         "0.15"
        ],
        [
         "TAP A L'OEIL",
         "-9.417999999999893",
         "0.0",
         "-0.0"
        ],
        [
         "THE CHILDREN'S PLACE",
         "1196336.1593",
         "598168.07965",
         "0.5"
        ],
        [
         "US POLO",
         "159005.269",
         "23850.79035",
         "0.15"
        ],
        [
         "ZARA",
         "10456695.0923",
         "1568504.263845",
         "0.15"
        ],
        [
         "ZARA HOME",
         "631656.2589",
         "94748.43883499998",
         "0.14999999999999997"
        ]
       ],
       "shape": {
        "columns": 3,
        "rows": 35
       }
      },
      "text/html": [
       "<div>\n",
       "<style scoped>\n",
       "    .dataframe tbody tr th:only-of-type {\n",
       "        vertical-align: middle;\n",
       "    }\n",
       "\n",
       "    .dataframe tbody tr th {\n",
       "        vertical-align: top;\n",
       "    }\n",
       "\n",
       "    .dataframe thead th {\n",
       "        text-align: right;\n",
       "    }\n",
       "</style>\n",
       "<table border=\"1\" class=\"dataframe\">\n",
       "  <thead>\n",
       "    <tr style=\"text-align: right;\">\n",
       "      <th></th>\n",
       "      <th>NETTOTAL_COST</th>\n",
       "      <th>Total Provision</th>\n",
       "      <th>coverage</th>\n",
       "    </tr>\n",
       "    <tr>\n",
       "      <th>Std Brand</th>\n",
       "      <th></th>\n",
       "      <th></th>\n",
       "      <th></th>\n",
       "    </tr>\n",
       "  </thead>\n",
       "  <tbody>\n",
       "    <tr>\n",
       "      <th>ALO YOGA</th>\n",
       "      <td>22,284.23</td>\n",
       "      <td>11,142.11</td>\n",
       "      <td>0.50</td>\n",
       "    </tr>\n",
       "    <tr>\n",
       "      <th>ANOTAH</th>\n",
       "      <td>24.52</td>\n",
       "      <td>12.26</td>\n",
       "      <td>0.50</td>\n",
       "    </tr>\n",
       "    <tr>\n",
       "      <th>BERSHKA</th>\n",
       "      <td>2,182,564.13</td>\n",
       "      <td>327,384.62</td>\n",
       "      <td>0.15</td>\n",
       "    </tr>\n",
       "    <tr>\n",
       "      <th>BOBBI BROWN</th>\n",
       "      <td>0.00</td>\n",
       "      <td>0.00</td>\n",
       "      <td>NaN</td>\n",
       "    </tr>\n",
       "    <tr>\n",
       "      <th>CLARKS</th>\n",
       "      <td>7,080.84</td>\n",
       "      <td>3,540.42</td>\n",
       "      <td>0.50</td>\n",
       "    </tr>\n",
       "    <tr>\n",
       "      <th>DESIGUAL</th>\n",
       "      <td>5,861.90</td>\n",
       "      <td>0.00</td>\n",
       "      <td>0.00</td>\n",
       "    </tr>\n",
       "    <tr>\n",
       "      <th>ELEMENT</th>\n",
       "      <td>23,661.46</td>\n",
       "      <td>11,830.73</td>\n",
       "      <td>0.50</td>\n",
       "    </tr>\n",
       "    <tr>\n",
       "      <th>FG4 KIDS</th>\n",
       "      <td>2,071,484.54</td>\n",
       "      <td>1,035,742.27</td>\n",
       "      <td>0.50</td>\n",
       "    </tr>\n",
       "    <tr>\n",
       "      <th>FG4 WOMEN</th>\n",
       "      <td>648,148.02</td>\n",
       "      <td>324,074.01</td>\n",
       "      <td>0.50</td>\n",
       "    </tr>\n",
       "    <tr>\n",
       "      <th>FLYING TIGER</th>\n",
       "      <td>24,341.99</td>\n",
       "      <td>3,651.30</td>\n",
       "      <td>0.15</td>\n",
       "    </tr>\n",
       "    <tr>\n",
       "      <th>GAP</th>\n",
       "      <td>14,064,139.84</td>\n",
       "      <td>7,032,069.92</td>\n",
       "      <td>0.50</td>\n",
       "    </tr>\n",
       "    <tr>\n",
       "      <th>JACADI</th>\n",
       "      <td>1,462,767.91</td>\n",
       "      <td>0.00</td>\n",
       "      <td>0.00</td>\n",
       "    </tr>\n",
       "    <tr>\n",
       "      <th>KIKO</th>\n",
       "      <td>0.72</td>\n",
       "      <td>0.11</td>\n",
       "      <td>0.15</td>\n",
       "    </tr>\n",
       "    <tr>\n",
       "      <th>LC Waikiki</th>\n",
       "      <td>230,608.31</td>\n",
       "      <td>115,304.15</td>\n",
       "      <td>0.50</td>\n",
       "    </tr>\n",
       "    <tr>\n",
       "      <th>LEFTIES</th>\n",
       "      <td>7,576,386.77</td>\n",
       "      <td>1,136,458.02</td>\n",
       "      <td>0.15</td>\n",
       "    </tr>\n",
       "    <tr>\n",
       "      <th>LOCAL PERFUMES</th>\n",
       "      <td>19,557.66</td>\n",
       "      <td>2,933.65</td>\n",
       "      <td>0.15</td>\n",
       "    </tr>\n",
       "    <tr>\n",
       "      <th>MANGO</th>\n",
       "      <td>15,049,339.09</td>\n",
       "      <td>0.00</td>\n",
       "      <td>0.00</td>\n",
       "    </tr>\n",
       "    <tr>\n",
       "      <th>MASSIMO DUTTI</th>\n",
       "      <td>1,061,965.92</td>\n",
       "      <td>159,294.89</td>\n",
       "      <td>0.15</td>\n",
       "    </tr>\n",
       "    <tr>\n",
       "      <th>MAYORAL</th>\n",
       "      <td>1,396,013.65</td>\n",
       "      <td>698,006.82</td>\n",
       "      <td>0.50</td>\n",
       "    </tr>\n",
       "    <tr>\n",
       "      <th>MULTI BRAND</th>\n",
       "      <td>2,641.39</td>\n",
       "      <td>1,320.69</td>\n",
       "      <td>0.50</td>\n",
       "    </tr>\n",
       "    <tr>\n",
       "      <th>NATURE REPUBLIC</th>\n",
       "      <td>0.00</td>\n",
       "      <td>0.00</td>\n",
       "      <td>NaN</td>\n",
       "    </tr>\n",
       "    <tr>\n",
       "      <th>NEW YORKER</th>\n",
       "      <td>101,201.16</td>\n",
       "      <td>0.00</td>\n",
       "      <td>0.00</td>\n",
       "    </tr>\n",
       "    <tr>\n",
       "      <th>OKAIDI</th>\n",
       "      <td>2,785,725.17</td>\n",
       "      <td>0.00</td>\n",
       "      <td>0.00</td>\n",
       "    </tr>\n",
       "    <tr>\n",
       "      <th>OYSHO</th>\n",
       "      <td>492,087.89</td>\n",
       "      <td>73,813.18</td>\n",
       "      <td>0.15</td>\n",
       "    </tr>\n",
       "    <tr>\n",
       "      <th>PANCO</th>\n",
       "      <td>591,741.67</td>\n",
       "      <td>0.00</td>\n",
       "      <td>0.00</td>\n",
       "    </tr>\n",
       "    <tr>\n",
       "      <th>PUBLIC DESIRE</th>\n",
       "      <td>2,687,313.47</td>\n",
       "      <td>403,097.02</td>\n",
       "      <td>0.15</td>\n",
       "    </tr>\n",
       "    <tr>\n",
       "      <th>PULL AND BEAR</th>\n",
       "      <td>1,675,922.53</td>\n",
       "      <td>251,388.38</td>\n",
       "      <td>0.15</td>\n",
       "    </tr>\n",
       "    <tr>\n",
       "      <th>SERGENT MAJOR</th>\n",
       "      <td>804,544.44</td>\n",
       "      <td>0.00</td>\n",
       "      <td>0.00</td>\n",
       "    </tr>\n",
       "    <tr>\n",
       "      <th>SFERA</th>\n",
       "      <td>1,537,829.04</td>\n",
       "      <td>768,914.52</td>\n",
       "      <td>0.50</td>\n",
       "    </tr>\n",
       "    <tr>\n",
       "      <th>STRADIVARIOUS</th>\n",
       "      <td>3,113,658.29</td>\n",
       "      <td>467,048.74</td>\n",
       "      <td>0.15</td>\n",
       "    </tr>\n",
       "    <tr>\n",
       "      <th>TAP A L'OEIL</th>\n",
       "      <td>-9.42</td>\n",
       "      <td>0.00</td>\n",
       "      <td>-0.00</td>\n",
       "    </tr>\n",
       "    <tr>\n",
       "      <th>THE CHILDREN'S PLACE</th>\n",
       "      <td>1,196,336.16</td>\n",
       "      <td>598,168.08</td>\n",
       "      <td>0.50</td>\n",
       "    </tr>\n",
       "    <tr>\n",
       "      <th>US POLO</th>\n",
       "      <td>159,005.27</td>\n",
       "      <td>23,850.79</td>\n",
       "      <td>0.15</td>\n",
       "    </tr>\n",
       "    <tr>\n",
       "      <th>ZARA</th>\n",
       "      <td>10,456,695.09</td>\n",
       "      <td>1,568,504.26</td>\n",
       "      <td>0.15</td>\n",
       "    </tr>\n",
       "    <tr>\n",
       "      <th>ZARA HOME</th>\n",
       "      <td>631,656.26</td>\n",
       "      <td>94,748.44</td>\n",
       "      <td>0.15</td>\n",
       "    </tr>\n",
       "  </tbody>\n",
       "</table>\n",
       "</div>"
      ],
      "text/plain": [
       "                      NETTOTAL_COST  Total Provision  coverage\n",
       "Std Brand                                                     \n",
       "ALO YOGA                  22,284.23        11,142.11      0.50\n",
       "ANOTAH                        24.52            12.26      0.50\n",
       "BERSHKA                2,182,564.13       327,384.62      0.15\n",
       "BOBBI BROWN                    0.00             0.00       NaN\n",
       "CLARKS                     7,080.84         3,540.42      0.50\n",
       "DESIGUAL                   5,861.90             0.00      0.00\n",
       "ELEMENT                   23,661.46        11,830.73      0.50\n",
       "FG4 KIDS               2,071,484.54     1,035,742.27      0.50\n",
       "FG4 WOMEN                648,148.02       324,074.01      0.50\n",
       "FLYING TIGER              24,341.99         3,651.30      0.15\n",
       "GAP                   14,064,139.84     7,032,069.92      0.50\n",
       "JACADI                 1,462,767.91             0.00      0.00\n",
       "KIKO                           0.72             0.11      0.15\n",
       "LC Waikiki               230,608.31       115,304.15      0.50\n",
       "LEFTIES                7,576,386.77     1,136,458.02      0.15\n",
       "LOCAL PERFUMES            19,557.66         2,933.65      0.15\n",
       "MANGO                 15,049,339.09             0.00      0.00\n",
       "MASSIMO DUTTI          1,061,965.92       159,294.89      0.15\n",
       "MAYORAL                1,396,013.65       698,006.82      0.50\n",
       "MULTI BRAND                2,641.39         1,320.69      0.50\n",
       "NATURE REPUBLIC                0.00             0.00       NaN\n",
       "NEW YORKER               101,201.16             0.00      0.00\n",
       "OKAIDI                 2,785,725.17             0.00      0.00\n",
       "OYSHO                    492,087.89        73,813.18      0.15\n",
       "PANCO                    591,741.67             0.00      0.00\n",
       "PUBLIC DESIRE          2,687,313.47       403,097.02      0.15\n",
       "PULL AND BEAR          1,675,922.53       251,388.38      0.15\n",
       "SERGENT MAJOR            804,544.44             0.00      0.00\n",
       "SFERA                  1,537,829.04       768,914.52      0.50\n",
       "STRADIVARIOUS          3,113,658.29       467,048.74      0.15\n",
       "TAP A L'OEIL                  -9.42             0.00     -0.00\n",
       "THE CHILDREN'S PLACE   1,196,336.16       598,168.08      0.50\n",
       "US POLO                  159,005.27        23,850.79      0.15\n",
       "ZARA                  10,456,695.09     1,568,504.26      0.15\n",
       "ZARA HOME                631,656.26        94,748.44      0.15"
      ]
     },
     "execution_count": 106,
     "metadata": {},
     "output_type": "execute_result"
    }
   ],
   "source": [
    "leftover_summary = soh_with_combinations[soh_with_combinations['location_catergory'] == 'Leftover'].groupby('Std Brand')[['NETTOTAL_COST', 'Total Provision']].sum()\n",
    "leftover_summary['coverage'] = leftover_summary['Total Provision'] / leftover_summary['NETTOTAL_COST']\n",
    "leftover_summary"
   ]
  },
  {
   "cell_type": "code",
   "execution_count": 107,
   "id": "c6ad36ef",
   "metadata": {},
   "outputs": [
    {
     "data": {
      "application/vnd.microsoft.datawrangler.viewer.v0+json": {
       "columns": [
        {
         "name": "Std Brand",
         "rawType": "object",
         "type": "string"
        },
        {
         "name": "NETTOTAL_COST",
         "rawType": "float64",
         "type": "float"
        },
        {
         "name": "Total Provision",
         "rawType": "float64",
         "type": "float"
        },
        {
         "name": "coverage",
         "rawType": "float64",
         "type": "float"
        }
       ],
       "ref": "5ab78ba0-9c7f-4148-8ed9-ca9ef2f790c3",
       "rows": [
        [
         "AL MALKI",
         "0.0",
         "0.0",
         null
        ],
        [
         "ALO YOGA",
         "46014.3419",
         "34872.22695",
         "0.7578556056671539"
        ],
        [
         "ANOTAH",
         "24.5153",
         "12.25765",
         "0.5"
        ],
        [
         "BOBBI BROWN",
         "0.0",
         "0.0",
         null
        ],
        [
         "CLARKS",
         "71210.5568",
         "67670.1384",
         "0.9502823940845804"
        ],
        [
         "DESIGUAL",
         "10745.936",
         "0.0",
         "0.0"
        ],
        [
         "ELEMENT",
         "23661.4589",
         "11830.72945",
         "0.5"
        ],
        [
         "FG4 KIDS",
         "2263007.608",
         "1221336.9156",
         "0.5396963365401112"
        ],
        [
         "FG4 WOMEN",
         "909061.7903",
         "585017.84115",
         "0.6435402382900044"
        ],
        [
         "GAP",
         "14491794.2465",
         "7333492.23005",
         "0.5060444624944324"
        ],
        [
         "JACADI",
         "1495585.3418",
         "0.0",
         "0.0"
        ],
        [
         "LC Waikiki",
         "6506178.2853",
         "3257600.61075",
         "0.5006934129226359"
        ],
        [
         "MARKS AND SPENCERS",
         "0.0",
         "0.0",
         null
        ],
        [
         "MAYORAL",
         "1434108.9996",
         "728837.32855",
         "0.5082161319350805"
        ],
        [
         "MULTI BRAND",
         "2641.39",
         "1320.695",
         "0.5"
        ],
        [
         "NATURE REPUBLIC",
         "2676.5559999999996",
         "2676.5559999999996",
         "1.0"
        ],
        [
         "PEOPLE",
         "20120.196",
         "10060.098",
         "0.5"
        ],
        [
         "SERGENT MAJOR",
         "874325.7239",
         "0.0",
         "0.0"
        ],
        [
         "SFERA",
         "1586894.0818",
         "812852.4353",
         "0.5122285378857728"
        ],
        [
         "TAP A L'OEIL",
         "-9.417999999999893",
         "0.0",
         "-0.0"
        ],
        [
         "THE CHILDREN'S PLACE",
         "1213232.2184",
         "609981.8258",
         "0.5027741734426067"
        ]
       ],
       "shape": {
        "columns": 3,
        "rows": 21
       }
      },
      "text/html": [
       "<div>\n",
       "<style scoped>\n",
       "    .dataframe tbody tr th:only-of-type {\n",
       "        vertical-align: middle;\n",
       "    }\n",
       "\n",
       "    .dataframe tbody tr th {\n",
       "        vertical-align: top;\n",
       "    }\n",
       "\n",
       "    .dataframe thead th {\n",
       "        text-align: right;\n",
       "    }\n",
       "</style>\n",
       "<table border=\"1\" class=\"dataframe\">\n",
       "  <thead>\n",
       "    <tr style=\"text-align: right;\">\n",
       "      <th></th>\n",
       "      <th>NETTOTAL_COST</th>\n",
       "      <th>Total Provision</th>\n",
       "      <th>coverage</th>\n",
       "    </tr>\n",
       "    <tr>\n",
       "      <th>Std Brand</th>\n",
       "      <th></th>\n",
       "      <th></th>\n",
       "      <th></th>\n",
       "    </tr>\n",
       "  </thead>\n",
       "  <tbody>\n",
       "    <tr>\n",
       "      <th>AL MALKI</th>\n",
       "      <td>0.00</td>\n",
       "      <td>0.00</td>\n",
       "      <td>NaN</td>\n",
       "    </tr>\n",
       "    <tr>\n",
       "      <th>ALO YOGA</th>\n",
       "      <td>46,014.34</td>\n",
       "      <td>34,872.23</td>\n",
       "      <td>0.76</td>\n",
       "    </tr>\n",
       "    <tr>\n",
       "      <th>ANOTAH</th>\n",
       "      <td>24.52</td>\n",
       "      <td>12.26</td>\n",
       "      <td>0.50</td>\n",
       "    </tr>\n",
       "    <tr>\n",
       "      <th>BOBBI BROWN</th>\n",
       "      <td>0.00</td>\n",
       "      <td>0.00</td>\n",
       "      <td>NaN</td>\n",
       "    </tr>\n",
       "    <tr>\n",
       "      <th>CLARKS</th>\n",
       "      <td>71,210.56</td>\n",
       "      <td>67,670.14</td>\n",
       "      <td>0.95</td>\n",
       "    </tr>\n",
       "    <tr>\n",
       "      <th>DESIGUAL</th>\n",
       "      <td>10,745.94</td>\n",
       "      <td>0.00</td>\n",
       "      <td>0.00</td>\n",
       "    </tr>\n",
       "    <tr>\n",
       "      <th>ELEMENT</th>\n",
       "      <td>23,661.46</td>\n",
       "      <td>11,830.73</td>\n",
       "      <td>0.50</td>\n",
       "    </tr>\n",
       "    <tr>\n",
       "      <th>FG4 KIDS</th>\n",
       "      <td>2,263,007.61</td>\n",
       "      <td>1,221,336.92</td>\n",
       "      <td>0.54</td>\n",
       "    </tr>\n",
       "    <tr>\n",
       "      <th>FG4 WOMEN</th>\n",
       "      <td>909,061.79</td>\n",
       "      <td>585,017.84</td>\n",
       "      <td>0.64</td>\n",
       "    </tr>\n",
       "    <tr>\n",
       "      <th>GAP</th>\n",
       "      <td>14,491,794.25</td>\n",
       "      <td>7,333,492.23</td>\n",
       "      <td>0.51</td>\n",
       "    </tr>\n",
       "    <tr>\n",
       "      <th>JACADI</th>\n",
       "      <td>1,495,585.34</td>\n",
       "      <td>0.00</td>\n",
       "      <td>0.00</td>\n",
       "    </tr>\n",
       "    <tr>\n",
       "      <th>LC Waikiki</th>\n",
       "      <td>6,506,178.29</td>\n",
       "      <td>3,257,600.61</td>\n",
       "      <td>0.50</td>\n",
       "    </tr>\n",
       "    <tr>\n",
       "      <th>MARKS AND SPENCERS</th>\n",
       "      <td>0.00</td>\n",
       "      <td>0.00</td>\n",
       "      <td>NaN</td>\n",
       "    </tr>\n",
       "    <tr>\n",
       "      <th>MAYORAL</th>\n",
       "      <td>1,434,109.00</td>\n",
       "      <td>728,837.33</td>\n",
       "      <td>0.51</td>\n",
       "    </tr>\n",
       "    <tr>\n",
       "      <th>MULTI BRAND</th>\n",
       "      <td>2,641.39</td>\n",
       "      <td>1,320.69</td>\n",
       "      <td>0.50</td>\n",
       "    </tr>\n",
       "    <tr>\n",
       "      <th>NATURE REPUBLIC</th>\n",
       "      <td>2,676.56</td>\n",
       "      <td>2,676.56</td>\n",
       "      <td>1.00</td>\n",
       "    </tr>\n",
       "    <tr>\n",
       "      <th>PEOPLE</th>\n",
       "      <td>20,120.20</td>\n",
       "      <td>10,060.10</td>\n",
       "      <td>0.50</td>\n",
       "    </tr>\n",
       "    <tr>\n",
       "      <th>SERGENT MAJOR</th>\n",
       "      <td>874,325.72</td>\n",
       "      <td>0.00</td>\n",
       "      <td>0.00</td>\n",
       "    </tr>\n",
       "    <tr>\n",
       "      <th>SFERA</th>\n",
       "      <td>1,586,894.08</td>\n",
       "      <td>812,852.44</td>\n",
       "      <td>0.51</td>\n",
       "    </tr>\n",
       "    <tr>\n",
       "      <th>TAP A L'OEIL</th>\n",
       "      <td>-9.42</td>\n",
       "      <td>0.00</td>\n",
       "      <td>-0.00</td>\n",
       "    </tr>\n",
       "    <tr>\n",
       "      <th>THE CHILDREN'S PLACE</th>\n",
       "      <td>1,213,232.22</td>\n",
       "      <td>609,981.83</td>\n",
       "      <td>0.50</td>\n",
       "    </tr>\n",
       "  </tbody>\n",
       "</table>\n",
       "</div>"
      ],
      "text/plain": [
       "                      NETTOTAL_COST  Total Provision  coverage\n",
       "Std Brand                                                     \n",
       "AL MALKI                       0.00             0.00       NaN\n",
       "ALO YOGA                  46,014.34        34,872.23      0.76\n",
       "ANOTAH                        24.52            12.26      0.50\n",
       "BOBBI BROWN                    0.00             0.00       NaN\n",
       "CLARKS                    71,210.56        67,670.14      0.95\n",
       "DESIGUAL                  10,745.94             0.00      0.00\n",
       "ELEMENT                   23,661.46        11,830.73      0.50\n",
       "FG4 KIDS               2,263,007.61     1,221,336.92      0.54\n",
       "FG4 WOMEN                909,061.79       585,017.84      0.64\n",
       "GAP                   14,491,794.25     7,333,492.23      0.51\n",
       "JACADI                 1,495,585.34             0.00      0.00\n",
       "LC Waikiki             6,506,178.29     3,257,600.61      0.50\n",
       "MARKS AND SPENCERS             0.00             0.00       NaN\n",
       "MAYORAL                1,434,109.00       728,837.33      0.51\n",
       "MULTI BRAND                2,641.39         1,320.69      0.50\n",
       "NATURE REPUBLIC            2,676.56         2,676.56      1.00\n",
       "PEOPLE                    20,120.20        10,060.10      0.50\n",
       "SERGENT MAJOR            874,325.72             0.00      0.00\n",
       "SFERA                  1,586,894.08       812,852.44      0.51\n",
       "TAP A L'OEIL                  -9.42             0.00     -0.00\n",
       "THE CHILDREN'S PLACE   1,213,232.22       609,981.83      0.50"
      ]
     },
     "execution_count": 107,
     "metadata": {},
     "output_type": "execute_result"
    }
   ],
   "source": [
    "closed_summary = soh_with_combinations[soh_with_combinations['Closed_status'] == 'Closed'].groupby('Std Brand')[['NETTOTAL_COST', 'Total Provision']].sum()\n",
    "closed_summary['coverage'] = closed_summary['Total Provision'] / closed_summary['NETTOTAL_COST']\n",
    "closed_summary"
   ]
  },
  {
   "cell_type": "markdown",
   "id": "14f4f631",
   "metadata": {},
   "source": [
    "checks"
   ]
  },
  {
   "cell_type": "code",
   "execution_count": 108,
   "id": "76d69bfb",
   "metadata": {},
   "outputs": [],
   "source": [
    "# verify the original seasons in the std buckets \n",
    "check_buckets = soh[['season_bucket','std_season' ]].drop_duplicates()"
   ]
  },
  {
   "cell_type": "code",
   "execution_count": 109,
   "id": "fda22e40",
   "metadata": {},
   "outputs": [],
   "source": [
    "# verify the seasons in the correct buckets \n",
    "check_season = soh[['std_season', original_season]].drop_duplicates()"
   ]
  },
  {
   "cell_type": "code",
   "execution_count": 110,
   "id": "0a4067c6",
   "metadata": {},
   "outputs": [],
   "source": [
    "#missing combinations in output\n",
    "missing_combinations = soh_with_combinations[(soh_with_combinations['NETTOTAL_COST'] != 0)&(soh_with_combinations['s1'].isna())] "
   ]
  },
  {
   "cell_type": "code",
   "execution_count": 111,
   "id": "f742a738",
   "metadata": {},
   "outputs": [
    {
     "name": "stdout",
     "output_type": "stream",
     "text": [
      "Missing values in SOH key columns: 18\n",
      "Duplicate original brand names in mapping: 0\n",
      "Std Brands in SOH missing from mapping: {nan}\n",
      "Std Brands in mapping missing from SOH: {'MONSOON ACCESSORIZE', 'IPEKYOL', \"WOMEN'S SECRET\", 'MACHKA', 'ESTEE LAUDER', 'PEDRO', 'MARIE FRANCE', 'ALDO & ALDO ACCS', 'ADL', 'CHARLES & KEITH', 'LA VIE EN ROSE', 'NINE WEST', 'OXXO', 'ZIDDY KIDS', 'FLORMAR', 'TWIST', 'SPRING', 'SPRINGFIELDS', 'LASENZA'}\n",
      "Rows with garbage/unknown std_season: 1195\n",
      "Rows missing combination mapping: 0\n"
     ]
    }
   ],
   "source": [
    "# 1. Check for missing values in key columns\n",
    "missing_in_soh = soh[soh[['Std Brand', 'LOCATION_NAME', 'NETTOTAL_COST', 'std_season']].isnull().any(axis=1)]\n",
    "print(\"Missing values in SOH key columns:\", missing_in_soh.shape[0])\n",
    "\n",
    "\n",
    "# 3. Check for duplicates in mapping [original brand name]\n",
    "duplicates_mapping = mapping.duplicated(subset=['GROUP_NAME'], keep=False)\n",
    "print(\"Duplicate original brand names in mapping:\", mapping[duplicates_mapping].shape[0])\n",
    "\n",
    "# 4. Check for missing standard brands in mapping and SOH\n",
    "missing_std_brands_in_mapping = set(soh['Std Brand']) - set(mapping['Std Brand'])\n",
    "print(\"Std Brands in SOH missing from mapping:\", missing_std_brands_in_mapping)\n",
    "\n",
    "missing_std_brands_in_soh = set(mapping['Std Brand']) - set(soh['Std Brand'])\n",
    "print(\"Std Brands in mapping missing from SOH:\", missing_std_brands_in_soh)\n",
    "\n",
    "# 5. Check for garbage/unknown seasons in std_season\n",
    "garbage_seasons = soh[soh['std_season'].isin(['Unknown', 'Old-', 'AW97'])]\n",
    "print(\"Rows with garbage/unknown std_season:\", garbage_seasons.shape[0])\n",
    "\n",
    "# 6. Check for missing in combinations merge\n",
    "missing_comb_rows = soh_with_combinations[soh_with_combinations['s1'].isnull()]\n",
    "print(\"Rows missing combination mapping:\", missing_comb_rows.shape[0])\n"
   ]
  },
  {
   "cell_type": "code",
   "execution_count": 112,
   "id": "858666e4",
   "metadata": {},
   "outputs": [
    {
     "data": {
      "application/vnd.microsoft.datawrangler.viewer.v0+json": {
       "columns": [
        {
         "name": "Std Brand",
         "rawType": "object",
         "type": "string"
        },
        {
         "name": "NETTOTAL_COST",
         "rawType": "float64",
         "type": "float"
        }
       ],
       "ref": "65b64d58-7508-4882-906b-b903755ac0da",
       "rows": [
        [
         "BERSHKA",
         "-582951.03527"
        ],
        [
         "Decathlon",
         "-1863420.14222"
        ],
        [
         "LEFTIES",
         "-1507026.93176"
        ],
        [
         "MASSIMO DUTTI",
         "1728736.99014"
        ],
        [
         "OYSHO",
         "258426.76076000006"
        ],
        [
         "PULL AND BEAR",
         "1587360.97662"
        ],
        [
         "STRADIVARIOUS",
         "-225606.6594199998"
        ],
        [
         "ZARA",
         "-14801798.511780001"
        ],
        [
         "ZARA HOME",
         "102701.28493000002"
        ]
       ],
       "shape": {
        "columns": 1,
        "rows": 9
       }
      },
      "text/plain": [
       "Std Brand\n",
       "BERSHKA            -582,951.04\n",
       "Decathlon        -1,863,420.14\n",
       "LEFTIES          -1,507,026.93\n",
       "MASSIMO DUTTI     1,728,736.99\n",
       "OYSHO               258,426.76\n",
       "PULL AND BEAR     1,587,360.98\n",
       "STRADIVARIOUS      -225,606.66\n",
       "ZARA            -14,801,798.51\n",
       "ZARA HOME           102,701.28\n",
       "Name: NETTOTAL_COST, dtype: float64"
      ]
     },
     "execution_count": 112,
     "metadata": {},
     "output_type": "execute_result"
    }
   ],
   "source": [
    "soh_with_combinations[soh_with_combinations[original_season].isna() | (soh_with_combinations[original_season] == '')].groupby('Std Brand')['NETTOTAL_COST'].sum()"
   ]
  },
  {
   "cell_type": "code",
   "execution_count": 113,
   "id": "ac5c17ec",
   "metadata": {},
   "outputs": [
    {
     "data": {
      "text/plain": [
       "(-31003352.6327958, -34043425.849999994, 3040073.2172042)"
      ]
     },
     "execution_count": 113,
     "metadata": {},
     "output_type": "execute_result"
    }
   ],
   "source": [
    "completed_entry[completed_entry['s5']==23993]['Dr/(CR)'].sum(), existing_balances.iloc[:,-1].sum(),diff_entry[diff_entry['s5']==23993]['Dr/(CR)'].sum()"
   ]
  },
  {
   "cell_type": "code",
   "execution_count": 114,
   "id": "d6931559",
   "metadata": {},
   "outputs": [
    {
     "data": {
      "text/plain": [
       "(-31003352.6327958, -34043425.849999994, 3040073.2172042)"
      ]
     },
     "execution_count": 114,
     "metadata": {},
     "output_type": "execute_result"
    }
   ],
   "source": [
    "completed_entry[completed_entry['s5']==23993]['Dr/(CR)'].sum(), existing_balances.iloc[:,-1].sum(),diff_entry[diff_entry['s5']==23993]['Dr/(CR)'].sum()"
   ]
  },
  {
   "cell_type": "code",
   "execution_count": 115,
   "id": "a4086f59",
   "metadata": {},
   "outputs": [],
   "source": [
    "entry_check = existing_balances.iloc[:,-1].sum()+ diff_entry[diff_entry['s5']==23993]['Dr/(CR)'].sum() - completed_entry[completed_entry['s5']==23993]['Dr/(CR)'].sum()"
   ]
  },
  {
   "cell_type": "code",
   "execution_count": 116,
   "id": "fdeebb73",
   "metadata": {},
   "outputs": [
    {
     "name": "stdout",
     "output_type": "stream",
     "text": [
      "entry_check=0.00\n"
     ]
    }
   ],
   "source": [
    "print(f\"{entry_check=:,.2f}\")"
   ]
  },
  {
   "cell_type": "code",
   "execution_count": null,
   "id": "5040e395",
   "metadata": {},
   "outputs": [],
   "source": []
  }
 ],
 "metadata": {
  "kernelspec": {
   "display_name": "base",
   "language": "python",
   "name": "python3"
  },
  "language_info": {
   "codemirror_mode": {
    "name": "ipython",
    "version": 3
   },
   "file_extension": ".py",
   "mimetype": "text/x-python",
   "name": "python",
   "nbconvert_exporter": "python",
   "pygments_lexer": "ipython3",
   "version": "3.12.7"
  }
 },
 "nbformat": 4,
 "nbformat_minor": 5
}
